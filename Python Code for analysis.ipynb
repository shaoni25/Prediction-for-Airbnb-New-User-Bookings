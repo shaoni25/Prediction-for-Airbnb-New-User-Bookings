{
  "nbformat": 4,
  "nbformat_minor": 5,
  "metadata": {
    "colab": {
      "name": "AirBnbCode.ipynb",
      "provenance": [],
      "collapsed_sections": []
    },
    "kernelspec": {
      "display_name": "Python 3",
      "language": "python",
      "name": "python3"
    },
    "language_info": {
      "codemirror_mode": {
        "name": "ipython",
        "version": 3
      },
      "file_extension": ".py",
      "mimetype": "text/x-python",
      "name": "python",
      "nbconvert_exporter": "python",
      "pygments_lexer": "ipython3",
      "version": "3.8.8"
    }
  },
  "cells": [
    {
      "cell_type": "markdown",
      "metadata": {
        "id": "51df6af1-ad7b-49e5-aabd-5254ffeec44d"
      },
      "source": [
        "1.FeatureExploration"
      ],
      "id": "51df6af1-ad7b-49e5-aabd-5254ffeec44d"
    },
    {
      "cell_type": "code",
      "metadata": {
        "id": "058255c7-84e8-4094-bc45-b992ea0776ca"
      },
      "source": [
        "#Importing libraries \n",
        "import numpy as np\n",
        "import pandas as pd\n",
        "import matplotlib.pyplot as plt\n",
        "import sklearn as sk\n",
        "import datetime\n",
        "import seaborn as sns\n",
        "from datetime import date"
      ],
      "id": "058255c7-84e8-4094-bc45-b992ea0776ca",
      "execution_count": 1,
      "outputs": []
    },
    {
      "cell_type": "code",
      "metadata": {
        "id": "346e221e-0c48-4230-bfbc-dab98a1c3a8f"
      },
      "source": [
        "#Importing the dataset\n",
        "#data1 csv\n",
        "data1 = pd.read_csv(\"/content/train_users_2.csv\")\n",
        "#data2 csv\n",
        "data2 = pd.read_csv(\"/content/test_users.csv\")"
      ],
      "id": "346e221e-0c48-4230-bfbc-dab98a1c3a8f",
      "execution_count": 2,
      "outputs": []
    },
    {
      "cell_type": "code",
      "metadata": {
        "colab": {
          "base_uri": "https://localhost:8080/"
        },
        "id": "de64ecfe-8940-4d4a-aecc-0d16132a8984",
        "outputId": "69c585da-e163-4e64-f995-be9f31de9d7b"
      },
      "source": [
        "print('the columns name of data1 dataset:\\n',data1.columns)\n",
        "print('the columns name of data2 dataset:\\n',data2.columns)"
      ],
      "id": "de64ecfe-8940-4d4a-aecc-0d16132a8984",
      "execution_count": 3,
      "outputs": [
        {
          "output_type": "stream",
          "text": [
            "the columns name of data1 dataset:\n",
            " Index(['id', 'date_account_created', 'timestamp_first_active',\n",
            "       'date_first_booking', 'gender', 'age', 'signup_method', 'signup_flow',\n",
            "       'language', 'affiliate_channel', 'affiliate_provider',\n",
            "       'first_affiliate_tracked', 'signup_app', 'first_device_type',\n",
            "       'first_browser', 'country_destination'],\n",
            "      dtype='object')\n",
            "the columns name of data2 dataset:\n",
            " Index(['id', 'date_account_created', 'timestamp_first_active',\n",
            "       'date_first_booking', 'gender', 'age', 'signup_method', 'signup_flow',\n",
            "       'language', 'affiliate_channel', 'affiliate_provider',\n",
            "       'first_affiliate_tracked', 'signup_app', 'first_device_type',\n",
            "       'first_browser'],\n",
            "      dtype='object')\n"
          ],
          "name": "stdout"
        }
      ]
    },
    {
      "cell_type": "code",
      "metadata": {
        "colab": {
          "base_uri": "https://localhost:8080/",
          "height": 258
        },
        "id": "86ef580c-238d-443b-a8a9-abec88ab267b",
        "outputId": "170c8d7a-5709-475f-a036-92b1b8beb758"
      },
      "source": [
        "data1.head()"
      ],
      "id": "86ef580c-238d-443b-a8a9-abec88ab267b",
      "execution_count": 4,
      "outputs": [
        {
          "output_type": "execute_result",
          "data": {
            "text/html": [
              "<div>\n",
              "<style scoped>\n",
              "    .dataframe tbody tr th:only-of-type {\n",
              "        vertical-align: middle;\n",
              "    }\n",
              "\n",
              "    .dataframe tbody tr th {\n",
              "        vertical-align: top;\n",
              "    }\n",
              "\n",
              "    .dataframe thead th {\n",
              "        text-align: right;\n",
              "    }\n",
              "</style>\n",
              "<table border=\"1\" class=\"dataframe\">\n",
              "  <thead>\n",
              "    <tr style=\"text-align: right;\">\n",
              "      <th></th>\n",
              "      <th>id</th>\n",
              "      <th>date_account_created</th>\n",
              "      <th>timestamp_first_active</th>\n",
              "      <th>date_first_booking</th>\n",
              "      <th>gender</th>\n",
              "      <th>age</th>\n",
              "      <th>signup_method</th>\n",
              "      <th>signup_flow</th>\n",
              "      <th>language</th>\n",
              "      <th>affiliate_channel</th>\n",
              "      <th>affiliate_provider</th>\n",
              "      <th>first_affiliate_tracked</th>\n",
              "      <th>signup_app</th>\n",
              "      <th>first_device_type</th>\n",
              "      <th>first_browser</th>\n",
              "      <th>country_destination</th>\n",
              "    </tr>\n",
              "  </thead>\n",
              "  <tbody>\n",
              "    <tr>\n",
              "      <th>0</th>\n",
              "      <td>gxn3p5htnn</td>\n",
              "      <td>2010-06-28</td>\n",
              "      <td>20090319043255</td>\n",
              "      <td>NaN</td>\n",
              "      <td>-unknown-</td>\n",
              "      <td>NaN</td>\n",
              "      <td>facebook</td>\n",
              "      <td>0</td>\n",
              "      <td>en</td>\n",
              "      <td>direct</td>\n",
              "      <td>direct</td>\n",
              "      <td>untracked</td>\n",
              "      <td>Web</td>\n",
              "      <td>Mac Desktop</td>\n",
              "      <td>Chrome</td>\n",
              "      <td>NDF</td>\n",
              "    </tr>\n",
              "    <tr>\n",
              "      <th>1</th>\n",
              "      <td>820tgsjxq7</td>\n",
              "      <td>2011-05-25</td>\n",
              "      <td>20090523174809</td>\n",
              "      <td>NaN</td>\n",
              "      <td>MALE</td>\n",
              "      <td>38.0</td>\n",
              "      <td>facebook</td>\n",
              "      <td>0</td>\n",
              "      <td>en</td>\n",
              "      <td>seo</td>\n",
              "      <td>google</td>\n",
              "      <td>untracked</td>\n",
              "      <td>Web</td>\n",
              "      <td>Mac Desktop</td>\n",
              "      <td>Chrome</td>\n",
              "      <td>NDF</td>\n",
              "    </tr>\n",
              "    <tr>\n",
              "      <th>2</th>\n",
              "      <td>4ft3gnwmtx</td>\n",
              "      <td>2010-09-28</td>\n",
              "      <td>20090609231247</td>\n",
              "      <td>2010-08-02</td>\n",
              "      <td>FEMALE</td>\n",
              "      <td>56.0</td>\n",
              "      <td>basic</td>\n",
              "      <td>3</td>\n",
              "      <td>en</td>\n",
              "      <td>direct</td>\n",
              "      <td>direct</td>\n",
              "      <td>untracked</td>\n",
              "      <td>Web</td>\n",
              "      <td>Windows Desktop</td>\n",
              "      <td>IE</td>\n",
              "      <td>US</td>\n",
              "    </tr>\n",
              "    <tr>\n",
              "      <th>3</th>\n",
              "      <td>bjjt8pjhuk</td>\n",
              "      <td>2011-12-05</td>\n",
              "      <td>20091031060129</td>\n",
              "      <td>2012-09-08</td>\n",
              "      <td>FEMALE</td>\n",
              "      <td>42.0</td>\n",
              "      <td>facebook</td>\n",
              "      <td>0</td>\n",
              "      <td>en</td>\n",
              "      <td>direct</td>\n",
              "      <td>direct</td>\n",
              "      <td>untracked</td>\n",
              "      <td>Web</td>\n",
              "      <td>Mac Desktop</td>\n",
              "      <td>Firefox</td>\n",
              "      <td>other</td>\n",
              "    </tr>\n",
              "    <tr>\n",
              "      <th>4</th>\n",
              "      <td>87mebub9p4</td>\n",
              "      <td>2010-09-14</td>\n",
              "      <td>20091208061105</td>\n",
              "      <td>2010-02-18</td>\n",
              "      <td>-unknown-</td>\n",
              "      <td>41.0</td>\n",
              "      <td>basic</td>\n",
              "      <td>0</td>\n",
              "      <td>en</td>\n",
              "      <td>direct</td>\n",
              "      <td>direct</td>\n",
              "      <td>untracked</td>\n",
              "      <td>Web</td>\n",
              "      <td>Mac Desktop</td>\n",
              "      <td>Chrome</td>\n",
              "      <td>US</td>\n",
              "    </tr>\n",
              "  </tbody>\n",
              "</table>\n",
              "</div>"
            ],
            "text/plain": [
              "           id date_account_created  ...  first_browser country_destination\n",
              "0  gxn3p5htnn           2010-06-28  ...         Chrome                 NDF\n",
              "1  820tgsjxq7           2011-05-25  ...         Chrome                 NDF\n",
              "2  4ft3gnwmtx           2010-09-28  ...             IE                  US\n",
              "3  bjjt8pjhuk           2011-12-05  ...        Firefox               other\n",
              "4  87mebub9p4           2010-09-14  ...         Chrome                  US\n",
              "\n",
              "[5 rows x 16 columns]"
            ]
          },
          "metadata": {
            "tags": []
          },
          "execution_count": 4
        }
      ]
    },
    {
      "cell_type": "code",
      "metadata": {
        "colab": {
          "base_uri": "https://localhost:8080/",
          "height": 292
        },
        "id": "6ea4b50b-6b01-4bfb-9e3a-41f2e1f7ff89",
        "outputId": "82d1506f-f731-428b-cc8a-ebd58b264ef1"
      },
      "source": [
        "data2.head()"
      ],
      "id": "6ea4b50b-6b01-4bfb-9e3a-41f2e1f7ff89",
      "execution_count": 5,
      "outputs": [
        {
          "output_type": "execute_result",
          "data": {
            "text/html": [
              "<div>\n",
              "<style scoped>\n",
              "    .dataframe tbody tr th:only-of-type {\n",
              "        vertical-align: middle;\n",
              "    }\n",
              "\n",
              "    .dataframe tbody tr th {\n",
              "        vertical-align: top;\n",
              "    }\n",
              "\n",
              "    .dataframe thead th {\n",
              "        text-align: right;\n",
              "    }\n",
              "</style>\n",
              "<table border=\"1\" class=\"dataframe\">\n",
              "  <thead>\n",
              "    <tr style=\"text-align: right;\">\n",
              "      <th></th>\n",
              "      <th>id</th>\n",
              "      <th>date_account_created</th>\n",
              "      <th>timestamp_first_active</th>\n",
              "      <th>date_first_booking</th>\n",
              "      <th>gender</th>\n",
              "      <th>age</th>\n",
              "      <th>signup_method</th>\n",
              "      <th>signup_flow</th>\n",
              "      <th>language</th>\n",
              "      <th>affiliate_channel</th>\n",
              "      <th>affiliate_provider</th>\n",
              "      <th>first_affiliate_tracked</th>\n",
              "      <th>signup_app</th>\n",
              "      <th>first_device_type</th>\n",
              "      <th>first_browser</th>\n",
              "    </tr>\n",
              "  </thead>\n",
              "  <tbody>\n",
              "    <tr>\n",
              "      <th>0</th>\n",
              "      <td>5uwns89zht</td>\n",
              "      <td>2014-07-01</td>\n",
              "      <td>20140701000006</td>\n",
              "      <td>NaN</td>\n",
              "      <td>FEMALE</td>\n",
              "      <td>35.0</td>\n",
              "      <td>facebook</td>\n",
              "      <td>0</td>\n",
              "      <td>en</td>\n",
              "      <td>direct</td>\n",
              "      <td>direct</td>\n",
              "      <td>untracked</td>\n",
              "      <td>Moweb</td>\n",
              "      <td>iPhone</td>\n",
              "      <td>Mobile Safari</td>\n",
              "    </tr>\n",
              "    <tr>\n",
              "      <th>1</th>\n",
              "      <td>jtl0dijy2j</td>\n",
              "      <td>2014-07-01</td>\n",
              "      <td>20140701000051</td>\n",
              "      <td>NaN</td>\n",
              "      <td>-unknown-</td>\n",
              "      <td>NaN</td>\n",
              "      <td>basic</td>\n",
              "      <td>0</td>\n",
              "      <td>en</td>\n",
              "      <td>direct</td>\n",
              "      <td>direct</td>\n",
              "      <td>untracked</td>\n",
              "      <td>Moweb</td>\n",
              "      <td>iPhone</td>\n",
              "      <td>Mobile Safari</td>\n",
              "    </tr>\n",
              "    <tr>\n",
              "      <th>2</th>\n",
              "      <td>xx0ulgorjt</td>\n",
              "      <td>2014-07-01</td>\n",
              "      <td>20140701000148</td>\n",
              "      <td>NaN</td>\n",
              "      <td>-unknown-</td>\n",
              "      <td>NaN</td>\n",
              "      <td>basic</td>\n",
              "      <td>0</td>\n",
              "      <td>en</td>\n",
              "      <td>direct</td>\n",
              "      <td>direct</td>\n",
              "      <td>linked</td>\n",
              "      <td>Web</td>\n",
              "      <td>Windows Desktop</td>\n",
              "      <td>Chrome</td>\n",
              "    </tr>\n",
              "    <tr>\n",
              "      <th>3</th>\n",
              "      <td>6c6puo6ix0</td>\n",
              "      <td>2014-07-01</td>\n",
              "      <td>20140701000215</td>\n",
              "      <td>NaN</td>\n",
              "      <td>-unknown-</td>\n",
              "      <td>NaN</td>\n",
              "      <td>basic</td>\n",
              "      <td>0</td>\n",
              "      <td>en</td>\n",
              "      <td>direct</td>\n",
              "      <td>direct</td>\n",
              "      <td>linked</td>\n",
              "      <td>Web</td>\n",
              "      <td>Windows Desktop</td>\n",
              "      <td>IE</td>\n",
              "    </tr>\n",
              "    <tr>\n",
              "      <th>4</th>\n",
              "      <td>czqhjk3yfe</td>\n",
              "      <td>2014-07-01</td>\n",
              "      <td>20140701000305</td>\n",
              "      <td>NaN</td>\n",
              "      <td>-unknown-</td>\n",
              "      <td>NaN</td>\n",
              "      <td>basic</td>\n",
              "      <td>0</td>\n",
              "      <td>en</td>\n",
              "      <td>direct</td>\n",
              "      <td>direct</td>\n",
              "      <td>untracked</td>\n",
              "      <td>Web</td>\n",
              "      <td>Mac Desktop</td>\n",
              "      <td>Safari</td>\n",
              "    </tr>\n",
              "  </tbody>\n",
              "</table>\n",
              "</div>"
            ],
            "text/plain": [
              "           id date_account_created  ...  first_device_type  first_browser\n",
              "0  5uwns89zht           2014-07-01  ...             iPhone  Mobile Safari\n",
              "1  jtl0dijy2j           2014-07-01  ...             iPhone  Mobile Safari\n",
              "2  xx0ulgorjt           2014-07-01  ...    Windows Desktop         Chrome\n",
              "3  6c6puo6ix0           2014-07-01  ...    Windows Desktop             IE\n",
              "4  czqhjk3yfe           2014-07-01  ...        Mac Desktop         Safari\n",
              "\n",
              "[5 rows x 15 columns]"
            ]
          },
          "metadata": {
            "tags": []
          },
          "execution_count": 5
        }
      ]
    },
    {
      "cell_type": "code",
      "metadata": {
        "colab": {
          "base_uri": "https://localhost:8080/"
        },
        "id": "de51d40b-90f7-4035-993a-0b36be9c7871",
        "outputId": "fd85a3db-812e-41c1-9486-b75e51b9b74b"
      },
      "source": [
        "#Checking null values\n",
        "data1.isnull().sum()"
      ],
      "id": "de51d40b-90f7-4035-993a-0b36be9c7871",
      "execution_count": 6,
      "outputs": [
        {
          "output_type": "execute_result",
          "data": {
            "text/plain": [
              "id                              0\n",
              "date_account_created            0\n",
              "timestamp_first_active          0\n",
              "date_first_booking         124543\n",
              "gender                          0\n",
              "age                         87990\n",
              "signup_method                   0\n",
              "signup_flow                     0\n",
              "language                        0\n",
              "affiliate_channel               0\n",
              "affiliate_provider              0\n",
              "first_affiliate_tracked      6065\n",
              "signup_app                      0\n",
              "first_device_type               0\n",
              "first_browser                   0\n",
              "country_destination             0\n",
              "dtype: int64"
            ]
          },
          "metadata": {
            "tags": []
          },
          "execution_count": 6
        }
      ]
    },
    {
      "cell_type": "code",
      "metadata": {
        "colab": {
          "base_uri": "https://localhost:8080/",
          "height": 204
        },
        "id": "fe0d968a-e9cb-4ab7-8406-a6b8b0cc88ca",
        "outputId": "6afa4962-026f-4555-b0bf-792b68eb9d92"
      },
      "source": [
        "# sessions csv\n",
        "session = pd.read_csv(\"/content/sessions.csv\")\n",
        "session.head()"
      ],
      "id": "fe0d968a-e9cb-4ab7-8406-a6b8b0cc88ca",
      "execution_count": 7,
      "outputs": [
        {
          "output_type": "execute_result",
          "data": {
            "text/html": [
              "<div>\n",
              "<style scoped>\n",
              "    .dataframe tbody tr th:only-of-type {\n",
              "        vertical-align: middle;\n",
              "    }\n",
              "\n",
              "    .dataframe tbody tr th {\n",
              "        vertical-align: top;\n",
              "    }\n",
              "\n",
              "    .dataframe thead th {\n",
              "        text-align: right;\n",
              "    }\n",
              "</style>\n",
              "<table border=\"1\" class=\"dataframe\">\n",
              "  <thead>\n",
              "    <tr style=\"text-align: right;\">\n",
              "      <th></th>\n",
              "      <th>user_id</th>\n",
              "      <th>action</th>\n",
              "      <th>action_type</th>\n",
              "      <th>action_detail</th>\n",
              "      <th>device_type</th>\n",
              "      <th>secs_elapsed</th>\n",
              "    </tr>\n",
              "  </thead>\n",
              "  <tbody>\n",
              "    <tr>\n",
              "      <th>0</th>\n",
              "      <td>d1mm9tcy42</td>\n",
              "      <td>lookup</td>\n",
              "      <td>NaN</td>\n",
              "      <td>NaN</td>\n",
              "      <td>Windows Desktop</td>\n",
              "      <td>319.0</td>\n",
              "    </tr>\n",
              "    <tr>\n",
              "      <th>1</th>\n",
              "      <td>d1mm9tcy42</td>\n",
              "      <td>search_results</td>\n",
              "      <td>click</td>\n",
              "      <td>view_search_results</td>\n",
              "      <td>Windows Desktop</td>\n",
              "      <td>67753.0</td>\n",
              "    </tr>\n",
              "    <tr>\n",
              "      <th>2</th>\n",
              "      <td>d1mm9tcy42</td>\n",
              "      <td>lookup</td>\n",
              "      <td>NaN</td>\n",
              "      <td>NaN</td>\n",
              "      <td>Windows Desktop</td>\n",
              "      <td>301.0</td>\n",
              "    </tr>\n",
              "    <tr>\n",
              "      <th>3</th>\n",
              "      <td>d1mm9tcy42</td>\n",
              "      <td>search_results</td>\n",
              "      <td>click</td>\n",
              "      <td>view_search_results</td>\n",
              "      <td>Windows Desktop</td>\n",
              "      <td>22141.0</td>\n",
              "    </tr>\n",
              "    <tr>\n",
              "      <th>4</th>\n",
              "      <td>d1mm9tcy42</td>\n",
              "      <td>lookup</td>\n",
              "      <td>NaN</td>\n",
              "      <td>NaN</td>\n",
              "      <td>Windows Desktop</td>\n",
              "      <td>435.0</td>\n",
              "    </tr>\n",
              "  </tbody>\n",
              "</table>\n",
              "</div>"
            ],
            "text/plain": [
              "      user_id          action  ...      device_type secs_elapsed\n",
              "0  d1mm9tcy42          lookup  ...  Windows Desktop        319.0\n",
              "1  d1mm9tcy42  search_results  ...  Windows Desktop      67753.0\n",
              "2  d1mm9tcy42          lookup  ...  Windows Desktop        301.0\n",
              "3  d1mm9tcy42  search_results  ...  Windows Desktop      22141.0\n",
              "4  d1mm9tcy42          lookup  ...  Windows Desktop        435.0\n",
              "\n",
              "[5 rows x 6 columns]"
            ]
          },
          "metadata": {
            "tags": []
          },
          "execution_count": 7
        }
      ]
    },
    {
      "cell_type": "code",
      "metadata": {
        "colab": {
          "base_uri": "https://localhost:8080/"
        },
        "id": "f1fbf156-94c2-4663-8f65-dbb173c4e558",
        "outputId": "9ddd3cac-f655-4951-be11-c5ab2c173bc5"
      },
      "source": [
        "#Checking null values\n",
        "session.isnull().sum()"
      ],
      "id": "f1fbf156-94c2-4663-8f65-dbb173c4e558",
      "execution_count": 8,
      "outputs": [
        {
          "output_type": "execute_result",
          "data": {
            "text/plain": [
              "user_id            34496\n",
              "action             79626\n",
              "action_type      1126204\n",
              "action_detail    1126204\n",
              "device_type            0\n",
              "secs_elapsed      136031\n",
              "dtype: int64"
            ]
          },
          "metadata": {
            "tags": []
          },
          "execution_count": 8
        }
      ]
    },
    {
      "cell_type": "code",
      "metadata": {
        "colab": {
          "base_uri": "https://localhost:8080/",
          "height": 204
        },
        "id": "76d06cff-f643-4ffa-bdb4-156d5c761efc",
        "outputId": "e6500b2d-6f83-4f05-dd95-d877797212d8"
      },
      "source": [
        "session = session.dropna(subset = ['user_id'])\n",
        "session.head()"
      ],
      "id": "76d06cff-f643-4ffa-bdb4-156d5c761efc",
      "execution_count": 9,
      "outputs": [
        {
          "output_type": "execute_result",
          "data": {
            "text/html": [
              "<div>\n",
              "<style scoped>\n",
              "    .dataframe tbody tr th:only-of-type {\n",
              "        vertical-align: middle;\n",
              "    }\n",
              "\n",
              "    .dataframe tbody tr th {\n",
              "        vertical-align: top;\n",
              "    }\n",
              "\n",
              "    .dataframe thead th {\n",
              "        text-align: right;\n",
              "    }\n",
              "</style>\n",
              "<table border=\"1\" class=\"dataframe\">\n",
              "  <thead>\n",
              "    <tr style=\"text-align: right;\">\n",
              "      <th></th>\n",
              "      <th>user_id</th>\n",
              "      <th>action</th>\n",
              "      <th>action_type</th>\n",
              "      <th>action_detail</th>\n",
              "      <th>device_type</th>\n",
              "      <th>secs_elapsed</th>\n",
              "    </tr>\n",
              "  </thead>\n",
              "  <tbody>\n",
              "    <tr>\n",
              "      <th>0</th>\n",
              "      <td>d1mm9tcy42</td>\n",
              "      <td>lookup</td>\n",
              "      <td>NaN</td>\n",
              "      <td>NaN</td>\n",
              "      <td>Windows Desktop</td>\n",
              "      <td>319.0</td>\n",
              "    </tr>\n",
              "    <tr>\n",
              "      <th>1</th>\n",
              "      <td>d1mm9tcy42</td>\n",
              "      <td>search_results</td>\n",
              "      <td>click</td>\n",
              "      <td>view_search_results</td>\n",
              "      <td>Windows Desktop</td>\n",
              "      <td>67753.0</td>\n",
              "    </tr>\n",
              "    <tr>\n",
              "      <th>2</th>\n",
              "      <td>d1mm9tcy42</td>\n",
              "      <td>lookup</td>\n",
              "      <td>NaN</td>\n",
              "      <td>NaN</td>\n",
              "      <td>Windows Desktop</td>\n",
              "      <td>301.0</td>\n",
              "    </tr>\n",
              "    <tr>\n",
              "      <th>3</th>\n",
              "      <td>d1mm9tcy42</td>\n",
              "      <td>search_results</td>\n",
              "      <td>click</td>\n",
              "      <td>view_search_results</td>\n",
              "      <td>Windows Desktop</td>\n",
              "      <td>22141.0</td>\n",
              "    </tr>\n",
              "    <tr>\n",
              "      <th>4</th>\n",
              "      <td>d1mm9tcy42</td>\n",
              "      <td>lookup</td>\n",
              "      <td>NaN</td>\n",
              "      <td>NaN</td>\n",
              "      <td>Windows Desktop</td>\n",
              "      <td>435.0</td>\n",
              "    </tr>\n",
              "  </tbody>\n",
              "</table>\n",
              "</div>"
            ],
            "text/plain": [
              "      user_id          action  ...      device_type secs_elapsed\n",
              "0  d1mm9tcy42          lookup  ...  Windows Desktop        319.0\n",
              "1  d1mm9tcy42  search_results  ...  Windows Desktop      67753.0\n",
              "2  d1mm9tcy42          lookup  ...  Windows Desktop        301.0\n",
              "3  d1mm9tcy42  search_results  ...  Windows Desktop      22141.0\n",
              "4  d1mm9tcy42          lookup  ...  Windows Desktop        435.0\n",
              "\n",
              "[5 rows x 6 columns]"
            ]
          },
          "metadata": {
            "tags": []
          },
          "execution_count": 9
        }
      ]
    },
    {
      "cell_type": "code",
      "metadata": {
        "colab": {
          "base_uri": "https://localhost:8080/",
          "height": 289
        },
        "id": "3efcb110-7743-4878-b153-781f9edb0a77",
        "outputId": "6b7b46cc-a128-474c-ae34-b2d374cd09d3"
      },
      "source": [
        "session_concat = session.groupby('user_id', as_index=False).agg(lambda x: x.tolist())\n",
        "session_concat.head()"
      ],
      "id": "3efcb110-7743-4878-b153-781f9edb0a77",
      "execution_count": 10,
      "outputs": [
        {
          "output_type": "execute_result",
          "data": {
            "text/html": [
              "<div>\n",
              "<style scoped>\n",
              "    .dataframe tbody tr th:only-of-type {\n",
              "        vertical-align: middle;\n",
              "    }\n",
              "\n",
              "    .dataframe tbody tr th {\n",
              "        vertical-align: top;\n",
              "    }\n",
              "\n",
              "    .dataframe thead th {\n",
              "        text-align: right;\n",
              "    }\n",
              "</style>\n",
              "<table border=\"1\" class=\"dataframe\">\n",
              "  <thead>\n",
              "    <tr style=\"text-align: right;\">\n",
              "      <th></th>\n",
              "      <th>user_id</th>\n",
              "      <th>action</th>\n",
              "      <th>action_type</th>\n",
              "      <th>action_detail</th>\n",
              "      <th>device_type</th>\n",
              "      <th>secs_elapsed</th>\n",
              "    </tr>\n",
              "  </thead>\n",
              "  <tbody>\n",
              "    <tr>\n",
              "      <th>0</th>\n",
              "      <td>00023iyk9l</td>\n",
              "      <td>[index, dashboard, header_userpic, dashboard, ...</td>\n",
              "      <td>[view, view, data, view, partner_callback, mes...</td>\n",
              "      <td>[view_search_results, dashboard, header_userpi...</td>\n",
              "      <td>[Mac Desktop, Mac Desktop, Mac Desktop, Mac De...</td>\n",
              "      <td>[20438.0, 787.0, 850.0, 934.0, nan, 129817.0, ...</td>\n",
              "    </tr>\n",
              "    <tr>\n",
              "      <th>1</th>\n",
              "      <td>0010k6l0om</td>\n",
              "      <td>[search_results, show, personalize, show, sear...</td>\n",
              "      <td>[click, view, data, nan, click, click, nan, da...</td>\n",
              "      <td>[view_search_results, p3, wishlist_content_upd...</td>\n",
              "      <td>[Mac Desktop, Mac Desktop, Mac Desktop, Mac De...</td>\n",
              "      <td>[1708.0, 21260.0, 1223.0, 26.0, 847.0, 1230.0,...</td>\n",
              "    </tr>\n",
              "    <tr>\n",
              "      <th>2</th>\n",
              "      <td>001wyh0pz8</td>\n",
              "      <td>[search, search, search, show, social_connecti...</td>\n",
              "      <td>[click, click, click, view, data, -unknown-, v...</td>\n",
              "      <td>[view_search_results, view_search_results, vie...</td>\n",
              "      <td>[Android App Unknown Phone/Tablet, Android App...</td>\n",
              "      <td>[622.0, 1813.0, 1507.0, 6327.0, 927.0, 142.0, ...</td>\n",
              "    </tr>\n",
              "    <tr>\n",
              "      <th>3</th>\n",
              "      <td>0028jgx1x1</td>\n",
              "      <td>[show, reviews, show, search, show, search, re...</td>\n",
              "      <td>[view, data, view, click, view, click, data, s...</td>\n",
              "      <td>[user_profile, listing_reviews, p3, view_searc...</td>\n",
              "      <td>[-unknown-, -unknown-, -unknown-, -unknown-, -...</td>\n",
              "      <td>[6162.0, 75.0, 86.0, 13710.0, 25217.0, 10989.0...</td>\n",
              "    </tr>\n",
              "    <tr>\n",
              "      <th>4</th>\n",
              "      <td>002qnbzfs5</td>\n",
              "      <td>[social_connections, payment_methods, create, ...</td>\n",
              "      <td>[data, -unknown-, -unknown-, view, data, data,...</td>\n",
              "      <td>[user_social_connections, -unknown-, -unknown-...</td>\n",
              "      <td>[iPhone, iPhone, iPhone, iPhone, iPhone, iPhon...</td>\n",
              "      <td>[17135.0, 711.0, 274.0, 179.0, 483.0, 1.0, 782...</td>\n",
              "    </tr>\n",
              "  </tbody>\n",
              "</table>\n",
              "</div>"
            ],
            "text/plain": [
              "      user_id  ...                                       secs_elapsed\n",
              "0  00023iyk9l  ...  [20438.0, 787.0, 850.0, 934.0, nan, 129817.0, ...\n",
              "1  0010k6l0om  ...  [1708.0, 21260.0, 1223.0, 26.0, 847.0, 1230.0,...\n",
              "2  001wyh0pz8  ...  [622.0, 1813.0, 1507.0, 6327.0, 927.0, 142.0, ...\n",
              "3  0028jgx1x1  ...  [6162.0, 75.0, 86.0, 13710.0, 25217.0, 10989.0...\n",
              "4  002qnbzfs5  ...  [17135.0, 711.0, 274.0, 179.0, 483.0, 1.0, 782...\n",
              "\n",
              "[5 rows x 6 columns]"
            ]
          },
          "metadata": {
            "tags": []
          },
          "execution_count": 10
        }
      ]
    },
    {
      "cell_type": "code",
      "metadata": {
        "colab": {
          "base_uri": "https://localhost:8080/"
        },
        "id": "c43f488b-0e33-4507-a53a-3bdfb5e855f0",
        "outputId": "439af5be-35fc-42f4-8aea-324fba5e9677"
      },
      "source": [
        "# Join data1 and session df\n",
        "data1_merge = data1.merge(session_concat, left_on='id', right_on='user_id', how='inner')\n",
        "print(\"data1  :\",data1.shape)\n",
        "print(\"Session:\",session_concat.shape)\n",
        "print(\"Merge  :\",data1_merge.shape)\n",
        "print(\"No of users in data1 Data with session info:\",data1_merge.shape[0])\n",
        "print(\"{} / {} = {}\".format(data1_merge.shape[0],data1.shape[0],np.round((data1_merge.shape[0]/data1.shape[0]),2)))"
      ],
      "id": "c43f488b-0e33-4507-a53a-3bdfb5e855f0",
      "execution_count": 11,
      "outputs": [
        {
          "output_type": "stream",
          "text": [
            "data1  : (213451, 16)\n",
            "Session: (135483, 6)\n",
            "Merge  : (73815, 22)\n",
            "No of users in data1 Data with session info: 73815\n",
            "73815 / 213451 = 0.35\n"
          ],
          "name": "stdout"
        }
      ]
    },
    {
      "cell_type": "markdown",
      "metadata": {
        "id": "1358aa63-ebd1-4735-902a-1b807d6fae6b"
      },
      "source": [
        "only 35 % of users in data1 data have session info"
      ],
      "id": "1358aa63-ebd1-4735-902a-1b807d6fae6b"
    },
    {
      "cell_type": "code",
      "metadata": {
        "colab": {
          "base_uri": "https://localhost:8080/"
        },
        "id": "09f94ce6-ae94-4583-b0ef-fb9e7287c335",
        "outputId": "893e3334-dd8e-4daf-fa3e-ae2a60d95596"
      },
      "source": [
        "# Join data2 and session df\n",
        "data2_merge = data2.merge(session_concat, left_on='id', right_on='user_id', how='inner')\n",
        "print(\"data2  :\",data2.shape)\n",
        "print(\"Session:\",session_concat.shape)\n",
        "print(\"Merge  :\",data2_merge.shape)\n",
        "print(\"No of users in data2 Data with session info:\",data2_merge.shape[0])\n",
        "print(\"{} / {} = {}\".format(data2_merge.shape[0],data2.shape[0],np.round((data2_merge.shape[0]/data2.shape[0]),2)))"
      ],
      "id": "09f94ce6-ae94-4583-b0ef-fb9e7287c335",
      "execution_count": 12,
      "outputs": [
        {
          "output_type": "stream",
          "text": [
            "data2  : (62096, 15)\n",
            "Session: (135483, 6)\n",
            "Merge  : (61668, 21)\n",
            "No of users in data2 Data with session info: 61668\n",
            "61668 / 62096 = 0.99\n"
          ],
          "name": "stdout"
        }
      ]
    },
    {
      "cell_type": "markdown",
      "metadata": {
        "id": "e7545ea2-5a50-4468-bd62-26306fe94107"
      },
      "source": [
        "99% of the users in data2 data have sessions info"
      ],
      "id": "e7545ea2-5a50-4468-bd62-26306fe94107"
    },
    {
      "cell_type": "code",
      "metadata": {
        "colab": {
          "base_uri": "https://localhost:8080/"
        },
        "id": "d3b4e266-3fa3-48ef-9ef0-5b111e964b9e",
        "outputId": "58d37aaf-52b3-4422-d8b3-05b4c74d438b"
      },
      "source": [
        "#Using left join\n",
        "data2_merge = data2.merge(session_concat, left_on='id', right_on='user_id', how='left')\n",
        "print(\"data2  :\",data2.shape)\n",
        "print(\"Session:\",session_concat.shape)\n",
        "print(\"Merge  :\",data2_merge.shape)\n",
        "print(\"No of users in data2 Data with session info:\",data2_merge.shape[0])\n",
        "print(\"{} / {} = {}\".format(data2_merge.shape[0],data2.shape[0],np.round((data2_merge.shape[0]/data2.shape[0]),2)))"
      ],
      "id": "d3b4e266-3fa3-48ef-9ef0-5b111e964b9e",
      "execution_count": 13,
      "outputs": [
        {
          "output_type": "stream",
          "text": [
            "data2  : (62096, 15)\n",
            "Session: (135483, 6)\n",
            "Merge  : (62096, 21)\n",
            "No of users in data2 Data with session info: 62096\n",
            "62096 / 62096 = 1.0\n"
          ],
          "name": "stdout"
        }
      ]
    },
    {
      "cell_type": "markdown",
      "metadata": {
        "id": "f533e6f1-543f-4231-adfe-ba7043b29926"
      },
      "source": [
        "Exploratory data analysis"
      ],
      "id": "f533e6f1-543f-4231-adfe-ba7043b29926"
    },
    {
      "cell_type": "code",
      "metadata": {
        "colab": {
          "base_uri": "https://localhost:8080/",
          "height": 622
        },
        "id": "a6edb4a1-3013-4501-bac8-37fdeda8965d",
        "outputId": "e65b7b5e-136b-4287-fb4d-04a697a80522"
      },
      "source": [
        "#Plot of the target variable\n",
        "plt.figure(figsize=(20,10))\n",
        "ax = sns.countplot(x=\"country_destination\", data=data1)\n",
        "plt.title(\"country destination\")\n",
        "plt.show()"
      ],
      "id": "a6edb4a1-3013-4501-bac8-37fdeda8965d",
      "execution_count": 14,
      "outputs": [
        {
          "output_type": "display_data",
          "data": {
            "image/png": "[encoded data removed]",
            "text/plain": [
              "<Figure size 1440x720 with 1 Axes>"
            ]
          },
          "metadata": {
            "tags": [],
            "needs_background": "light"
          }
        }
      ]
    },
    {
      "cell_type": "code",
      "metadata": {
        "colab": {
          "base_uri": "https://localhost:8080/",
          "height": 621
        },
        "id": "cde11e0b-4207-4787-b656-d6b57209a39e",
        "outputId": "308ed088-4461-41b3-a633-fce364c67500"
      },
      "source": [
        "# distrbution of gender\n",
        "plt.figure(figsize=(20,10))\n",
        "ax = sns.countplot(x=\"gender\", data=data1)\n",
        "plt.title(\"gender\")\n",
        "plt.show()"
      ],
      "id": "cde11e0b-4207-4787-b656-d6b57209a39e",
      "execution_count": 15,
      "outputs": [
        {
          "output_type": "display_data",
          "data": {
            "image/png": "[encoded data removed]",
            "text/plain": [
              "<Figure size 1440x720 with 1 Axes>"
            ]
          },
          "metadata": {
            "tags": [],
            "needs_background": "light"
          }
        }
      ]
    },
    {
      "cell_type": "code",
      "metadata": {
        "colab": {
          "base_uri": "https://localhost:8080/",
          "height": 622
        },
        "id": "34a36f5a-677d-4305-b5c7-7bd9177665a6",
        "outputId": "e4ef5ea6-c6ce-4cbb-f2c0-f07d64cdcd0b"
      },
      "source": [
        "# distribution of signup_method\n",
        "plt.figure(figsize=(20,10))\n",
        "ax = sns.countplot(x=\"signup_method\", data=data1)\n",
        "plt.title(\"signup_method\")\n",
        "plt.show()"
      ],
      "id": "34a36f5a-677d-4305-b5c7-7bd9177665a6",
      "execution_count": 16,
      "outputs": [
        {
          "output_type": "display_data",
          "data": {
            "image/png": "[encoded data removed]",
            "text/plain": [
              "<Figure size 1440x720 with 1 Axes>"
            ]
          },
          "metadata": {
            "tags": [],
            "needs_background": "light"
          }
        }
      ]
    },
    {
      "cell_type": "code",
      "metadata": {
        "colab": {
          "base_uri": "https://localhost:8080/",
          "height": 621
        },
        "id": "7bb39a7d-541c-466e-8925-bec9ee5dd6b2",
        "outputId": "7ffa83f2-6b92-4b21-f71e-676fba607a1f"
      },
      "source": [
        "# distribution of language\n",
        "plt.figure(figsize=(20,10))\n",
        "ax = sns.countplot(x=\"language\", data=data1)\n",
        "plt.title(\"language\")\n",
        "plt.show()"
      ],
      "id": "7bb39a7d-541c-466e-8925-bec9ee5dd6b2",
      "execution_count": 17,
      "outputs": [
        {
          "output_type": "display_data",
          "data": {
            "image/png": "[encoded data removed]",
            "text/plain": [
              "<Figure size 1440x720 with 1 Axes>"
            ]
          },
          "metadata": {
            "tags": [],
            "needs_background": "light"
          }
        }
      ]
    },
    {
      "cell_type": "code",
      "metadata": {
        "colab": {
          "base_uri": "https://localhost:8080/",
          "height": 622
        },
        "id": "059b911c-f04d-40f4-9b99-dbfc7b181659",
        "outputId": "a36cf185-6873-48d4-d465-ee694685dd3b"
      },
      "source": [
        "# distribution of affiliate_channel\n",
        "plt.figure(figsize=(20,10))\n",
        "x = sns.countplot(x=\"affiliate_channel\", data=data1)\n",
        "plt.title(\"affiliate_channel\")\n",
        "plt.show()"
      ],
      "id": "059b911c-f04d-40f4-9b99-dbfc7b181659",
      "execution_count": 18,
      "outputs": [
        {
          "output_type": "display_data",
          "data": {
            "image/png": "[encoded data removed]",
            "text/plain": [
              "<Figure size 1440x720 with 1 Axes>"
            ]
          },
          "metadata": {
            "tags": [],
            "needs_background": "light"
          }
        }
      ]
    },
    {
      "cell_type": "code",
      "metadata": {
        "colab": {
          "base_uri": "https://localhost:8080/",
          "height": 622
        },
        "id": "0dfa13a7-78a6-487a-8f06-874b575b310b",
        "outputId": "ae910be9-f2f8-4f70-83b9-1a088ed498e1"
      },
      "source": [
        "# distrubution of first_browser\n",
        "plt.figure(figsize=(20,10))\n",
        "ax = sns.countplot(x=\"first_browser\", data=data1)\n",
        "plt.title(\"first_browser\")\n",
        "plt.show()"
      ],
      "id": "0dfa13a7-78a6-487a-8f06-874b575b310b",
      "execution_count": 19,
      "outputs": [
        {
          "output_type": "display_data",
          "data": {
            "image/png": "[encoded data removed]",
            "text/plain": [
              "<Figure size 1440x720 with 1 Axes>"
            ]
          },
          "metadata": {
            "tags": [],
            "needs_background": "light"
          }
        }
      ]
    },
    {
      "cell_type": "code",
      "metadata": {
        "colab": {
          "base_uri": "https://localhost:8080/",
          "height": 675
        },
        "id": "9ee3b227-3b21-4952-bd97-eb55bde5068f",
        "outputId": "e04cd36d-f16f-4220-d1af-cf59a2f173a7"
      },
      "source": [
        "# Age distribution\n",
        "plt.figure(figsize=(15,10))\n",
        "ax = sns.distplot(data1['age'].dropna(),label=\"Age\")\n",
        "ax.set_title('Age Distribution')\n",
        "ax.set(xlabel='Age', ylabel='PDF')\n",
        "plt.legend()\n",
        "plt.show()"
      ],
      "id": "9ee3b227-3b21-4952-bd97-eb55bde5068f",
      "execution_count": 20,
      "outputs": [
        {
          "output_type": "stream",
          "text": [
            "/usr/local/lib/python3.7/dist-packages/seaborn/distributions.py:2557: FutureWarning: `distplot` is a deprecated function and will be removed in a future version. Please adapt your code to use either `displot` (a figure-level function with similar flexibility) or `histplot` (an axes-level function for histograms).\n",
            "  warnings.warn(msg, FutureWarning)\n"
          ],
          "name": "stderr"
        },
        {
          "output_type": "display_data",
          "data": {
            "image/png": "[encoded data removed]",
            "text/plain": [
              "<Figure size 1080x720 with 1 Axes>"
            ]
          },
          "metadata": {
            "tags": [],
            "needs_background": "light"
          }
        }
      ]
    },
    {
      "cell_type": "markdown",
      "metadata": {
        "id": "a748c33a-b3c1-46e6-8a90-1d273dede8e0"
      },
      "source": [
        "There are multiple outliers in the age predictor"
      ],
      "id": "a748c33a-b3c1-46e6-8a90-1d273dede8e0"
    },
    {
      "cell_type": "code",
      "metadata": {
        "colab": {
          "base_uri": "https://localhost:8080/"
        },
        "id": "80eb8d2e-ff3f-46d4-80cf-7578018113ad",
        "outputId": "68bd9d8a-0e08-4ee7-e1af-5120146379bc"
      },
      "source": [
        "np.nanmedian(data1['age'])"
      ],
      "id": "80eb8d2e-ff3f-46d4-80cf-7578018113ad",
      "execution_count": 21,
      "outputs": [
        {
          "output_type": "execute_result",
          "data": {
            "text/plain": [
              "34.0"
            ]
          },
          "metadata": {
            "tags": []
          },
          "execution_count": 21
        }
      ]
    },
    {
      "cell_type": "code",
      "metadata": {
        "id": "29dbe47d-1ecb-4da3-96d9-2c92dfceddcc"
      },
      "source": [
        "#Function to replace age outlier with median value\n",
        "def medianAge(age):\n",
        "    if age<15.0 or age>100.0:\n",
        "        return 34.0\n",
        "    else:\n",
        "        return age\n",
        "\n",
        "data1['age'] = data1['age'].apply(medianAge)"
      ],
      "id": "29dbe47d-1ecb-4da3-96d9-2c92dfceddcc",
      "execution_count": 22,
      "outputs": []
    },
    {
      "cell_type": "code",
      "metadata": {
        "colab": {
          "base_uri": "https://localhost:8080/",
          "height": 675
        },
        "id": "3e1ce348-6624-4e82-bbd2-c81b8598d628",
        "outputId": "807efd60-27e3-4f32-c2cc-bda7837f17ff"
      },
      "source": [
        "# Age distribution\n",
        "plt.figure(figsize=(15,10))\n",
        "ax = sns.distplot(data1['age'].dropna(),label=\"Age\")\n",
        "ax.set_title('Age Distribution')\n",
        "ax.set(xlabel='Age', ylabel='PDF')\n",
        "plt.legend()\n",
        "plt.show()"
      ],
      "id": "3e1ce348-6624-4e82-bbd2-c81b8598d628",
      "execution_count": 23,
      "outputs": [
        {
          "output_type": "stream",
          "text": [
            "/usr/local/lib/python3.7/dist-packages/seaborn/distributions.py:2557: FutureWarning: `distplot` is a deprecated function and will be removed in a future version. Please adapt your code to use either `displot` (a figure-level function with similar flexibility) or `histplot` (an axes-level function for histograms).\n",
            "  warnings.warn(msg, FutureWarning)\n"
          ],
          "name": "stderr"
        },
        {
          "output_type": "display_data",
          "data": {
            "image/png": "[encoded data removed]",
            "text/plain": [
              "<Figure size 1080x720 with 1 Axes>"
            ]
          },
          "metadata": {
            "tags": [],
            "needs_background": "light"
          }
        }
      ]
    },
    {
      "cell_type": "code",
      "metadata": {
        "id": "8a072216-2079-4231-9c61-d33857e29bdc"
      },
      "source": [
        "# daily,monthly and yearly data\n",
        "data1['date_account_created'] = pd.to_datetime(data1['date_account_created'])\n",
        "data1['date_account_created_day'] = data1.date_account_created.dt.weekday\n",
        "data1['date_account_created_month'] = data1.date_account_created.dt.month\n",
        "data1['date_account_created_year'] = data1.date_account_created.dt.year"
      ],
      "id": "8a072216-2079-4231-9c61-d33857e29bdc",
      "execution_count": 24,
      "outputs": []
    },
    {
      "cell_type": "code",
      "metadata": {
        "colab": {
          "base_uri": "https://localhost:8080/",
          "height": 627
        },
        "id": "e7e2f0ae-1c87-4a82-9830-51bae18330e5",
        "outputId": "30729180-98d6-4477-9cee-50ec7e1a2d4d"
      },
      "source": [
        "# date_account_created_day share\n",
        "plt.figure(figsize=(20,10))\n",
        "sns.set(style=\"darkgrid\")\n",
        "ax = sns.countplot(x=\"date_account_created_day\", data=data1)\n",
        "plt.title(\"date_account_created_day\")\n",
        "plt.show()"
      ],
      "id": "e7e2f0ae-1c87-4a82-9830-51bae18330e5",
      "execution_count": 25,
      "outputs": [
        {
          "output_type": "display_data",
          "data": {
            "image/png": "[encoded data removed]",
            "text/plain": [
              "<Figure size 1440x720 with 1 Axes>"
            ]
          },
          "metadata": {
            "tags": [],
            "needs_background": "light"
          }
        }
      ]
    },
    {
      "cell_type": "code",
      "metadata": {
        "colab": {
          "base_uri": "https://localhost:8080/",
          "height": 627
        },
        "id": "cedfd157-fb1a-498b-a731-39d2ab0e80b6",
        "outputId": "38b7abbf-c219-4026-aadd-f4be052ea381"
      },
      "source": [
        "# date_account_created_day share\n",
        "plt.figure(figsize=(20,10))\n",
        "sns.set(style=\"darkgrid\")\n",
        "ax = sns.countplot(x=\"date_account_created_month\", data=data1)\n",
        "plt.title(\"date_account_created_month\")\n",
        "plt.show()"
      ],
      "id": "cedfd157-fb1a-498b-a731-39d2ab0e80b6",
      "execution_count": 26,
      "outputs": [
        {
          "output_type": "display_data",
          "data": {
            "image/png": "[encoded data removed]",
            "text/plain": [
              "<Figure size 1440x720 with 1 Axes>"
            ]
          },
          "metadata": {
            "tags": []
          }
        }
      ]
    },
    {
      "cell_type": "code",
      "metadata": {
        "colab": {
          "base_uri": "https://localhost:8080/",
          "height": 627
        },
        "id": "1e70de6e-a32a-49ad-83fa-ec19e8b0a329",
        "outputId": "29197e20-8171-417e-a3da-484760a0642a"
      },
      "source": [
        "# date_account_created_day share\n",
        "plt.figure(figsize=(20,10))\n",
        "sns.set(style=\"darkgrid\")\n",
        "ax = sns.countplot(x=\"date_account_created_year\", data=data1)\n",
        "plt.title(\"date_account_created_year\")\n",
        "plt.show()"
      ],
      "id": "1e70de6e-a32a-49ad-83fa-ec19e8b0a329",
      "execution_count": 27,
      "outputs": [
        {
          "output_type": "display_data",
          "data": {
            "image/png": "[encoded data removed]",
            "text/plain": [
              "<Figure size 1440x720 with 1 Axes>"
            ]
          },
          "metadata": {
            "tags": []
          }
        }
      ]
    },
    {
      "cell_type": "code",
      "metadata": {
        "colab": {
          "base_uri": "https://localhost:8080/",
          "height": 627
        },
        "id": "3e4a5426-2c69-4a32-9b56-313d61ed51b1",
        "outputId": "0c2f519c-3b8a-42d2-8d1d-9b7c5c1be8a4"
      },
      "source": [
        "\n",
        "# gender share\n",
        "plt.figure(figsize=(20,10))\n",
        "sns.set(style=\"darkgrid\")\n",
        "ax = sns.countplot(x=\"gender\", hue=\"country_destination\", data=data1)\n",
        "plt.title(\"Gender vs Destination\")\n",
        "plt.show()"
      ],
      "id": "3e4a5426-2c69-4a32-9b56-313d61ed51b1",
      "execution_count": 28,
      "outputs": [
        {
          "output_type": "display_data",
          "data": {
            "image/png": "[encoded data removed]",
            "text/plain": [
              "<Figure size 1440x720 with 1 Axes>"
            ]
          },
          "metadata": {
            "tags": []
          }
        }
      ]
    },
    {
      "cell_type": "code",
      "metadata": {
        "colab": {
          "base_uri": "https://localhost:8080/",
          "height": 627
        },
        "id": "52695b88-4759-4365-a9e2-908d7e5bdf9e",
        "outputId": "7d723fc2-9413-4356-d1a5-c594b6382975"
      },
      "source": [
        "# signup_method share\n",
        "\n",
        "plt.figure(figsize=(20,10))\n",
        "\n",
        "sns.set(style=\"darkgrid\")\n",
        "\n",
        "ax = sns.countplot(x=\"signup_method\", hue=\"country_destination\", data=data1)\n",
        "\n",
        "plt.title(\"signup_method vs Destination\")\n",
        "\n",
        "plt.show()"
      ],
      "id": "52695b88-4759-4365-a9e2-908d7e5bdf9e",
      "execution_count": 29,
      "outputs": [
        {
          "output_type": "display_data",
          "data": {
            "image/png": "[encoded data removed]",
            "text/plain": [
              "<Figure size 1440x720 with 1 Axes>"
            ]
          },
          "metadata": {
            "tags": []
          }
        }
      ]
    },
    {
      "cell_type": "code",
      "metadata": {
        "colab": {
          "base_uri": "https://localhost:8080/",
          "height": 627
        },
        "id": "b4fdc2b9-a89d-43b1-996a-07345403950c",
        "outputId": "633c829c-b1e7-47d5-891b-975bef1b69a1"
      },
      "source": [
        "\n",
        "# signup_app share\n",
        "\n",
        "plt.figure(figsize=(20,10))\n",
        "\n",
        "sns.set(style=\"darkgrid\")\n",
        "\n",
        "ax = sns.countplot(x=\"signup_app\", hue=\"country_destination\", data=data1)\n",
        "\n",
        "plt.title(\"signup_app vs Destination\")\n",
        "\n",
        "plt.show()"
      ],
      "id": "b4fdc2b9-a89d-43b1-996a-07345403950c",
      "execution_count": 30,
      "outputs": [
        {
          "output_type": "display_data",
          "data": {
            "image/png": "[encoded data removed]",
            "text/plain": [
              "<Figure size 1440x720 with 1 Axes>"
            ]
          },
          "metadata": {
            "tags": []
          }
        }
      ]
    },
    {
      "cell_type": "code",
      "metadata": {
        "colab": {
          "base_uri": "https://localhost:8080/",
          "height": 627
        },
        "id": "493c5d9a-c6cc-443b-a10f-eb1bec542715",
        "outputId": "5ebc185e-0a6a-45c6-ba0b-0cad0e8f8a71"
      },
      "source": [
        "# first_device_type share\n",
        "\n",
        "plt.figure(figsize=(20,10))\n",
        "\n",
        "sns.set(style=\"darkgrid\")\n",
        "\n",
        "ax = sns.countplot(x=\"first_device_type\", hue=\"country_destination\", data=data1)\n",
        "\n",
        "plt.title(\"first_device_type vs Destination\")\n",
        "\n",
        "plt.show()"
      ],
      "id": "493c5d9a-c6cc-443b-a10f-eb1bec542715",
      "execution_count": 31,
      "outputs": [
        {
          "output_type": "display_data",
          "data": {
            "image/png": "[encoded data removed]",
            "text/plain": [
              "<Figure size 1440x720 with 1 Axes>"
            ]
          },
          "metadata": {
            "tags": []
          }
        }
      ]
    },
    {
      "cell_type": "markdown",
      "metadata": {
        "id": "9928609e-c289-413b-8b53-8815719412f4"
      },
      "source": [
        "Feauture Engineering"
      ],
      "id": "9928609e-c289-413b-8b53-8815719412f4"
    },
    {
      "cell_type": "code",
      "metadata": {
        "id": "bef62b8d-d9f5-4c6b-a08f-afcd1f0a6420"
      },
      "source": [
        "\n",
        "import pandas as pd\n",
        "import numpy as np\n",
        "import zipfile\n",
        "import os\n",
        "import seaborn as sns\n",
        "import matplotlib.pyplot as plt\n",
        "import warnings\n",
        "warnings.filterwarnings(\"ignore\")\n",
        "import re\n",
        "from wordcloud import WordCloud\n",
        "from tqdm import tqdm\n",
        "from sklearn.model_selection import train_test_split\n",
        "from datetime import datetime, date\n",
        "from sklearn.feature_extraction.text import TfidfVectorizer\n",
        "from scipy.sparse import coo_matrix\n",
        "from scipy.sparse import hstack\n",
        "from scipy.sparse import vstack\n",
        "from scipy import sparse\n",
        "from scipy.sparse import csr_matrix\n",
        "from sklearn.preprocessing import OneHotEncoder\n",
        "import pickle\n",
        "import joblib"
      ],
      "id": "bef62b8d-d9f5-4c6b-a08f-afcd1f0a6420",
      "execution_count": 32,
      "outputs": []
    },
    {
      "cell_type": "code",
      "metadata": {
        "colab": {
          "base_uri": "https://localhost:8080/",
          "height": 377
        },
        "id": "cf64f299-b2e6-416b-b37b-fe5a778ec129",
        "outputId": "e5a068fb-1a03-467d-ee8a-b5390b7ddca1"
      },
      "source": [
        "\n",
        "#data1 csv\n",
        "\n",
        "data1_df = pd.read_csv('/content/train_users_2.csv')\n",
        "\n",
        "print(data1_df.shape)\n",
        "\n",
        "print(data1_df.columns)\n",
        "\n",
        "data1_df.head()"
      ],
      "id": "cf64f299-b2e6-416b-b37b-fe5a778ec129",
      "execution_count": 33,
      "outputs": [
        {
          "output_type": "stream",
          "text": [
            "(213451, 16)\n",
            "Index(['id', 'date_account_created', 'timestamp_first_active',\n",
            "       'date_first_booking', 'gender', 'age', 'signup_method', 'signup_flow',\n",
            "       'language', 'affiliate_channel', 'affiliate_provider',\n",
            "       'first_affiliate_tracked', 'signup_app', 'first_device_type',\n",
            "       'first_browser', 'country_destination'],\n",
            "      dtype='object')\n"
          ],
          "name": "stdout"
        },
        {
          "output_type": "execute_result",
          "data": {
            "text/html": [
              "<div>\n",
              "<style scoped>\n",
              "    .dataframe tbody tr th:only-of-type {\n",
              "        vertical-align: middle;\n",
              "    }\n",
              "\n",
              "    .dataframe tbody tr th {\n",
              "        vertical-align: top;\n",
              "    }\n",
              "\n",
              "    .dataframe thead th {\n",
              "        text-align: right;\n",
              "    }\n",
              "</style>\n",
              "<table border=\"1\" class=\"dataframe\">\n",
              "  <thead>\n",
              "    <tr style=\"text-align: right;\">\n",
              "      <th></th>\n",
              "      <th>id</th>\n",
              "      <th>date_account_created</th>\n",
              "      <th>timestamp_first_active</th>\n",
              "      <th>date_first_booking</th>\n",
              "      <th>gender</th>\n",
              "      <th>age</th>\n",
              "      <th>signup_method</th>\n",
              "      <th>signup_flow</th>\n",
              "      <th>language</th>\n",
              "      <th>affiliate_channel</th>\n",
              "      <th>affiliate_provider</th>\n",
              "      <th>first_affiliate_tracked</th>\n",
              "      <th>signup_app</th>\n",
              "      <th>first_device_type</th>\n",
              "      <th>first_browser</th>\n",
              "      <th>country_destination</th>\n",
              "    </tr>\n",
              "  </thead>\n",
              "  <tbody>\n",
              "    <tr>\n",
              "      <th>0</th>\n",
              "      <td>gxn3p5htnn</td>\n",
              "      <td>2010-06-28</td>\n",
              "      <td>20090319043255</td>\n",
              "      <td>NaN</td>\n",
              "      <td>-unknown-</td>\n",
              "      <td>NaN</td>\n",
              "      <td>facebook</td>\n",
              "      <td>0</td>\n",
              "      <td>en</td>\n",
              "      <td>direct</td>\n",
              "      <td>direct</td>\n",
              "      <td>untracked</td>\n",
              "      <td>Web</td>\n",
              "      <td>Mac Desktop</td>\n",
              "      <td>Chrome</td>\n",
              "      <td>NDF</td>\n",
              "    </tr>\n",
              "    <tr>\n",
              "      <th>1</th>\n",
              "      <td>820tgsjxq7</td>\n",
              "      <td>2011-05-25</td>\n",
              "      <td>20090523174809</td>\n",
              "      <td>NaN</td>\n",
              "      <td>MALE</td>\n",
              "      <td>38.0</td>\n",
              "      <td>facebook</td>\n",
              "      <td>0</td>\n",
              "      <td>en</td>\n",
              "      <td>seo</td>\n",
              "      <td>google</td>\n",
              "      <td>untracked</td>\n",
              "      <td>Web</td>\n",
              "      <td>Mac Desktop</td>\n",
              "      <td>Chrome</td>\n",
              "      <td>NDF</td>\n",
              "    </tr>\n",
              "    <tr>\n",
              "      <th>2</th>\n",
              "      <td>4ft3gnwmtx</td>\n",
              "      <td>2010-09-28</td>\n",
              "      <td>20090609231247</td>\n",
              "      <td>2010-08-02</td>\n",
              "      <td>FEMALE</td>\n",
              "      <td>56.0</td>\n",
              "      <td>basic</td>\n",
              "      <td>3</td>\n",
              "      <td>en</td>\n",
              "      <td>direct</td>\n",
              "      <td>direct</td>\n",
              "      <td>untracked</td>\n",
              "      <td>Web</td>\n",
              "      <td>Windows Desktop</td>\n",
              "      <td>IE</td>\n",
              "      <td>US</td>\n",
              "    </tr>\n",
              "    <tr>\n",
              "      <th>3</th>\n",
              "      <td>bjjt8pjhuk</td>\n",
              "      <td>2011-12-05</td>\n",
              "      <td>20091031060129</td>\n",
              "      <td>2012-09-08</td>\n",
              "      <td>FEMALE</td>\n",
              "      <td>42.0</td>\n",
              "      <td>facebook</td>\n",
              "      <td>0</td>\n",
              "      <td>en</td>\n",
              "      <td>direct</td>\n",
              "      <td>direct</td>\n",
              "      <td>untracked</td>\n",
              "      <td>Web</td>\n",
              "      <td>Mac Desktop</td>\n",
              "      <td>Firefox</td>\n",
              "      <td>other</td>\n",
              "    </tr>\n",
              "    <tr>\n",
              "      <th>4</th>\n",
              "      <td>87mebub9p4</td>\n",
              "      <td>2010-09-14</td>\n",
              "      <td>20091208061105</td>\n",
              "      <td>2010-02-18</td>\n",
              "      <td>-unknown-</td>\n",
              "      <td>41.0</td>\n",
              "      <td>basic</td>\n",
              "      <td>0</td>\n",
              "      <td>en</td>\n",
              "      <td>direct</td>\n",
              "      <td>direct</td>\n",
              "      <td>untracked</td>\n",
              "      <td>Web</td>\n",
              "      <td>Mac Desktop</td>\n",
              "      <td>Chrome</td>\n",
              "      <td>US</td>\n",
              "    </tr>\n",
              "  </tbody>\n",
              "</table>\n",
              "</div>"
            ],
            "text/plain": [
              "           id date_account_created  ...  first_browser country_destination\n",
              "0  gxn3p5htnn           2010-06-28  ...         Chrome                 NDF\n",
              "1  820tgsjxq7           2011-05-25  ...         Chrome                 NDF\n",
              "2  4ft3gnwmtx           2010-09-28  ...             IE                  US\n",
              "3  bjjt8pjhuk           2011-12-05  ...        Firefox               other\n",
              "4  87mebub9p4           2010-09-14  ...         Chrome                  US\n",
              "\n",
              "[5 rows x 16 columns]"
            ]
          },
          "metadata": {
            "tags": []
          },
          "execution_count": 33
        }
      ]
    },
    {
      "cell_type": "code",
      "metadata": {
        "colab": {
          "base_uri": "https://localhost:8080/"
        },
        "id": "zQOqLH7E2rqM",
        "outputId": "6e57b106-bbfe-452c-8d4c-290b2db52c74"
      },
      "source": [
        "#Checking null values\n",
        "data1_df.isnull().sum()"
      ],
      "id": "zQOqLH7E2rqM",
      "execution_count": 34,
      "outputs": [
        {
          "output_type": "execute_result",
          "data": {
            "text/plain": [
              "id                              0\n",
              "date_account_created            0\n",
              "timestamp_first_active          0\n",
              "date_first_booking         124543\n",
              "gender                          0\n",
              "age                         87990\n",
              "signup_method                   0\n",
              "signup_flow                     0\n",
              "language                        0\n",
              "affiliate_channel               0\n",
              "affiliate_provider              0\n",
              "first_affiliate_tracked      6065\n",
              "signup_app                      0\n",
              "first_device_type               0\n",
              "first_browser                   0\n",
              "country_destination             0\n",
              "dtype: int64"
            ]
          },
          "metadata": {
            "tags": []
          },
          "execution_count": 34
        }
      ]
    },
    {
      "cell_type": "code",
      "metadata": {
        "colab": {
          "base_uri": "https://localhost:8080/",
          "height": 289
        },
        "id": "731gsJuW2xb3",
        "outputId": "41af7121-e401-4d93-dd77-dcd74a224074"
      },
      "source": [
        "\n",
        "# sessions csv\n",
        "\n",
        "session_df = pd.read_csv('/content/sessions.csv')\n",
        "\n",
        "print(session_df.shape)\n",
        "\n",
        "print(\"\\nColumns:\",session_df.columns)\n",
        "\n",
        "session_df.head()"
      ],
      "id": "731gsJuW2xb3",
      "execution_count": 35,
      "outputs": [
        {
          "output_type": "stream",
          "text": [
            "(10567737, 6)\n",
            "\n",
            "Columns: Index(['user_id', 'action', 'action_type', 'action_detail', 'device_type',\n",
            "       'secs_elapsed'],\n",
            "      dtype='object')\n"
          ],
          "name": "stdout"
        },
        {
          "output_type": "execute_result",
          "data": {
            "text/html": [
              "<div>\n",
              "<style scoped>\n",
              "    .dataframe tbody tr th:only-of-type {\n",
              "        vertical-align: middle;\n",
              "    }\n",
              "\n",
              "    .dataframe tbody tr th {\n",
              "        vertical-align: top;\n",
              "    }\n",
              "\n",
              "    .dataframe thead th {\n",
              "        text-align: right;\n",
              "    }\n",
              "</style>\n",
              "<table border=\"1\" class=\"dataframe\">\n",
              "  <thead>\n",
              "    <tr style=\"text-align: right;\">\n",
              "      <th></th>\n",
              "      <th>user_id</th>\n",
              "      <th>action</th>\n",
              "      <th>action_type</th>\n",
              "      <th>action_detail</th>\n",
              "      <th>device_type</th>\n",
              "      <th>secs_elapsed</th>\n",
              "    </tr>\n",
              "  </thead>\n",
              "  <tbody>\n",
              "    <tr>\n",
              "      <th>0</th>\n",
              "      <td>d1mm9tcy42</td>\n",
              "      <td>lookup</td>\n",
              "      <td>NaN</td>\n",
              "      <td>NaN</td>\n",
              "      <td>Windows Desktop</td>\n",
              "      <td>319.0</td>\n",
              "    </tr>\n",
              "    <tr>\n",
              "      <th>1</th>\n",
              "      <td>d1mm9tcy42</td>\n",
              "      <td>search_results</td>\n",
              "      <td>click</td>\n",
              "      <td>view_search_results</td>\n",
              "      <td>Windows Desktop</td>\n",
              "      <td>67753.0</td>\n",
              "    </tr>\n",
              "    <tr>\n",
              "      <th>2</th>\n",
              "      <td>d1mm9tcy42</td>\n",
              "      <td>lookup</td>\n",
              "      <td>NaN</td>\n",
              "      <td>NaN</td>\n",
              "      <td>Windows Desktop</td>\n",
              "      <td>301.0</td>\n",
              "    </tr>\n",
              "    <tr>\n",
              "      <th>3</th>\n",
              "      <td>d1mm9tcy42</td>\n",
              "      <td>search_results</td>\n",
              "      <td>click</td>\n",
              "      <td>view_search_results</td>\n",
              "      <td>Windows Desktop</td>\n",
              "      <td>22141.0</td>\n",
              "    </tr>\n",
              "    <tr>\n",
              "      <th>4</th>\n",
              "      <td>d1mm9tcy42</td>\n",
              "      <td>lookup</td>\n",
              "      <td>NaN</td>\n",
              "      <td>NaN</td>\n",
              "      <td>Windows Desktop</td>\n",
              "      <td>435.0</td>\n",
              "    </tr>\n",
              "  </tbody>\n",
              "</table>\n",
              "</div>"
            ],
            "text/plain": [
              "      user_id          action  ...      device_type secs_elapsed\n",
              "0  d1mm9tcy42          lookup  ...  Windows Desktop        319.0\n",
              "1  d1mm9tcy42  search_results  ...  Windows Desktop      67753.0\n",
              "2  d1mm9tcy42          lookup  ...  Windows Desktop        301.0\n",
              "3  d1mm9tcy42  search_results  ...  Windows Desktop      22141.0\n",
              "4  d1mm9tcy42          lookup  ...  Windows Desktop        435.0\n",
              "\n",
              "[5 rows x 6 columns]"
            ]
          },
          "metadata": {
            "tags": []
          },
          "execution_count": 35
        }
      ]
    },
    {
      "cell_type": "code",
      "metadata": {
        "colab": {
          "base_uri": "https://localhost:8080/"
        },
        "id": "7406b6b0-3ca9-472b-85e1-837f208f8b77",
        "outputId": "4ceedaf7-3488-455a-b7cc-91accf1e1f4b"
      },
      "source": [
        "#Checking null values\n",
        "session_df.isnull().sum()\n",
        "\n"
      ],
      "id": "7406b6b0-3ca9-472b-85e1-837f208f8b77",
      "execution_count": 36,
      "outputs": [
        {
          "output_type": "execute_result",
          "data": {
            "text/plain": [
              "user_id            34496\n",
              "action             79626\n",
              "action_type      1126204\n",
              "action_detail    1126204\n",
              "device_type            0\n",
              "secs_elapsed      136031\n",
              "dtype: int64"
            ]
          },
          "metadata": {
            "tags": []
          },
          "execution_count": 36
        }
      ]
    },
    {
      "cell_type": "code",
      "metadata": {
        "id": "PDyxLSGQ3Fzr"
      },
      "source": [
        "\n",
        "#data1 = pd.read_csv(\"/content/data1_users_2.csv\")\n",
        "#data2 = pd.read_csv(\"/content/data2_users.csv\")\n",
        "#df_sessions = pd.read_csv('/content/sessions.csv')"
      ],
      "id": "PDyxLSGQ3Fzr",
      "execution_count": 37,
      "outputs": []
    },
    {
      "cell_type": "code",
      "metadata": {
        "colab": {
          "base_uri": "https://localhost:8080/"
        },
        "id": "eHqMorbm3JRA",
        "outputId": "788050dd-e7da-4b4d-c48f-9f5c74b675e4"
      },
      "source": [
        "print(session_df.shape)\n",
        "\n",
        "session_df = session_df.dropna(subset = ['user_id'])\n",
        "\n",
        "print(session_df.shape)"
      ],
      "id": "eHqMorbm3JRA",
      "execution_count": 38,
      "outputs": [
        {
          "output_type": "stream",
          "text": [
            "(10567737, 6)\n",
            "(10533241, 6)\n"
          ],
          "name": "stdout"
        }
      ]
    },
    {
      "cell_type": "code",
      "metadata": {
        "colab": {
          "base_uri": "https://localhost:8080/"
        },
        "id": "F0CqmD173Jin",
        "outputId": "f5d4f879-2db8-4469-a1f4-aee773949eda"
      },
      "source": [
        "session_df['user_id'].nunique()"
      ],
      "id": "F0CqmD173Jin",
      "execution_count": 39,
      "outputs": [
        {
          "output_type": "execute_result",
          "data": {
            "text/plain": [
              "135483"
            ]
          },
          "metadata": {
            "tags": []
          },
          "execution_count": 39
        }
      ]
    },
    {
      "cell_type": "code",
      "metadata": {
        "colab": {
          "base_uri": "https://localhost:8080/"
        },
        "id": "a44465a1-5f49-4d20-867b-459a8c5e0fbc",
        "outputId": "4aa46784-ecde-42c7-8ab5-225bb0a72643"
      },
      "source": [
        "\n",
        "session_df['device_type'].unique()"
      ],
      "id": "a44465a1-5f49-4d20-867b-459a8c5e0fbc",
      "execution_count": 40,
      "outputs": [
        {
          "output_type": "execute_result",
          "data": {
            "text/plain": [
              "array(['Windows Desktop', '-unknown-', 'Mac Desktop', 'Android Phone',\n",
              "       'iPhone', 'iPad Tablet', 'Android App Unknown Phone/Tablet',\n",
              "       'Linux Desktop', 'Tablet', 'Chromebook', 'Blackberry', 'iPodtouch',\n",
              "       'Windows Phone', 'Opera Phone'], dtype=object)"
            ]
          },
          "metadata": {
            "tags": []
          },
          "execution_count": 40
        }
      ]
    },
    {
      "cell_type": "code",
      "metadata": {
        "colab": {
          "base_uri": "https://localhost:8080/",
          "height": 306
        },
        "id": "420b9b84-b5b9-41ee-a140-092254c1d890",
        "outputId": "1a3a164c-0473-40c9-870b-5a05366c8d81"
      },
      "source": [
        "\n",
        "\n",
        "session_df_concat = session_df.groupby('user_id', as_index=False).agg(lambda x: x.tolist())\n",
        "\n",
        "print(session_df_concat.shape)\n",
        "\n",
        "session_df_concat.head()"
      ],
      "id": "420b9b84-b5b9-41ee-a140-092254c1d890",
      "execution_count": 41,
      "outputs": [
        {
          "output_type": "stream",
          "text": [
            "(135483, 6)\n"
          ],
          "name": "stdout"
        },
        {
          "output_type": "execute_result",
          "data": {
            "text/html": [
              "<div>\n",
              "<style scoped>\n",
              "    .dataframe tbody tr th:only-of-type {\n",
              "        vertical-align: middle;\n",
              "    }\n",
              "\n",
              "    .dataframe tbody tr th {\n",
              "        vertical-align: top;\n",
              "    }\n",
              "\n",
              "    .dataframe thead th {\n",
              "        text-align: right;\n",
              "    }\n",
              "</style>\n",
              "<table border=\"1\" class=\"dataframe\">\n",
              "  <thead>\n",
              "    <tr style=\"text-align: right;\">\n",
              "      <th></th>\n",
              "      <th>user_id</th>\n",
              "      <th>action</th>\n",
              "      <th>action_type</th>\n",
              "      <th>action_detail</th>\n",
              "      <th>device_type</th>\n",
              "      <th>secs_elapsed</th>\n",
              "    </tr>\n",
              "  </thead>\n",
              "  <tbody>\n",
              "    <tr>\n",
              "      <th>0</th>\n",
              "      <td>00023iyk9l</td>\n",
              "      <td>[index, dashboard, header_userpic, dashboard, ...</td>\n",
              "      <td>[view, view, data, view, partner_callback, mes...</td>\n",
              "      <td>[view_search_results, dashboard, header_userpi...</td>\n",
              "      <td>[Mac Desktop, Mac Desktop, Mac Desktop, Mac De...</td>\n",
              "      <td>[20438.0, 787.0, 850.0, 934.0, nan, 129817.0, ...</td>\n",
              "    </tr>\n",
              "    <tr>\n",
              "      <th>1</th>\n",
              "      <td>0010k6l0om</td>\n",
              "      <td>[search_results, show, personalize, show, sear...</td>\n",
              "      <td>[click, view, data, nan, click, click, nan, da...</td>\n",
              "      <td>[view_search_results, p3, wishlist_content_upd...</td>\n",
              "      <td>[Mac Desktop, Mac Desktop, Mac Desktop, Mac De...</td>\n",
              "      <td>[1708.0, 21260.0, 1223.0, 26.0, 847.0, 1230.0,...</td>\n",
              "    </tr>\n",
              "    <tr>\n",
              "      <th>2</th>\n",
              "      <td>001wyh0pz8</td>\n",
              "      <td>[search, search, search, show, social_connecti...</td>\n",
              "      <td>[click, click, click, view, data, -unknown-, v...</td>\n",
              "      <td>[view_search_results, view_search_results, vie...</td>\n",
              "      <td>[Android App Unknown Phone/Tablet, Android App...</td>\n",
              "      <td>[622.0, 1813.0, 1507.0, 6327.0, 927.0, 142.0, ...</td>\n",
              "    </tr>\n",
              "    <tr>\n",
              "      <th>3</th>\n",
              "      <td>0028jgx1x1</td>\n",
              "      <td>[show, reviews, show, search, show, search, re...</td>\n",
              "      <td>[view, data, view, click, view, click, data, s...</td>\n",
              "      <td>[user_profile, listing_reviews, p3, view_searc...</td>\n",
              "      <td>[-unknown-, -unknown-, -unknown-, -unknown-, -...</td>\n",
              "      <td>[6162.0, 75.0, 86.0, 13710.0, 25217.0, 10989.0...</td>\n",
              "    </tr>\n",
              "    <tr>\n",
              "      <th>4</th>\n",
              "      <td>002qnbzfs5</td>\n",
              "      <td>[social_connections, payment_methods, create, ...</td>\n",
              "      <td>[data, -unknown-, -unknown-, view, data, data,...</td>\n",
              "      <td>[user_social_connections, -unknown-, -unknown-...</td>\n",
              "      <td>[iPhone, iPhone, iPhone, iPhone, iPhone, iPhon...</td>\n",
              "      <td>[17135.0, 711.0, 274.0, 179.0, 483.0, 1.0, 782...</td>\n",
              "    </tr>\n",
              "  </tbody>\n",
              "</table>\n",
              "</div>"
            ],
            "text/plain": [
              "      user_id  ...                                       secs_elapsed\n",
              "0  00023iyk9l  ...  [20438.0, 787.0, 850.0, 934.0, nan, 129817.0, ...\n",
              "1  0010k6l0om  ...  [1708.0, 21260.0, 1223.0, 26.0, 847.0, 1230.0,...\n",
              "2  001wyh0pz8  ...  [622.0, 1813.0, 1507.0, 6327.0, 927.0, 142.0, ...\n",
              "3  0028jgx1x1  ...  [6162.0, 75.0, 86.0, 13710.0, 25217.0, 10989.0...\n",
              "4  002qnbzfs5  ...  [17135.0, 711.0, 274.0, 179.0, 483.0, 1.0, 782...\n",
              "\n",
              "[5 rows x 6 columns]"
            ]
          },
          "metadata": {
            "tags": []
          },
          "execution_count": 41
        }
      ]
    },
    {
      "cell_type": "code",
      "metadata": {
        "id": "d8b6644c-5545-4792-9a6d-04a52e39b673"
      },
      "source": [
        "# Function to convert list into strings\n",
        "\n",
        "def abcd(action):\n",
        "    \n",
        "    \"\"\"\n",
        "    Function to convert list into strings\n",
        "    \n",
        "    parameters: action \n",
        "    \n",
        "    returns : action  \n",
        "    \n",
        "    \"\"\"\n",
        "    action = [ str(i) for i in action ]\n",
        "    \n",
        "    action = [ re.sub('nan','',i) for i in action ] \n",
        "    \n",
        "    action = ','.join(action)\n",
        "    \n",
        "    return action"
      ],
      "id": "d8b6644c-5545-4792-9a6d-04a52e39b673",
      "execution_count": 42,
      "outputs": []
    },
    {
      "cell_type": "code",
      "metadata": {
        "colab": {
          "base_uri": "https://localhost:8080/"
        },
        "id": "b37ea1f5-bd6a-4252-98a4-ddd8b7ab45d3",
        "outputId": "be94f6f0-d41c-4d27-a35f-ea15cce8b292"
      },
      "source": [
        "\n",
        "session_df_concat['action'] = session_df_concat['action'].apply(abcd)\n",
        "\n",
        "session_df_concat['action'].head()"
      ],
      "id": "b37ea1f5-bd6a-4252-98a4-ddd8b7ab45d3",
      "execution_count": 43,
      "outputs": [
        {
          "output_type": "execute_result",
          "data": {
            "text/plain": [
              "0    index,dashboard,header_userpic,dashboard,callb...\n",
              "1    search_results,show,personalize,show,search_re...\n",
              "2    search,search,search,show,social_connections,i...\n",
              "3    show,reviews,show,search,show,search,reviews,c...\n",
              "4    social_connections,payment_methods,create,show...\n",
              "Name: action, dtype: object"
            ]
          },
          "metadata": {
            "tags": []
          },
          "execution_count": 43
        }
      ]
    },
    {
      "cell_type": "code",
      "metadata": {
        "colab": {
          "base_uri": "https://localhost:8080/"
        },
        "id": "a9a81dc4-54dd-43a4-96a7-98831eb14f7f",
        "outputId": "88ec322e-5ecb-4d61-aeee-b89b44fc5b03"
      },
      "source": [
        "\n",
        "session_df_concat['action_type'] = session_df_concat['action_type'].apply(abcd)\n",
        "\n",
        "session_df_concat['action_type'].head()"
      ],
      "id": "a9a81dc4-54dd-43a4-96a7-98831eb14f7f",
      "execution_count": 44,
      "outputs": [
        {
          "output_type": "execute_result",
          "data": {
            "text/plain": [
              "0    view,view,data,view,partner_callback,message_p...\n",
              "1    click,view,data,,click,click,,data,view,partne...\n",
              "2    click,click,click,view,data,-unknown-,view,-un...\n",
              "3    view,data,view,click,view,click,data,submit,-u...\n",
              "4    data,-unknown-,-unknown-,view,data,data,data,,...\n",
              "Name: action_type, dtype: object"
            ]
          },
          "metadata": {
            "tags": []
          },
          "execution_count": 44
        }
      ]
    },
    {
      "cell_type": "code",
      "metadata": {
        "colab": {
          "base_uri": "https://localhost:8080/"
        },
        "id": "d778654f-4b25-4095-aebd-c8d1e6840c93",
        "outputId": "1c78de76-8902-4020-d9d2-e7a9c2087669"
      },
      "source": [
        "\n",
        "session_df_concat['action_detail'] = session_df_concat['action_detail'].apply(abcd)\n",
        "\n",
        "session_df_concat['action_detail'].head()"
      ],
      "id": "d778654f-4b25-4095-aebd-c8d1e6840c93",
      "execution_count": 45,
      "outputs": [
        {
          "output_type": "execute_result",
          "data": {
            "text/plain": [
              "0    view_search_results,dashboard,header_userpic,d...\n",
              "1    view_search_results,p3,wishlist_content_update...\n",
              "2    view_search_results,view_search_results,view_s...\n",
              "3    user_profile,listing_reviews,p3,view_search_re...\n",
              "4    user_social_connections,-unknown-,-unknown-,us...\n",
              "Name: action_detail, dtype: object"
            ]
          },
          "metadata": {
            "tags": []
          },
          "execution_count": 45
        }
      ]
    },
    {
      "cell_type": "code",
      "metadata": {
        "id": "f0a4124c-fa77-4f79-b616-d8a382b05cd4"
      },
      "source": [
        "# Function to convert list into strings\n",
        "\n",
        "def efgh(device):\n",
        "    \n",
        "    \"\"\"\n",
        "    Function to convert list into strings\n",
        "    \n",
        "    parameters: device \n",
        "    \n",
        "    returns : device  \n",
        "    \n",
        "    \"\"\"\n",
        "    \n",
        "    device = [ str(i) for i in device ]\n",
        "    \n",
        "    device = [ re.sub('nan','',i) for i in device ] \n",
        "                \n",
        "    device = ','.join(set(device))\n",
        "    \n",
        "    return device"
      ],
      "id": "f0a4124c-fa77-4f79-b616-d8a382b05cd4",
      "execution_count": 46,
      "outputs": []
    },
    {
      "cell_type": "code",
      "metadata": {
        "colab": {
          "base_uri": "https://localhost:8080/"
        },
        "id": "261c6ce4-bb56-438a-8521-386c72b0eb68",
        "outputId": "d7b1c7a5-48d0-4e7f-ed3f-878ae2067722"
      },
      "source": [
        "\n",
        "session_df_concat['device_type'] = session_df_concat['device_type'].apply(efgh)\n",
        "\n",
        "session_df_concat['device_type'].head()"
      ],
      "id": "261c6ce4-bb56-438a-8521-386c72b0eb68",
      "execution_count": 47,
      "outputs": [
        {
          "output_type": "execute_result",
          "data": {
            "text/plain": [
              "0                  iPhone,Mac Desktop\n",
              "1                         Mac Desktop\n",
              "2    Android App Unknown Phone/Tablet\n",
              "3             -unknown-,Android Phone\n",
              "4                    -unknown-,iPhone\n",
              "Name: device_type, dtype: object"
            ]
          },
          "metadata": {
            "tags": []
          },
          "execution_count": 47
        }
      ]
    },
    {
      "cell_type": "code",
      "metadata": {
        "id": "0b004012-d98d-4962-8aed-a7e0b06dcf2b"
      },
      "source": [
        "# Function to convert list into strings\n",
        "\n",
        "def ijkl(time):\n",
        "    \n",
        "    \"\"\"\n",
        "    Function to convert list into strings\n",
        "    \n",
        "    parameters: time \n",
        "    \n",
        "    returns : time  \n",
        "    \n",
        "    \"\"\"\n",
        "    \n",
        "    float_time = []\n",
        "    \n",
        "    time = [ str(i) for i in time ]\n",
        "    \n",
        "    time = [ re.sub('nan','',i) for i in time ] \n",
        "        \n",
        "    for i in time:\n",
        "        \n",
        "         try:\n",
        "                \n",
        "                float_time.append(float(i))\n",
        "         \n",
        "         except ValueError:\n",
        "                \n",
        "                continue\n",
        "    \n",
        "    float_time = sum(float_time)\n",
        "    \n",
        "    return float_time"
      ],
      "id": "0b004012-d98d-4962-8aed-a7e0b06dcf2b",
      "execution_count": 48,
      "outputs": []
    },
    {
      "cell_type": "code",
      "metadata": {
        "colab": {
          "base_uri": "https://localhost:8080/"
        },
        "id": "71920bf1-08aa-4064-a274-c53b0c6ba517",
        "outputId": "87e0ce9f-9971-444c-9cf1-5dbef7c57644"
      },
      "source": [
        "session_df_concat['secs_elapsed'] = session_df_concat['secs_elapsed'].apply(ijkl)\n",
        "\n",
        "session_df_concat['secs_elapsed'].head()"
      ],
      "id": "71920bf1-08aa-4064-a274-c53b0c6ba517",
      "execution_count": 49,
      "outputs": [
        {
          "output_type": "execute_result",
          "data": {
            "text/plain": [
              "0     867896.0\n",
              "1     586543.0\n",
              "2     282965.0\n",
              "3     297010.0\n",
              "4    6487080.0\n",
              "Name: secs_elapsed, dtype: float64"
            ]
          },
          "metadata": {
            "tags": []
          },
          "execution_count": 49
        }
      ]
    },
    {
      "cell_type": "code",
      "metadata": {
        "colab": {
          "base_uri": "https://localhost:8080/",
          "height": 221
        },
        "id": "351efdce-7819-4f4d-9fbd-57c5d84c84a4",
        "outputId": "541ad742-7545-4ad5-eb6c-c777951c4ee5"
      },
      "source": [
        "print(session_df_concat.shape)\n",
        "\n",
        "session_df_concat.head()"
      ],
      "id": "351efdce-7819-4f4d-9fbd-57c5d84c84a4",
      "execution_count": 50,
      "outputs": [
        {
          "output_type": "stream",
          "text": [
            "(135483, 6)\n"
          ],
          "name": "stdout"
        },
        {
          "output_type": "execute_result",
          "data": {
            "text/html": [
              "<div>\n",
              "<style scoped>\n",
              "    .dataframe tbody tr th:only-of-type {\n",
              "        vertical-align: middle;\n",
              "    }\n",
              "\n",
              "    .dataframe tbody tr th {\n",
              "        vertical-align: top;\n",
              "    }\n",
              "\n",
              "    .dataframe thead th {\n",
              "        text-align: right;\n",
              "    }\n",
              "</style>\n",
              "<table border=\"1\" class=\"dataframe\">\n",
              "  <thead>\n",
              "    <tr style=\"text-align: right;\">\n",
              "      <th></th>\n",
              "      <th>user_id</th>\n",
              "      <th>action</th>\n",
              "      <th>action_type</th>\n",
              "      <th>action_detail</th>\n",
              "      <th>device_type</th>\n",
              "      <th>secs_elapsed</th>\n",
              "    </tr>\n",
              "  </thead>\n",
              "  <tbody>\n",
              "    <tr>\n",
              "      <th>0</th>\n",
              "      <td>00023iyk9l</td>\n",
              "      <td>index,dashboard,header_userpic,dashboard,callb...</td>\n",
              "      <td>view,view,data,view,partner_callback,message_p...</td>\n",
              "      <td>view_search_results,dashboard,header_userpic,d...</td>\n",
              "      <td>iPhone,Mac Desktop</td>\n",
              "      <td>867896.0</td>\n",
              "    </tr>\n",
              "    <tr>\n",
              "      <th>1</th>\n",
              "      <td>0010k6l0om</td>\n",
              "      <td>search_results,show,personalize,show,search_re...</td>\n",
              "      <td>click,view,data,,click,click,,data,view,partne...</td>\n",
              "      <td>view_search_results,p3,wishlist_content_update...</td>\n",
              "      <td>Mac Desktop</td>\n",
              "      <td>586543.0</td>\n",
              "    </tr>\n",
              "    <tr>\n",
              "      <th>2</th>\n",
              "      <td>001wyh0pz8</td>\n",
              "      <td>search,search,search,show,social_connections,i...</td>\n",
              "      <td>click,click,click,view,data,-unknown-,view,-un...</td>\n",
              "      <td>view_search_results,view_search_results,view_s...</td>\n",
              "      <td>Android App Unknown Phone/Tablet</td>\n",
              "      <td>282965.0</td>\n",
              "    </tr>\n",
              "    <tr>\n",
              "      <th>3</th>\n",
              "      <td>0028jgx1x1</td>\n",
              "      <td>show,reviews,show,search,show,search,reviews,c...</td>\n",
              "      <td>view,data,view,click,view,click,data,submit,-u...</td>\n",
              "      <td>user_profile,listing_reviews,p3,view_search_re...</td>\n",
              "      <td>-unknown-,Android Phone</td>\n",
              "      <td>297010.0</td>\n",
              "    </tr>\n",
              "    <tr>\n",
              "      <th>4</th>\n",
              "      <td>002qnbzfs5</td>\n",
              "      <td>social_connections,payment_methods,create,show...</td>\n",
              "      <td>data,-unknown-,-unknown-,view,data,data,data,,...</td>\n",
              "      <td>user_social_connections,-unknown-,-unknown-,us...</td>\n",
              "      <td>-unknown-,iPhone</td>\n",
              "      <td>6487080.0</td>\n",
              "    </tr>\n",
              "  </tbody>\n",
              "</table>\n",
              "</div>"
            ],
            "text/plain": [
              "      user_id  ... secs_elapsed\n",
              "0  00023iyk9l  ...     867896.0\n",
              "1  0010k6l0om  ...     586543.0\n",
              "2  001wyh0pz8  ...     282965.0\n",
              "3  0028jgx1x1  ...     297010.0\n",
              "4  002qnbzfs5  ...    6487080.0\n",
              "\n",
              "[5 rows x 6 columns]"
            ]
          },
          "metadata": {
            "tags": []
          },
          "execution_count": 50
        }
      ]
    },
    {
      "cell_type": "code",
      "metadata": {
        "colab": {
          "base_uri": "https://localhost:8080/"
        },
        "id": "3122ff24-32d9-409d-a403-7fa3999309aa",
        "outputId": "a4263601-b4eb-47b5-fe36-68db60d93758"
      },
      "source": [
        "# Join data1 and session df\n",
        "\n",
        "data1_merge = data1_df.merge(session_df_concat, left_on='id', right_on='user_id', how='inner')\n",
        "\n",
        "print(\"data1  :\",data1_df.shape)\n",
        "\n",
        "print(\"Session:\",session_df_concat.shape)\n",
        "\n",
        "print(\"Merge  :\",data1_merge.shape)\n",
        "\n",
        "print(\"No of users in data1 Data with session info:\",data1_merge.shape[0])\n",
        "\n",
        "print(\"{} / {} = {}\".format(data1_merge.shape[0],data1_df.shape[0],np.round((data1_merge.shape[0]/data1_df.shape[0]),2)))"
      ],
      "id": "3122ff24-32d9-409d-a403-7fa3999309aa",
      "execution_count": 51,
      "outputs": [
        {
          "output_type": "stream",
          "text": [
            "data1  : (213451, 16)\n",
            "Session: (135483, 6)\n",
            "Merge  : (73815, 22)\n",
            "No of users in data1 Data with session info: 73815\n",
            "73815 / 213451 = 0.35\n"
          ],
          "name": "stdout"
        }
      ]
    },
    {
      "cell_type": "code",
      "metadata": {
        "colab": {
          "base_uri": "https://localhost:8080/",
          "height": 479
        },
        "id": "337580c5-bce2-42a7-813a-937e3a3c8383",
        "outputId": "7fe5ca41-8dbb-49eb-e591-87b443080295"
      },
      "source": [
        "print(data1_merge.columns)\n",
        "\n",
        "data1_merge.head()"
      ],
      "id": "337580c5-bce2-42a7-813a-937e3a3c8383",
      "execution_count": 52,
      "outputs": [
        {
          "output_type": "stream",
          "text": [
            "Index(['id', 'date_account_created', 'timestamp_first_active',\n",
            "       'date_first_booking', 'gender', 'age', 'signup_method', 'signup_flow',\n",
            "       'language', 'affiliate_channel', 'affiliate_provider',\n",
            "       'first_affiliate_tracked', 'signup_app', 'first_device_type',\n",
            "       'first_browser', 'country_destination', 'user_id', 'action',\n",
            "       'action_type', 'action_detail', 'device_type', 'secs_elapsed'],\n",
            "      dtype='object')\n"
          ],
          "name": "stdout"
        },
        {
          "output_type": "execute_result",
          "data": {
            "text/html": [
              "<div>\n",
              "<style scoped>\n",
              "    .dataframe tbody tr th:only-of-type {\n",
              "        vertical-align: middle;\n",
              "    }\n",
              "\n",
              "    .dataframe tbody tr th {\n",
              "        vertical-align: top;\n",
              "    }\n",
              "\n",
              "    .dataframe thead th {\n",
              "        text-align: right;\n",
              "    }\n",
              "</style>\n",
              "<table border=\"1\" class=\"dataframe\">\n",
              "  <thead>\n",
              "    <tr style=\"text-align: right;\">\n",
              "      <th></th>\n",
              "      <th>id</th>\n",
              "      <th>date_account_created</th>\n",
              "      <th>timestamp_first_active</th>\n",
              "      <th>date_first_booking</th>\n",
              "      <th>gender</th>\n",
              "      <th>age</th>\n",
              "      <th>signup_method</th>\n",
              "      <th>signup_flow</th>\n",
              "      <th>language</th>\n",
              "      <th>affiliate_channel</th>\n",
              "      <th>affiliate_provider</th>\n",
              "      <th>first_affiliate_tracked</th>\n",
              "      <th>signup_app</th>\n",
              "      <th>first_device_type</th>\n",
              "      <th>first_browser</th>\n",
              "      <th>country_destination</th>\n",
              "      <th>user_id</th>\n",
              "      <th>action</th>\n",
              "      <th>action_type</th>\n",
              "      <th>action_detail</th>\n",
              "      <th>device_type</th>\n",
              "      <th>secs_elapsed</th>\n",
              "    </tr>\n",
              "  </thead>\n",
              "  <tbody>\n",
              "    <tr>\n",
              "      <th>0</th>\n",
              "      <td>d1mm9tcy42</td>\n",
              "      <td>2014-01-01</td>\n",
              "      <td>20140101000936</td>\n",
              "      <td>2014-01-04</td>\n",
              "      <td>MALE</td>\n",
              "      <td>62.0</td>\n",
              "      <td>basic</td>\n",
              "      <td>0</td>\n",
              "      <td>en</td>\n",
              "      <td>sem-non-brand</td>\n",
              "      <td>google</td>\n",
              "      <td>omg</td>\n",
              "      <td>Web</td>\n",
              "      <td>Windows Desktop</td>\n",
              "      <td>Chrome</td>\n",
              "      <td>other</td>\n",
              "      <td>d1mm9tcy42</td>\n",
              "      <td>lookup,search_results,lookup,search_results,lo...</td>\n",
              "      <td>,click,,click,,click,,data,view,,click,,data,v...</td>\n",
              "      <td>,view_search_results,,view_search_results,,vie...</td>\n",
              "      <td>-unknown-,Windows Desktop</td>\n",
              "      <td>3427529.0</td>\n",
              "    </tr>\n",
              "    <tr>\n",
              "      <th>1</th>\n",
              "      <td>yo8nz8bqcq</td>\n",
              "      <td>2014-01-01</td>\n",
              "      <td>20140101001558</td>\n",
              "      <td>NaN</td>\n",
              "      <td>-unknown-</td>\n",
              "      <td>NaN</td>\n",
              "      <td>basic</td>\n",
              "      <td>0</td>\n",
              "      <td>en</td>\n",
              "      <td>direct</td>\n",
              "      <td>direct</td>\n",
              "      <td>untracked</td>\n",
              "      <td>Web</td>\n",
              "      <td>Mac Desktop</td>\n",
              "      <td>Firefox</td>\n",
              "      <td>NDF</td>\n",
              "      <td>yo8nz8bqcq</td>\n",
              "      <td>dashboard,create,confirm_email,show,show_perso...</td>\n",
              "      <td>view,submit,click,view,data,view,data,data,</td>\n",
              "      <td>dashboard,create_user,confirm_email_link,p3,us...</td>\n",
              "      <td>Mac Desktop</td>\n",
              "      <td>207842.0</td>\n",
              "    </tr>\n",
              "    <tr>\n",
              "      <th>2</th>\n",
              "      <td>4grx6yxeby</td>\n",
              "      <td>2014-01-01</td>\n",
              "      <td>20140101001639</td>\n",
              "      <td>NaN</td>\n",
              "      <td>-unknown-</td>\n",
              "      <td>NaN</td>\n",
              "      <td>basic</td>\n",
              "      <td>0</td>\n",
              "      <td>en</td>\n",
              "      <td>sem-brand</td>\n",
              "      <td>google</td>\n",
              "      <td>omg</td>\n",
              "      <td>Web</td>\n",
              "      <td>Windows Desktop</td>\n",
              "      <td>Firefox</td>\n",
              "      <td>NDF</td>\n",
              "      <td>4grx6yxeby</td>\n",
              "      <td>verify,create,,pending,requested,header_userpi...</td>\n",
              "      <td>-unknown-,submit,message_post,booking_request,...</td>\n",
              "      <td>-unknown-,create_user,message_post,pending,p5,...</td>\n",
              "      <td>-unknown-,Windows Desktop</td>\n",
              "      <td>1135444.0</td>\n",
              "    </tr>\n",
              "    <tr>\n",
              "      <th>3</th>\n",
              "      <td>ncf87guaf0</td>\n",
              "      <td>2014-01-01</td>\n",
              "      <td>20140101002146</td>\n",
              "      <td>NaN</td>\n",
              "      <td>-unknown-</td>\n",
              "      <td>NaN</td>\n",
              "      <td>basic</td>\n",
              "      <td>0</td>\n",
              "      <td>en</td>\n",
              "      <td>direct</td>\n",
              "      <td>direct</td>\n",
              "      <td>linked</td>\n",
              "      <td>Web</td>\n",
              "      <td>Windows Desktop</td>\n",
              "      <td>Chrome</td>\n",
              "      <td>NDF</td>\n",
              "      <td>ncf87guaf0</td>\n",
              "      <td>lookup,show,search_results,search_results,show...</td>\n",
              "      <td>,view,click,click,view,view,click,data,data,da...</td>\n",
              "      <td>,p3,view_search_results,view_search_results,p3...</td>\n",
              "      <td>-unknown-,Android Phone,Windows Desktop</td>\n",
              "      <td>3755100.0</td>\n",
              "    </tr>\n",
              "    <tr>\n",
              "      <th>4</th>\n",
              "      <td>4rvqpxoh3h</td>\n",
              "      <td>2014-01-01</td>\n",
              "      <td>20140101002619</td>\n",
              "      <td>2014-01-02</td>\n",
              "      <td>-unknown-</td>\n",
              "      <td>NaN</td>\n",
              "      <td>basic</td>\n",
              "      <td>25</td>\n",
              "      <td>en</td>\n",
              "      <td>direct</td>\n",
              "      <td>direct</td>\n",
              "      <td>untracked</td>\n",
              "      <td>iOS</td>\n",
              "      <td>iPhone</td>\n",
              "      <td>-unknown-</td>\n",
              "      <td>GB</td>\n",
              "      <td>4rvqpxoh3h</td>\n",
              "      <td>campaigns,active,create,notifications,listings...</td>\n",
              "      <td>-unknown-,-unknown-,-unknown-,-unknown-,-unkno...</td>\n",
              "      <td>-unknown-,-unknown-,-unknown-,-unknown-,-unkno...</td>\n",
              "      <td>iPhone</td>\n",
              "      <td>2555.0</td>\n",
              "    </tr>\n",
              "  </tbody>\n",
              "</table>\n",
              "</div>"
            ],
            "text/plain": [
              "           id  ... secs_elapsed\n",
              "0  d1mm9tcy42  ...    3427529.0\n",
              "1  yo8nz8bqcq  ...     207842.0\n",
              "2  4grx6yxeby  ...    1135444.0\n",
              "3  ncf87guaf0  ...    3755100.0\n",
              "4  4rvqpxoh3h  ...       2555.0\n",
              "\n",
              "[5 rows x 22 columns]"
            ]
          },
          "metadata": {
            "tags": []
          },
          "execution_count": 52
        }
      ]
    },
    {
      "cell_type": "code",
      "metadata": {
        "id": "a6628a6d-6e5f-42fd-86a8-880234aa1e8c"
      },
      "source": [
        "# saving to memory\n",
        "\n",
        "data1_merge.to_pickle('/content/data1_merge_raw.pickle')"
      ],
      "id": "a6628a6d-6e5f-42fd-86a8-880234aa1e8c",
      "execution_count": 53,
      "outputs": []
    },
    {
      "cell_type": "code",
      "metadata": {
        "colab": {
          "base_uri": "https://localhost:8080/"
        },
        "id": "6b16ec45-2f70-4109-8817-aa0af8561f17",
        "outputId": "3008ba50-21fd-4d84-d5c1-9d6d5c4596b7"
      },
      "source": [
        "#Checking null values\n",
        "data1_merge.isnull().sum()"
      ],
      "id": "6b16ec45-2f70-4109-8817-aa0af8561f17",
      "execution_count": 54,
      "outputs": [
        {
          "output_type": "execute_result",
          "data": {
            "text/plain": [
              "id                             0\n",
              "date_account_created           0\n",
              "timestamp_first_active         0\n",
              "date_first_booking         45041\n",
              "gender                         0\n",
              "age                        32248\n",
              "signup_method                  0\n",
              "signup_flow                    0\n",
              "language                       0\n",
              "affiliate_channel              0\n",
              "affiliate_provider             0\n",
              "first_affiliate_tracked      302\n",
              "signup_app                     0\n",
              "first_device_type              0\n",
              "first_browser                  0\n",
              "country_destination            0\n",
              "user_id                        0\n",
              "action                         0\n",
              "action_type                    0\n",
              "action_detail                  0\n",
              "device_type                    0\n",
              "secs_elapsed                   0\n",
              "dtype: int64"
            ]
          },
          "metadata": {
            "tags": []
          },
          "execution_count": 54
        }
      ]
    },
    {
      "cell_type": "code",
      "metadata": {
        "colab": {
          "base_uri": "https://localhost:8080/",
          "height": 411
        },
        "id": "9f103325-f875-463e-a259-b6ad78594119",
        "outputId": "67325efe-4e5d-466f-ade9-ffd22be99e8d"
      },
      "source": [
        "#data2 csv\n",
        "\n",
        "data2_df = pd.read_csv('/content/test_users.csv')\n",
        "\n",
        "print(data2_df.shape)\n",
        "\n",
        "print(data2_df.columns)\n",
        "\n",
        "data2_df.head()"
      ],
      "id": "9f103325-f875-463e-a259-b6ad78594119",
      "execution_count": 55,
      "outputs": [
        {
          "output_type": "stream",
          "text": [
            "(62096, 15)\n",
            "Index(['id', 'date_account_created', 'timestamp_first_active',\n",
            "       'date_first_booking', 'gender', 'age', 'signup_method', 'signup_flow',\n",
            "       'language', 'affiliate_channel', 'affiliate_provider',\n",
            "       'first_affiliate_tracked', 'signup_app', 'first_device_type',\n",
            "       'first_browser'],\n",
            "      dtype='object')\n"
          ],
          "name": "stdout"
        },
        {
          "output_type": "execute_result",
          "data": {
            "text/html": [
              "<div>\n",
              "<style scoped>\n",
              "    .dataframe tbody tr th:only-of-type {\n",
              "        vertical-align: middle;\n",
              "    }\n",
              "\n",
              "    .dataframe tbody tr th {\n",
              "        vertical-align: top;\n",
              "    }\n",
              "\n",
              "    .dataframe thead th {\n",
              "        text-align: right;\n",
              "    }\n",
              "</style>\n",
              "<table border=\"1\" class=\"dataframe\">\n",
              "  <thead>\n",
              "    <tr style=\"text-align: right;\">\n",
              "      <th></th>\n",
              "      <th>id</th>\n",
              "      <th>date_account_created</th>\n",
              "      <th>timestamp_first_active</th>\n",
              "      <th>date_first_booking</th>\n",
              "      <th>gender</th>\n",
              "      <th>age</th>\n",
              "      <th>signup_method</th>\n",
              "      <th>signup_flow</th>\n",
              "      <th>language</th>\n",
              "      <th>affiliate_channel</th>\n",
              "      <th>affiliate_provider</th>\n",
              "      <th>first_affiliate_tracked</th>\n",
              "      <th>signup_app</th>\n",
              "      <th>first_device_type</th>\n",
              "      <th>first_browser</th>\n",
              "    </tr>\n",
              "  </thead>\n",
              "  <tbody>\n",
              "    <tr>\n",
              "      <th>0</th>\n",
              "      <td>5uwns89zht</td>\n",
              "      <td>2014-07-01</td>\n",
              "      <td>20140701000006</td>\n",
              "      <td>NaN</td>\n",
              "      <td>FEMALE</td>\n",
              "      <td>35.0</td>\n",
              "      <td>facebook</td>\n",
              "      <td>0</td>\n",
              "      <td>en</td>\n",
              "      <td>direct</td>\n",
              "      <td>direct</td>\n",
              "      <td>untracked</td>\n",
              "      <td>Moweb</td>\n",
              "      <td>iPhone</td>\n",
              "      <td>Mobile Safari</td>\n",
              "    </tr>\n",
              "    <tr>\n",
              "      <th>1</th>\n",
              "      <td>jtl0dijy2j</td>\n",
              "      <td>2014-07-01</td>\n",
              "      <td>20140701000051</td>\n",
              "      <td>NaN</td>\n",
              "      <td>-unknown-</td>\n",
              "      <td>NaN</td>\n",
              "      <td>basic</td>\n",
              "      <td>0</td>\n",
              "      <td>en</td>\n",
              "      <td>direct</td>\n",
              "      <td>direct</td>\n",
              "      <td>untracked</td>\n",
              "      <td>Moweb</td>\n",
              "      <td>iPhone</td>\n",
              "      <td>Mobile Safari</td>\n",
              "    </tr>\n",
              "    <tr>\n",
              "      <th>2</th>\n",
              "      <td>xx0ulgorjt</td>\n",
              "      <td>2014-07-01</td>\n",
              "      <td>20140701000148</td>\n",
              "      <td>NaN</td>\n",
              "      <td>-unknown-</td>\n",
              "      <td>NaN</td>\n",
              "      <td>basic</td>\n",
              "      <td>0</td>\n",
              "      <td>en</td>\n",
              "      <td>direct</td>\n",
              "      <td>direct</td>\n",
              "      <td>linked</td>\n",
              "      <td>Web</td>\n",
              "      <td>Windows Desktop</td>\n",
              "      <td>Chrome</td>\n",
              "    </tr>\n",
              "    <tr>\n",
              "      <th>3</th>\n",
              "      <td>6c6puo6ix0</td>\n",
              "      <td>2014-07-01</td>\n",
              "      <td>20140701000215</td>\n",
              "      <td>NaN</td>\n",
              "      <td>-unknown-</td>\n",
              "      <td>NaN</td>\n",
              "      <td>basic</td>\n",
              "      <td>0</td>\n",
              "      <td>en</td>\n",
              "      <td>direct</td>\n",
              "      <td>direct</td>\n",
              "      <td>linked</td>\n",
              "      <td>Web</td>\n",
              "      <td>Windows Desktop</td>\n",
              "      <td>IE</td>\n",
              "    </tr>\n",
              "    <tr>\n",
              "      <th>4</th>\n",
              "      <td>czqhjk3yfe</td>\n",
              "      <td>2014-07-01</td>\n",
              "      <td>20140701000305</td>\n",
              "      <td>NaN</td>\n",
              "      <td>-unknown-</td>\n",
              "      <td>NaN</td>\n",
              "      <td>basic</td>\n",
              "      <td>0</td>\n",
              "      <td>en</td>\n",
              "      <td>direct</td>\n",
              "      <td>direct</td>\n",
              "      <td>untracked</td>\n",
              "      <td>Web</td>\n",
              "      <td>Mac Desktop</td>\n",
              "      <td>Safari</td>\n",
              "    </tr>\n",
              "  </tbody>\n",
              "</table>\n",
              "</div>"
            ],
            "text/plain": [
              "           id date_account_created  ...  first_device_type  first_browser\n",
              "0  5uwns89zht           2014-07-01  ...             iPhone  Mobile Safari\n",
              "1  jtl0dijy2j           2014-07-01  ...             iPhone  Mobile Safari\n",
              "2  xx0ulgorjt           2014-07-01  ...    Windows Desktop         Chrome\n",
              "3  6c6puo6ix0           2014-07-01  ...    Windows Desktop             IE\n",
              "4  czqhjk3yfe           2014-07-01  ...        Mac Desktop         Safari\n",
              "\n",
              "[5 rows x 15 columns]"
            ]
          },
          "metadata": {
            "tags": []
          },
          "execution_count": 55
        }
      ]
    },
    {
      "cell_type": "code",
      "metadata": {
        "colab": {
          "base_uri": "https://localhost:8080/"
        },
        "id": "03c1b0a4-8338-4676-bba6-bdf2224e32a3",
        "outputId": "09a356db-7c64-4dfa-f6fc-75b2d2ea58e4"
      },
      "source": [
        "#Checking null values\n",
        "data2_df.isnull().sum()"
      ],
      "id": "03c1b0a4-8338-4676-bba6-bdf2224e32a3",
      "execution_count": 56,
      "outputs": [
        {
          "output_type": "execute_result",
          "data": {
            "text/plain": [
              "id                             0\n",
              "date_account_created           0\n",
              "timestamp_first_active         0\n",
              "date_first_booking         62096\n",
              "gender                         0\n",
              "age                        28876\n",
              "signup_method                  0\n",
              "signup_flow                    0\n",
              "language                       0\n",
              "affiliate_channel              0\n",
              "affiliate_provider             0\n",
              "first_affiliate_tracked       20\n",
              "signup_app                     0\n",
              "first_device_type              0\n",
              "first_browser                  0\n",
              "dtype: int64"
            ]
          },
          "metadata": {
            "tags": []
          },
          "execution_count": 56
        }
      ]
    },
    {
      "cell_type": "code",
      "metadata": {
        "colab": {
          "base_uri": "https://localhost:8080/"
        },
        "id": "c22edbf6-f2ee-4c2d-b8cb-a29d6243210a",
        "outputId": "bbca12c4-a248-4848-be0f-27559d6cce23"
      },
      "source": [
        "# Join data2 and session df\n",
        "\n",
        "data2_merge = data2_df.merge(session_df_concat, left_on='id', right_on='user_id', how='inner')\n",
        "\n",
        "print(\"data2  :\",data2_df.shape)\n",
        "\n",
        "print(\"Session:\",session_df_concat.shape)\n",
        "\n",
        "print(\"Merge  :\",data2_merge.shape)\n",
        "\n",
        "print(\"No of users in data2 Data with session info:\",data2_merge.shape[0])\n",
        "\n",
        "print(\"{} / {} = {}\".format(data2_merge.shape[0],data2_df.shape[0],np.round((data2_merge.shape[0]/data2_df.shape[0]),2)))"
      ],
      "id": "c22edbf6-f2ee-4c2d-b8cb-a29d6243210a",
      "execution_count": 57,
      "outputs": [
        {
          "output_type": "stream",
          "text": [
            "data2  : (62096, 15)\n",
            "Session: (135483, 6)\n",
            "Merge  : (61668, 21)\n",
            "No of users in data2 Data with session info: 61668\n",
            "61668 / 62096 = 0.99\n"
          ],
          "name": "stdout"
        }
      ]
    },
    {
      "cell_type": "code",
      "metadata": {
        "colab": {
          "base_uri": "https://localhost:8080/"
        },
        "id": "77c32be3-08e4-45e4-a8bc-b816b94c79ed",
        "outputId": "aa2cf6c2-37e1-4a59-bf16-e58fa68b3cc7"
      },
      "source": [
        "# Join data2 and session df\n",
        "\n",
        "data2_merge = data2_df.merge(session_df_concat, left_on='id', right_on='user_id', how='left')\n",
        "\n",
        "print(\"data2  :\",data2_df.shape)\n",
        "\n",
        "print(\"Session:\",session_df_concat.shape)\n",
        "\n",
        "print(\"Merge  :\",data2_merge.shape)\n",
        "\n",
        "print(\"No of users in data2 Data with session info:\",data2_merge.shape[0])\n",
        "\n",
        "print(\"{} / {} = {}\".format(data2_merge.shape[0],data2_df.shape[0],np.round((data2_merge.shape[0]/data2_df.shape[0]),2)))"
      ],
      "id": "77c32be3-08e4-45e4-a8bc-b816b94c79ed",
      "execution_count": 58,
      "outputs": [
        {
          "output_type": "stream",
          "text": [
            "data2  : (62096, 15)\n",
            "Session: (135483, 6)\n",
            "Merge  : (62096, 21)\n",
            "No of users in data2 Data with session info: 62096\n",
            "62096 / 62096 = 1.0\n"
          ],
          "name": "stdout"
        }
      ]
    },
    {
      "cell_type": "code",
      "metadata": {
        "colab": {
          "base_uri": "https://localhost:8080/"
        },
        "id": "ae519834-157c-4124-9895-810fc18c1320",
        "outputId": "62990656-38e7-4be5-8fa7-d4b9f7f5c6f4"
      },
      "source": [
        "#Checking null values\n",
        "data2_merge.isnull().sum()"
      ],
      "id": "ae519834-157c-4124-9895-810fc18c1320",
      "execution_count": 59,
      "outputs": [
        {
          "output_type": "execute_result",
          "data": {
            "text/plain": [
              "id                             0\n",
              "date_account_created           0\n",
              "timestamp_first_active         0\n",
              "date_first_booking         62096\n",
              "gender                         0\n",
              "age                        28876\n",
              "signup_method                  0\n",
              "signup_flow                    0\n",
              "language                       0\n",
              "affiliate_channel              0\n",
              "affiliate_provider             0\n",
              "first_affiliate_tracked       20\n",
              "signup_app                     0\n",
              "first_device_type              0\n",
              "first_browser                  0\n",
              "user_id                      428\n",
              "action                       428\n",
              "action_type                  428\n",
              "action_detail                428\n",
              "device_type                  428\n",
              "secs_elapsed                 428\n",
              "dtype: int64"
            ]
          },
          "metadata": {
            "tags": []
          },
          "execution_count": 59
        }
      ]
    },
    {
      "cell_type": "code",
      "metadata": {
        "id": "56f1d031-2ba4-404c-9877-5db7db22e5f5"
      },
      "source": [
        "data2_merge['user_id'].fillna('na' , inplace=True)\n",
        "\n",
        "data2_merge['action'].fillna('na' , inplace=True)\n",
        "\n",
        "data2_merge['action_type'].fillna('na' , inplace=True)\n",
        "\n",
        "data2_merge['action_detail'].fillna('na' , inplace=True)\n",
        "\n",
        "data2_merge['device_type'].fillna('na' , inplace=True)\n",
        "\n",
        "data2_merge['secs_elapsed'].fillna(0, inplace=True)"
      ],
      "id": "56f1d031-2ba4-404c-9877-5db7db22e5f5",
      "execution_count": 60,
      "outputs": []
    },
    {
      "cell_type": "code",
      "metadata": {
        "colab": {
          "base_uri": "https://localhost:8080/"
        },
        "id": "5aff32a7-dac1-4876-aa7e-3461635b6a73",
        "outputId": "cea0ca93-9fb9-4b16-dd8a-b8a854bb0129"
      },
      "source": [
        "#Checking null values\n",
        "data2_merge.isnull().sum()"
      ],
      "id": "5aff32a7-dac1-4876-aa7e-3461635b6a73",
      "execution_count": 61,
      "outputs": [
        {
          "output_type": "execute_result",
          "data": {
            "text/plain": [
              "id                             0\n",
              "date_account_created           0\n",
              "timestamp_first_active         0\n",
              "date_first_booking         62096\n",
              "gender                         0\n",
              "age                        28876\n",
              "signup_method                  0\n",
              "signup_flow                    0\n",
              "language                       0\n",
              "affiliate_channel              0\n",
              "affiliate_provider             0\n",
              "first_affiliate_tracked       20\n",
              "signup_app                     0\n",
              "first_device_type              0\n",
              "first_browser                  0\n",
              "user_id                        0\n",
              "action                         0\n",
              "action_type                    0\n",
              "action_detail                  0\n",
              "device_type                    0\n",
              "secs_elapsed                   0\n",
              "dtype: int64"
            ]
          },
          "metadata": {
            "tags": []
          },
          "execution_count": 61
        }
      ]
    },
    {
      "cell_type": "code",
      "metadata": {
        "colab": {
          "base_uri": "https://localhost:8080/",
          "height": 428
        },
        "id": "7e166caa-905c-400e-b44b-e88d70513d0e",
        "outputId": "8ef029da-4f1c-46b8-a3a0-1578a5c42f37"
      },
      "source": [
        "print(data2_merge.columns)\n",
        "\n",
        "data2_merge.head()"
      ],
      "id": "7e166caa-905c-400e-b44b-e88d70513d0e",
      "execution_count": 62,
      "outputs": [
        {
          "output_type": "stream",
          "text": [
            "Index(['id', 'date_account_created', 'timestamp_first_active',\n",
            "       'date_first_booking', 'gender', 'age', 'signup_method', 'signup_flow',\n",
            "       'language', 'affiliate_channel', 'affiliate_provider',\n",
            "       'first_affiliate_tracked', 'signup_app', 'first_device_type',\n",
            "       'first_browser', 'user_id', 'action', 'action_type', 'action_detail',\n",
            "       'device_type', 'secs_elapsed'],\n",
            "      dtype='object')\n"
          ],
          "name": "stdout"
        },
        {
          "output_type": "execute_result",
          "data": {
            "text/html": [
              "<div>\n",
              "<style scoped>\n",
              "    .dataframe tbody tr th:only-of-type {\n",
              "        vertical-align: middle;\n",
              "    }\n",
              "\n",
              "    .dataframe tbody tr th {\n",
              "        vertical-align: top;\n",
              "    }\n",
              "\n",
              "    .dataframe thead th {\n",
              "        text-align: right;\n",
              "    }\n",
              "</style>\n",
              "<table border=\"1\" class=\"dataframe\">\n",
              "  <thead>\n",
              "    <tr style=\"text-align: right;\">\n",
              "      <th></th>\n",
              "      <th>id</th>\n",
              "      <th>date_account_created</th>\n",
              "      <th>timestamp_first_active</th>\n",
              "      <th>date_first_booking</th>\n",
              "      <th>gender</th>\n",
              "      <th>age</th>\n",
              "      <th>signup_method</th>\n",
              "      <th>signup_flow</th>\n",
              "      <th>language</th>\n",
              "      <th>affiliate_channel</th>\n",
              "      <th>affiliate_provider</th>\n",
              "      <th>first_affiliate_tracked</th>\n",
              "      <th>signup_app</th>\n",
              "      <th>first_device_type</th>\n",
              "      <th>first_browser</th>\n",
              "      <th>user_id</th>\n",
              "      <th>action</th>\n",
              "      <th>action_type</th>\n",
              "      <th>action_detail</th>\n",
              "      <th>device_type</th>\n",
              "      <th>secs_elapsed</th>\n",
              "    </tr>\n",
              "  </thead>\n",
              "  <tbody>\n",
              "    <tr>\n",
              "      <th>0</th>\n",
              "      <td>5uwns89zht</td>\n",
              "      <td>2014-07-01</td>\n",
              "      <td>20140701000006</td>\n",
              "      <td>NaN</td>\n",
              "      <td>FEMALE</td>\n",
              "      <td>35.0</td>\n",
              "      <td>facebook</td>\n",
              "      <td>0</td>\n",
              "      <td>en</td>\n",
              "      <td>direct</td>\n",
              "      <td>direct</td>\n",
              "      <td>untracked</td>\n",
              "      <td>Moweb</td>\n",
              "      <td>iPhone</td>\n",
              "      <td>Mobile Safari</td>\n",
              "      <td>5uwns89zht</td>\n",
              "      <td>show,search,search,show,authenticate,reviews,a...</td>\n",
              "      <td>view,click,click,view,submit,data,-unknown-,click</td>\n",
              "      <td>user_profile,view_search_results,view_search_r...</td>\n",
              "      <td>-unknown-,iPhone</td>\n",
              "      <td>119187.0</td>\n",
              "    </tr>\n",
              "    <tr>\n",
              "      <th>1</th>\n",
              "      <td>jtl0dijy2j</td>\n",
              "      <td>2014-07-01</td>\n",
              "      <td>20140701000051</td>\n",
              "      <td>NaN</td>\n",
              "      <td>-unknown-</td>\n",
              "      <td>NaN</td>\n",
              "      <td>basic</td>\n",
              "      <td>0</td>\n",
              "      <td>en</td>\n",
              "      <td>direct</td>\n",
              "      <td>direct</td>\n",
              "      <td>untracked</td>\n",
              "      <td>Moweb</td>\n",
              "      <td>iPhone</td>\n",
              "      <td>Mobile Safari</td>\n",
              "      <td>jtl0dijy2j</td>\n",
              "      <td>dashboard,login,search,create,search,signup_lo...</td>\n",
              "      <td>view,view,click,submit,click,view,-unknown-,vi...</td>\n",
              "      <td>dashboard,login_page,view_search_results,creat...</td>\n",
              "      <td>-unknown-,iPhone</td>\n",
              "      <td>250119.0</td>\n",
              "    </tr>\n",
              "    <tr>\n",
              "      <th>2</th>\n",
              "      <td>xx0ulgorjt</td>\n",
              "      <td>2014-07-01</td>\n",
              "      <td>20140701000148</td>\n",
              "      <td>NaN</td>\n",
              "      <td>-unknown-</td>\n",
              "      <td>NaN</td>\n",
              "      <td>basic</td>\n",
              "      <td>0</td>\n",
              "      <td>en</td>\n",
              "      <td>direct</td>\n",
              "      <td>direct</td>\n",
              "      <td>linked</td>\n",
              "      <td>Web</td>\n",
              "      <td>Windows Desktop</td>\n",
              "      <td>Chrome</td>\n",
              "      <td>xx0ulgorjt</td>\n",
              "      <td>index,index,index,search_results,search_result...</td>\n",
              "      <td>view,view,view,click,click,click,click,data,vi...</td>\n",
              "      <td>view_search_results,view_search_results,view_s...</td>\n",
              "      <td>Windows Desktop</td>\n",
              "      <td>975575.0</td>\n",
              "    </tr>\n",
              "    <tr>\n",
              "      <th>3</th>\n",
              "      <td>6c6puo6ix0</td>\n",
              "      <td>2014-07-01</td>\n",
              "      <td>20140701000215</td>\n",
              "      <td>NaN</td>\n",
              "      <td>-unknown-</td>\n",
              "      <td>NaN</td>\n",
              "      <td>basic</td>\n",
              "      <td>0</td>\n",
              "      <td>en</td>\n",
              "      <td>direct</td>\n",
              "      <td>direct</td>\n",
              "      <td>linked</td>\n",
              "      <td>Web</td>\n",
              "      <td>Windows Desktop</td>\n",
              "      <td>IE</td>\n",
              "      <td>6c6puo6ix0</td>\n",
              "      <td>personalize,header_userpic,header_userpic,show...</td>\n",
              "      <td>data,data,data,view,view,,data,click,submit,,data</td>\n",
              "      <td>wishlist_content_update,header_userpic,header_...</td>\n",
              "      <td>Windows Desktop</td>\n",
              "      <td>123001.0</td>\n",
              "    </tr>\n",
              "    <tr>\n",
              "      <th>4</th>\n",
              "      <td>czqhjk3yfe</td>\n",
              "      <td>2014-07-01</td>\n",
              "      <td>20140701000305</td>\n",
              "      <td>NaN</td>\n",
              "      <td>-unknown-</td>\n",
              "      <td>NaN</td>\n",
              "      <td>basic</td>\n",
              "      <td>0</td>\n",
              "      <td>en</td>\n",
              "      <td>direct</td>\n",
              "      <td>direct</td>\n",
              "      <td>untracked</td>\n",
              "      <td>Web</td>\n",
              "      <td>Mac Desktop</td>\n",
              "      <td>Safari</td>\n",
              "      <td>czqhjk3yfe</td>\n",
              "      <td>message_to_host_change,agree_terms_check,pendi...</td>\n",
              "      <td>click,-unknown-,booking_request,message_post,v...</td>\n",
              "      <td>message_to_host_change,-unknown-,pending,messa...</td>\n",
              "      <td>Mac Desktop</td>\n",
              "      <td>454023.0</td>\n",
              "    </tr>\n",
              "  </tbody>\n",
              "</table>\n",
              "</div>"
            ],
            "text/plain": [
              "           id date_account_created  ...       device_type  secs_elapsed\n",
              "0  5uwns89zht           2014-07-01  ...  -unknown-,iPhone      119187.0\n",
              "1  jtl0dijy2j           2014-07-01  ...  -unknown-,iPhone      250119.0\n",
              "2  xx0ulgorjt           2014-07-01  ...   Windows Desktop      975575.0\n",
              "3  6c6puo6ix0           2014-07-01  ...   Windows Desktop      123001.0\n",
              "4  czqhjk3yfe           2014-07-01  ...       Mac Desktop      454023.0\n",
              "\n",
              "[5 rows x 21 columns]"
            ]
          },
          "metadata": {
            "tags": []
          },
          "execution_count": 62
        }
      ]
    },
    {
      "cell_type": "code",
      "metadata": {
        "id": "61ce893d-6287-4451-a8e3-7610031677cf"
      },
      "source": [
        "# daily,monthly and yearly data for date_account_created\n",
        "\n",
        "data1_merge['date_account_created'] = pd.to_datetime(data1_merge['date_account_created'])\n",
        "\n",
        "data1_merge['date_account_created_day'] = data1_merge.date_account_created.dt.weekday\n",
        "\n",
        "data1_merge['date_account_created_month'] = data1_merge.date_account_created.dt.month\n",
        "\n",
        "data1_merge['date_account_created_year'] = data1_merge.date_account_created.dt.year\n",
        "\n",
        "data2_merge['date_account_created'] = pd.to_datetime(data2_merge['date_account_created'])\n",
        "\n",
        "data2_merge['date_account_created_day'] = data2_merge.date_account_created.dt.weekday\n",
        "\n",
        "data2_merge['date_account_created_month'] = data2_merge.date_account_created.dt.month\n",
        "\n",
        "data2_merge['date_account_created_year'] = data2_merge.date_account_created.dt.year"
      ],
      "id": "61ce893d-6287-4451-a8e3-7610031677cf",
      "execution_count": 63,
      "outputs": []
    },
    {
      "cell_type": "code",
      "metadata": {
        "id": "1b6e85c6-5003-49c7-8924-710f881461c0"
      },
      "source": [
        "def func_timestamp_first_active(timestamp):\n",
        "        \n",
        "        \"\"\"\n",
        "        Function takes timestamp_first_active and converts it into datetime.\n",
        "        \n",
        "        Input type:  Integer\n",
        "        \n",
        "        return type: Datetime\n",
        "        \n",
        "        \"\"\"\n",
        "        \n",
        "        timestamp = str(timestamp)\n",
        "        \n",
        "        timestamp = datetime(year=int(timestamp[0:4]), month=int(timestamp[4:6]), day=int(timestamp[6:8]),\\\n",
        "                             \n",
        "                             hour=int(timestamp[8:10]), minute=int(timestamp[10:12]), second=int(timestamp[12:]))\n",
        "        \n",
        "        return timestamp"
      ],
      "id": "1b6e85c6-5003-49c7-8924-710f881461c0",
      "execution_count": 64,
      "outputs": []
    },
    {
      "cell_type": "code",
      "metadata": {
        "id": "724c5b50-7ceb-4513-8324-f5c003a5838b"
      },
      "source": [
        "# daily,monthly,yearly and horly data for timestamp_first_active\n",
        "\n",
        "data1_merge['timestamp_first_active'] = pd.to_datetime(data1_merge.timestamp_first_active.apply(func_timestamp_first_active))\n",
        "\n",
        "data1_merge['timestamp_first_active_day'] = data1_merge.timestamp_first_active.dt.weekday\n",
        "\n",
        "data1_merge['timestamp_first_active_month'] = data1_merge.timestamp_first_active.dt.month\n",
        "\n",
        "data1_merge['timestamp_first_active_year'] = data1_merge.timestamp_first_active.dt.year\n",
        "\n",
        "data1_merge['timestamp_first_active_hour'] = data1_merge.timestamp_first_active.dt.hour \n",
        "\n",
        "data2_merge['timestamp_first_active'] = pd.to_datetime(data2_merge.timestamp_first_active.apply(func_timestamp_first_active))\n",
        "\n",
        "data2_merge['timestamp_first_active_day'] = data2_merge.timestamp_first_active.dt.weekday\n",
        "\n",
        "data2_merge['timestamp_first_active_month'] = data2_merge.timestamp_first_active.dt.month\n",
        "\n",
        "data2_merge['timestamp_first_active_year'] = data2_merge.timestamp_first_active.dt.year\n",
        "\n",
        "data2_merge['timestamp_first_active_hour'] = data2_merge.timestamp_first_active.dt.hour"
      ],
      "id": "724c5b50-7ceb-4513-8324-f5c003a5838b",
      "execution_count": 65,
      "outputs": []
    },
    {
      "cell_type": "code",
      "metadata": {
        "id": "b37a442b-8912-4975-a7b6-b41c8fec7392"
      },
      "source": [
        "# median replacement with median age = 34.0\n",
        "\n",
        "def age_median(age):\n",
        "    \n",
        "    \"\"\"\n",
        "    Function to replace age outliers with median age\n",
        "    \n",
        "    parameters: age \n",
        "    \n",
        "    returns : age  \n",
        "    \n",
        "    \"\"\"\n",
        "    \n",
        "    if age < 15.0 or age > 100.0: \n",
        "        \n",
        "        return 34.0\n",
        "  \n",
        "    else: \n",
        "        \n",
        "        return age"
      ],
      "id": "b37a442b-8912-4975-a7b6-b41c8fec7392",
      "execution_count": 66,
      "outputs": []
    },
    {
      "cell_type": "code",
      "metadata": {
        "id": "1QgVXF7n4toz"
      },
      "source": [
        "\n",
        "data1_merge['age'] = data1_merge['age'].apply(age_median)\n",
        "\n",
        "data1_merge['age'].fillna(34.0 , inplace=True)\n",
        "\n",
        "data2_merge['age'] = data2_merge['age'].apply(age_median)\n",
        "\n",
        "data2_merge['age'].fillna(34.0 , inplace=True)"
      ],
      "id": "1QgVXF7n4toz",
      "execution_count": 67,
      "outputs": []
    },
    {
      "cell_type": "code",
      "metadata": {
        "id": "lC46gnne4tsi"
      },
      "source": [
        "#creating age buckets\n",
        "\n",
        "bins = [i for i in range(15,106,5)]\n",
        "\n",
        "def age_interv(age):\n",
        "        \n",
        "    \"\"\"\n",
        "    \n",
        "    Function takes age and returns interval.\n",
        "    \n",
        "    parameters:  age\n",
        "    \n",
        "    returns: age interval\n",
        "    \n",
        "    \"\"\"\n",
        "        \n",
        "    for i in range(len(bins)):\n",
        "        \n",
        "        if age < bins[i]:\n",
        "            \n",
        "            return i"
      ],
      "id": "lC46gnne4tsi",
      "execution_count": 68,
      "outputs": []
    },
    {
      "cell_type": "code",
      "metadata": {
        "colab": {
          "base_uri": "https://localhost:8080/",
          "height": 627
        },
        "id": "jo7_FegJKz7N",
        "outputId": "19345241-2df6-4405-f5bd-e72a04f256b8"
      },
      "source": [
        "# Age distribution\n",
        "plt.figure(figsize=(15,10))\n",
        "ax = sns.distplot(data1['age'].dropna(),label=\"Age\")\n",
        "ax.set_title('Age Distribution')\n",
        "ax.set(xlabel='Age', ylabel='PDF')\n",
        "plt.legend()\n",
        "plt.show()"
      ],
      "id": "jo7_FegJKz7N",
      "execution_count": 69,
      "outputs": [
        {
          "output_type": "display_data",
          "data": {
            "image/png": "[encoded data removed]",
            "text/plain": [
              "<Figure size 1080x720 with 1 Axes>"
            ]
          },
          "metadata": {
            "tags": []
          }
        }
      ]
    },
    {
      "cell_type": "code",
      "metadata": {
        "id": "01ee46d6-3cc5-4d0e-b96d-7290c7d758c1"
      },
      "source": [
        "data1_merge['age_interv'] = data1_merge['age'].apply(lambda x: age_interv(x))\n",
        "\n",
        "data2_merge['age_interv'] = data2_merge['age'].apply(lambda x: age_interv(x))"
      ],
      "id": "01ee46d6-3cc5-4d0e-b96d-7290c7d758c1",
      "execution_count": 70,
      "outputs": []
    },
    {
      "cell_type": "code",
      "metadata": {
        "id": "33055565-8e3b-4f4b-bfc0-3b60c35f2600"
      },
      "source": [
        "# mode replacement for first_affiliate_tracked\n",
        "\n",
        "data1_merge.first_affiliate_tracked.fillna('untracked',inplace = True)\n",
        "\n",
        "data2_merge.first_affiliate_tracked.fillna('untracked',inplace = True)"
      ],
      "id": "33055565-8e3b-4f4b-bfc0-3b60c35f2600",
      "execution_count": 71,
      "outputs": []
    },
    {
      "cell_type": "code",
      "metadata": {
        "id": "799b6d9b-56ce-4dc2-8cbc-dd70f1cd1066"
      },
      "source": [
        "#getting labels\n",
        "\n",
        "y = data1_merge['country_destination']\n"
      ],
      "id": "799b6d9b-56ce-4dc2-8cbc-dd70f1cd1066",
      "execution_count": 72,
      "outputs": []
    },
    {
      "cell_type": "code",
      "metadata": {
        "id": "d2085352-581a-41da-925b-22cd803d5be2"
      },
      "source": [
        "\n",
        "# drop colmns\n",
        "\n",
        "data1_merge.drop(['id','date_account_created','timestamp_first_active',\\\n",
        "                  'date_first_booking','country_destination','user_id'],axis=1,inplace = True)\n",
        "\n",
        "data2_merge.drop(['id','date_account_created','timestamp_first_active',\\\n",
        "                  'date_first_booking','user_id'],axis=1,inplace = True)"
      ],
      "id": "d2085352-581a-41da-925b-22cd803d5be2",
      "execution_count": 73,
      "outputs": []
    },
    {
      "cell_type": "code",
      "metadata": {
        "id": "982ff5b3-f445-46ce-83b6-90ccf08d0766"
      },
      "source": [
        "# OHE\n",
        "\n",
        "# https://stackoverflow.com/questions/41335718/keep-same-dummy-variable-in-data1ing-and-data2ing-data\n",
        "\n",
        "lst_ohe_data1 = []\n",
        "\n",
        "ohe = ['gender', 'signup_method', 'language', 'affiliate_channel',\\\n",
        "            'affiliate_provider', 'first_affiliate_tracked', 'signup_app', 'first_device_type', 'first_browser']\n",
        "\n",
        "for feat in ohe:\n",
        "    \n",
        "    data1_ohe = pd.get_dummies(data1_merge[feat], prefix=feat)\n",
        "    \n",
        "    data1_merge.drop([feat], axis=1, inplace = True)\n",
        "    \n",
        "    data2_ohe = pd.get_dummies(data2_merge[feat], prefix=feat)\n",
        "    \n",
        "    data2_merge.drop([feat], axis=1, inplace = True)\n",
        "    \n",
        "    lst_ohe_data1.append(data1_ohe.columns)\n",
        "        \n",
        "    # Get missing columns in the data1ing data2\n",
        "    \n",
        "    missing_cols = set( data1_ohe.columns ) - set( data2_ohe.columns )\n",
        "    \n",
        "    # Add a missing column in data2 set with default value equal to 0\n",
        "    \n",
        "    for c in missing_cols:\n",
        "        \n",
        "        data2_ohe[c] = 0\n",
        "        \n",
        "    # Ensure the order of column in the data2 set is in the same order than in data1 set\n",
        "    \n",
        "    data2_ohe = data2_ohe[data1_ohe.columns]\n",
        "    \n",
        "    data1_merge = pd.concat((data1_merge, data1_ohe), axis=1)    \n",
        "        \n",
        "    data2_merge = pd.concat((data2_merge, data2_ohe), axis=1)"
      ],
      "id": "982ff5b3-f445-46ce-83b6-90ccf08d0766",
      "execution_count": 74,
      "outputs": []
    },
    {
      "cell_type": "code",
      "metadata": {
        "id": "02d3f612-dbd1-4ca8-b77a-478be27bf279"
      },
      "source": [
        "# OHE device_type\n",
        "\n",
        "# https://stackoverflow.com/questions/57469676/python-one-hot-encoding-for-comma-separated-values\n",
        "\n",
        "data1_ohe = data1_merge['device_type'].str.get_dummies(sep=\",\")\n",
        "    \n",
        "data1_merge.drop(['device_type'], axis=1, inplace = True)\n",
        "    \n",
        "data2_ohe = data2_merge['device_type'].str.get_dummies(sep=\",\")\n",
        "    \n",
        "data2_merge.drop(['device_type'], axis=1, inplace = True)\n",
        "        \n",
        "# Get missing columns in the data1ing data2\n",
        "    \n",
        "missing_cols = set( data1_ohe.columns ) - set( data2_ohe.columns )\n",
        "\n",
        "lst_ohe_data1.append(data1_ohe.columns)\n",
        "    \n",
        "# Add a missing column in data2 set with default value equal to 0\n",
        "    \n",
        "for c in missing_cols:\n",
        "        \n",
        "    data2_ohe[c] = 0\n",
        "        \n",
        "# Ensure the order of column in the data2 set is in the same order than in data1 set\n",
        "    \n",
        "data2_ohe = data2_ohe[data1_ohe.columns]\n",
        "    \n",
        "data1_merge = pd.concat((data1_merge, data1_ohe), axis=1)    \n",
        "        \n",
        "data2_merge = pd.concat((data2_merge, data2_ohe), axis=1)"
      ],
      "id": "02d3f612-dbd1-4ca8-b77a-478be27bf279",
      "execution_count": 75,
      "outputs": []
    },
    {
      "cell_type": "code",
      "metadata": {
        "colab": {
          "base_uri": "https://localhost:8080/",
          "height": 474
        },
        "id": "cde7074b-0b1c-43c0-8426-5b9165f92960",
        "outputId": "3cb05146-3597-45f4-aa43-ceee33cfc209"
      },
      "source": [
        "print(data1_merge.columns)\n",
        "\n",
        "data1_merge.head()"
      ],
      "id": "cde7074b-0b1c-43c0-8426-5b9165f92960",
      "execution_count": 76,
      "outputs": [
        {
          "output_type": "stream",
          "text": [
            "Index(['age', 'signup_flow', 'action', 'action_type', 'action_detail',\n",
            "       'secs_elapsed', 'date_account_created_day',\n",
            "       'date_account_created_month', 'date_account_created_year',\n",
            "       'timestamp_first_active_day',\n",
            "       ...\n",
            "       'Chromebook', 'Linux Desktop', 'Mac Desktop', 'Opera Phone', 'Tablet',\n",
            "       'Windows Desktop', 'Windows Phone', 'iPad Tablet', 'iPhone',\n",
            "       'iPodtouch'],\n",
            "      dtype='object', length=139)\n"
          ],
          "name": "stdout"
        },
        {
          "output_type": "execute_result",
          "data": {
            "text/html": [
              "<div>\n",
              "<style scoped>\n",
              "    .dataframe tbody tr th:only-of-type {\n",
              "        vertical-align: middle;\n",
              "    }\n",
              "\n",
              "    .dataframe tbody tr th {\n",
              "        vertical-align: top;\n",
              "    }\n",
              "\n",
              "    .dataframe thead th {\n",
              "        text-align: right;\n",
              "    }\n",
              "</style>\n",
              "<table border=\"1\" class=\"dataframe\">\n",
              "  <thead>\n",
              "    <tr style=\"text-align: right;\">\n",
              "      <th></th>\n",
              "      <th>age</th>\n",
              "      <th>signup_flow</th>\n",
              "      <th>action</th>\n",
              "      <th>action_type</th>\n",
              "      <th>action_detail</th>\n",
              "      <th>secs_elapsed</th>\n",
              "      <th>date_account_created_day</th>\n",
              "      <th>date_account_created_month</th>\n",
              "      <th>date_account_created_year</th>\n",
              "      <th>timestamp_first_active_day</th>\n",
              "      <th>timestamp_first_active_month</th>\n",
              "      <th>timestamp_first_active_year</th>\n",
              "      <th>timestamp_first_active_hour</th>\n",
              "      <th>age_interv</th>\n",
              "      <th>gender_-unknown-</th>\n",
              "      <th>gender_FEMALE</th>\n",
              "      <th>gender_MALE</th>\n",
              "      <th>gender_OTHER</th>\n",
              "      <th>signup_method_basic</th>\n",
              "      <th>signup_method_facebook</th>\n",
              "      <th>signup_method_google</th>\n",
              "      <th>language_ca</th>\n",
              "      <th>language_cs</th>\n",
              "      <th>language_da</th>\n",
              "      <th>language_de</th>\n",
              "      <th>language_el</th>\n",
              "      <th>language_en</th>\n",
              "      <th>language_es</th>\n",
              "      <th>language_fi</th>\n",
              "      <th>language_fr</th>\n",
              "      <th>language_hu</th>\n",
              "      <th>language_id</th>\n",
              "      <th>language_is</th>\n",
              "      <th>language_it</th>\n",
              "      <th>language_ja</th>\n",
              "      <th>language_ko</th>\n",
              "      <th>language_nl</th>\n",
              "      <th>language_no</th>\n",
              "      <th>language_pl</th>\n",
              "      <th>language_pt</th>\n",
              "      <th>...</th>\n",
              "      <th>first_browser_CoolNovo</th>\n",
              "      <th>first_browser_Firefox</th>\n",
              "      <th>first_browser_Googlebot</th>\n",
              "      <th>first_browser_IE</th>\n",
              "      <th>first_browser_IE Mobile</th>\n",
              "      <th>first_browser_IceDragon</th>\n",
              "      <th>first_browser_IceWeasel</th>\n",
              "      <th>first_browser_Iron</th>\n",
              "      <th>first_browser_Maxthon</th>\n",
              "      <th>first_browser_Mobile Firefox</th>\n",
              "      <th>first_browser_Mobile Safari</th>\n",
              "      <th>first_browser_Mozilla</th>\n",
              "      <th>first_browser_Opera</th>\n",
              "      <th>first_browser_Opera Mini</th>\n",
              "      <th>first_browser_Outlook 2007</th>\n",
              "      <th>first_browser_Pale Moon</th>\n",
              "      <th>first_browser_RockMelt</th>\n",
              "      <th>first_browser_Safari</th>\n",
              "      <th>first_browser_SeaMonkey</th>\n",
              "      <th>first_browser_Silk</th>\n",
              "      <th>first_browser_SiteKiosk</th>\n",
              "      <th>first_browser_Sogou Explorer</th>\n",
              "      <th>first_browser_TenFourFox</th>\n",
              "      <th>first_browser_TheWorld Browser</th>\n",
              "      <th>first_browser_Yandex.Browser</th>\n",
              "      <th>first_browser_wOSBrowser</th>\n",
              "      <th>-unknown-</th>\n",
              "      <th>Android App Unknown Phone/Tablet</th>\n",
              "      <th>Android Phone</th>\n",
              "      <th>Blackberry</th>\n",
              "      <th>Chromebook</th>\n",
              "      <th>Linux Desktop</th>\n",
              "      <th>Mac Desktop</th>\n",
              "      <th>Opera Phone</th>\n",
              "      <th>Tablet</th>\n",
              "      <th>Windows Desktop</th>\n",
              "      <th>Windows Phone</th>\n",
              "      <th>iPad Tablet</th>\n",
              "      <th>iPhone</th>\n",
              "      <th>iPodtouch</th>\n",
              "    </tr>\n",
              "  </thead>\n",
              "  <tbody>\n",
              "    <tr>\n",
              "      <th>0</th>\n",
              "      <td>62.0</td>\n",
              "      <td>0</td>\n",
              "      <td>lookup,search_results,lookup,search_results,lo...</td>\n",
              "      <td>,click,,click,,click,,data,view,,click,,data,v...</td>\n",
              "      <td>,view_search_results,,view_search_results,,vie...</td>\n",
              "      <td>3427529.0</td>\n",
              "      <td>2</td>\n",
              "      <td>1</td>\n",
              "      <td>2014</td>\n",
              "      <td>2</td>\n",
              "      <td>1</td>\n",
              "      <td>2014</td>\n",
              "      <td>0</td>\n",
              "      <td>10</td>\n",
              "      <td>0</td>\n",
              "      <td>0</td>\n",
              "      <td>1</td>\n",
              "      <td>0</td>\n",
              "      <td>1</td>\n",
              "      <td>0</td>\n",
              "      <td>0</td>\n",
              "      <td>0</td>\n",
              "      <td>0</td>\n",
              "      <td>0</td>\n",
              "      <td>0</td>\n",
              "      <td>0</td>\n",
              "      <td>1</td>\n",
              "      <td>0</td>\n",
              "      <td>0</td>\n",
              "      <td>0</td>\n",
              "      <td>0</td>\n",
              "      <td>0</td>\n",
              "      <td>0</td>\n",
              "      <td>0</td>\n",
              "      <td>0</td>\n",
              "      <td>0</td>\n",
              "      <td>0</td>\n",
              "      <td>0</td>\n",
              "      <td>0</td>\n",
              "      <td>0</td>\n",
              "      <td>...</td>\n",
              "      <td>0</td>\n",
              "      <td>0</td>\n",
              "      <td>0</td>\n",
              "      <td>0</td>\n",
              "      <td>0</td>\n",
              "      <td>0</td>\n",
              "      <td>0</td>\n",
              "      <td>0</td>\n",
              "      <td>0</td>\n",
              "      <td>0</td>\n",
              "      <td>0</td>\n",
              "      <td>0</td>\n",
              "      <td>0</td>\n",
              "      <td>0</td>\n",
              "      <td>0</td>\n",
              "      <td>0</td>\n",
              "      <td>0</td>\n",
              "      <td>0</td>\n",
              "      <td>0</td>\n",
              "      <td>0</td>\n",
              "      <td>0</td>\n",
              "      <td>0</td>\n",
              "      <td>0</td>\n",
              "      <td>0</td>\n",
              "      <td>0</td>\n",
              "      <td>0</td>\n",
              "      <td>1</td>\n",
              "      <td>0</td>\n",
              "      <td>0</td>\n",
              "      <td>0</td>\n",
              "      <td>0</td>\n",
              "      <td>0</td>\n",
              "      <td>0</td>\n",
              "      <td>0</td>\n",
              "      <td>0</td>\n",
              "      <td>1</td>\n",
              "      <td>0</td>\n",
              "      <td>0</td>\n",
              "      <td>0</td>\n",
              "      <td>0</td>\n",
              "    </tr>\n",
              "    <tr>\n",
              "      <th>1</th>\n",
              "      <td>34.0</td>\n",
              "      <td>0</td>\n",
              "      <td>dashboard,create,confirm_email,show,show_perso...</td>\n",
              "      <td>view,submit,click,view,data,view,data,data,</td>\n",
              "      <td>dashboard,create_user,confirm_email_link,p3,us...</td>\n",
              "      <td>207842.0</td>\n",
              "      <td>2</td>\n",
              "      <td>1</td>\n",
              "      <td>2014</td>\n",
              "      <td>2</td>\n",
              "      <td>1</td>\n",
              "      <td>2014</td>\n",
              "      <td>0</td>\n",
              "      <td>4</td>\n",
              "      <td>1</td>\n",
              "      <td>0</td>\n",
              "      <td>0</td>\n",
              "      <td>0</td>\n",
              "      <td>1</td>\n",
              "      <td>0</td>\n",
              "      <td>0</td>\n",
              "      <td>0</td>\n",
              "      <td>0</td>\n",
              "      <td>0</td>\n",
              "      <td>0</td>\n",
              "      <td>0</td>\n",
              "      <td>1</td>\n",
              "      <td>0</td>\n",
              "      <td>0</td>\n",
              "      <td>0</td>\n",
              "      <td>0</td>\n",
              "      <td>0</td>\n",
              "      <td>0</td>\n",
              "      <td>0</td>\n",
              "      <td>0</td>\n",
              "      <td>0</td>\n",
              "      <td>0</td>\n",
              "      <td>0</td>\n",
              "      <td>0</td>\n",
              "      <td>0</td>\n",
              "      <td>...</td>\n",
              "      <td>0</td>\n",
              "      <td>1</td>\n",
              "      <td>0</td>\n",
              "      <td>0</td>\n",
              "      <td>0</td>\n",
              "      <td>0</td>\n",
              "      <td>0</td>\n",
              "      <td>0</td>\n",
              "      <td>0</td>\n",
              "      <td>0</td>\n",
              "      <td>0</td>\n",
              "      <td>0</td>\n",
              "      <td>0</td>\n",
              "      <td>0</td>\n",
              "      <td>0</td>\n",
              "      <td>0</td>\n",
              "      <td>0</td>\n",
              "      <td>0</td>\n",
              "      <td>0</td>\n",
              "      <td>0</td>\n",
              "      <td>0</td>\n",
              "      <td>0</td>\n",
              "      <td>0</td>\n",
              "      <td>0</td>\n",
              "      <td>0</td>\n",
              "      <td>0</td>\n",
              "      <td>0</td>\n",
              "      <td>0</td>\n",
              "      <td>0</td>\n",
              "      <td>0</td>\n",
              "      <td>0</td>\n",
              "      <td>0</td>\n",
              "      <td>1</td>\n",
              "      <td>0</td>\n",
              "      <td>0</td>\n",
              "      <td>0</td>\n",
              "      <td>0</td>\n",
              "      <td>0</td>\n",
              "      <td>0</td>\n",
              "      <td>0</td>\n",
              "    </tr>\n",
              "    <tr>\n",
              "      <th>2</th>\n",
              "      <td>34.0</td>\n",
              "      <td>0</td>\n",
              "      <td>verify,create,,pending,requested,header_userpi...</td>\n",
              "      <td>-unknown-,submit,message_post,booking_request,...</td>\n",
              "      <td>-unknown-,create_user,message_post,pending,p5,...</td>\n",
              "      <td>1135444.0</td>\n",
              "      <td>2</td>\n",
              "      <td>1</td>\n",
              "      <td>2014</td>\n",
              "      <td>2</td>\n",
              "      <td>1</td>\n",
              "      <td>2014</td>\n",
              "      <td>0</td>\n",
              "      <td>4</td>\n",
              "      <td>1</td>\n",
              "      <td>0</td>\n",
              "      <td>0</td>\n",
              "      <td>0</td>\n",
              "      <td>1</td>\n",
              "      <td>0</td>\n",
              "      <td>0</td>\n",
              "      <td>0</td>\n",
              "      <td>0</td>\n",
              "      <td>0</td>\n",
              "      <td>0</td>\n",
              "      <td>0</td>\n",
              "      <td>1</td>\n",
              "      <td>0</td>\n",
              "      <td>0</td>\n",
              "      <td>0</td>\n",
              "      <td>0</td>\n",
              "      <td>0</td>\n",
              "      <td>0</td>\n",
              "      <td>0</td>\n",
              "      <td>0</td>\n",
              "      <td>0</td>\n",
              "      <td>0</td>\n",
              "      <td>0</td>\n",
              "      <td>0</td>\n",
              "      <td>0</td>\n",
              "      <td>...</td>\n",
              "      <td>0</td>\n",
              "      <td>1</td>\n",
              "      <td>0</td>\n",
              "      <td>0</td>\n",
              "      <td>0</td>\n",
              "      <td>0</td>\n",
              "      <td>0</td>\n",
              "      <td>0</td>\n",
              "      <td>0</td>\n",
              "      <td>0</td>\n",
              "      <td>0</td>\n",
              "      <td>0</td>\n",
              "      <td>0</td>\n",
              "      <td>0</td>\n",
              "      <td>0</td>\n",
              "      <td>0</td>\n",
              "      <td>0</td>\n",
              "      <td>0</td>\n",
              "      <td>0</td>\n",
              "      <td>0</td>\n",
              "      <td>0</td>\n",
              "      <td>0</td>\n",
              "      <td>0</td>\n",
              "      <td>0</td>\n",
              "      <td>0</td>\n",
              "      <td>0</td>\n",
              "      <td>1</td>\n",
              "      <td>0</td>\n",
              "      <td>0</td>\n",
              "      <td>0</td>\n",
              "      <td>0</td>\n",
              "      <td>0</td>\n",
              "      <td>0</td>\n",
              "      <td>0</td>\n",
              "      <td>0</td>\n",
              "      <td>1</td>\n",
              "      <td>0</td>\n",
              "      <td>0</td>\n",
              "      <td>0</td>\n",
              "      <td>0</td>\n",
              "    </tr>\n",
              "    <tr>\n",
              "      <th>3</th>\n",
              "      <td>34.0</td>\n",
              "      <td>0</td>\n",
              "      <td>lookup,show,search_results,search_results,show...</td>\n",
              "      <td>,view,click,click,view,view,click,data,data,da...</td>\n",
              "      <td>,p3,view_search_results,view_search_results,p3...</td>\n",
              "      <td>3755100.0</td>\n",
              "      <td>2</td>\n",
              "      <td>1</td>\n",
              "      <td>2014</td>\n",
              "      <td>2</td>\n",
              "      <td>1</td>\n",
              "      <td>2014</td>\n",
              "      <td>0</td>\n",
              "      <td>4</td>\n",
              "      <td>1</td>\n",
              "      <td>0</td>\n",
              "      <td>0</td>\n",
              "      <td>0</td>\n",
              "      <td>1</td>\n",
              "      <td>0</td>\n",
              "      <td>0</td>\n",
              "      <td>0</td>\n",
              "      <td>0</td>\n",
              "      <td>0</td>\n",
              "      <td>0</td>\n",
              "      <td>0</td>\n",
              "      <td>1</td>\n",
              "      <td>0</td>\n",
              "      <td>0</td>\n",
              "      <td>0</td>\n",
              "      <td>0</td>\n",
              "      <td>0</td>\n",
              "      <td>0</td>\n",
              "      <td>0</td>\n",
              "      <td>0</td>\n",
              "      <td>0</td>\n",
              "      <td>0</td>\n",
              "      <td>0</td>\n",
              "      <td>0</td>\n",
              "      <td>0</td>\n",
              "      <td>...</td>\n",
              "      <td>0</td>\n",
              "      <td>0</td>\n",
              "      <td>0</td>\n",
              "      <td>0</td>\n",
              "      <td>0</td>\n",
              "      <td>0</td>\n",
              "      <td>0</td>\n",
              "      <td>0</td>\n",
              "      <td>0</td>\n",
              "      <td>0</td>\n",
              "      <td>0</td>\n",
              "      <td>0</td>\n",
              "      <td>0</td>\n",
              "      <td>0</td>\n",
              "      <td>0</td>\n",
              "      <td>0</td>\n",
              "      <td>0</td>\n",
              "      <td>0</td>\n",
              "      <td>0</td>\n",
              "      <td>0</td>\n",
              "      <td>0</td>\n",
              "      <td>0</td>\n",
              "      <td>0</td>\n",
              "      <td>0</td>\n",
              "      <td>0</td>\n",
              "      <td>0</td>\n",
              "      <td>1</td>\n",
              "      <td>0</td>\n",
              "      <td>1</td>\n",
              "      <td>0</td>\n",
              "      <td>0</td>\n",
              "      <td>0</td>\n",
              "      <td>0</td>\n",
              "      <td>0</td>\n",
              "      <td>0</td>\n",
              "      <td>1</td>\n",
              "      <td>0</td>\n",
              "      <td>0</td>\n",
              "      <td>0</td>\n",
              "      <td>0</td>\n",
              "    </tr>\n",
              "    <tr>\n",
              "      <th>4</th>\n",
              "      <td>34.0</td>\n",
              "      <td>25</td>\n",
              "      <td>campaigns,active,create,notifications,listings...</td>\n",
              "      <td>-unknown-,-unknown-,-unknown-,-unknown-,-unkno...</td>\n",
              "      <td>-unknown-,-unknown-,-unknown-,-unknown-,-unkno...</td>\n",
              "      <td>2555.0</td>\n",
              "      <td>2</td>\n",
              "      <td>1</td>\n",
              "      <td>2014</td>\n",
              "      <td>2</td>\n",
              "      <td>1</td>\n",
              "      <td>2014</td>\n",
              "      <td>0</td>\n",
              "      <td>4</td>\n",
              "      <td>1</td>\n",
              "      <td>0</td>\n",
              "      <td>0</td>\n",
              "      <td>0</td>\n",
              "      <td>1</td>\n",
              "      <td>0</td>\n",
              "      <td>0</td>\n",
              "      <td>0</td>\n",
              "      <td>0</td>\n",
              "      <td>0</td>\n",
              "      <td>0</td>\n",
              "      <td>0</td>\n",
              "      <td>1</td>\n",
              "      <td>0</td>\n",
              "      <td>0</td>\n",
              "      <td>0</td>\n",
              "      <td>0</td>\n",
              "      <td>0</td>\n",
              "      <td>0</td>\n",
              "      <td>0</td>\n",
              "      <td>0</td>\n",
              "      <td>0</td>\n",
              "      <td>0</td>\n",
              "      <td>0</td>\n",
              "      <td>0</td>\n",
              "      <td>0</td>\n",
              "      <td>...</td>\n",
              "      <td>0</td>\n",
              "      <td>0</td>\n",
              "      <td>0</td>\n",
              "      <td>0</td>\n",
              "      <td>0</td>\n",
              "      <td>0</td>\n",
              "      <td>0</td>\n",
              "      <td>0</td>\n",
              "      <td>0</td>\n",
              "      <td>0</td>\n",
              "      <td>0</td>\n",
              "      <td>0</td>\n",
              "      <td>0</td>\n",
              "      <td>0</td>\n",
              "      <td>0</td>\n",
              "      <td>0</td>\n",
              "      <td>0</td>\n",
              "      <td>0</td>\n",
              "      <td>0</td>\n",
              "      <td>0</td>\n",
              "      <td>0</td>\n",
              "      <td>0</td>\n",
              "      <td>0</td>\n",
              "      <td>0</td>\n",
              "      <td>0</td>\n",
              "      <td>0</td>\n",
              "      <td>0</td>\n",
              "      <td>0</td>\n",
              "      <td>0</td>\n",
              "      <td>0</td>\n",
              "      <td>0</td>\n",
              "      <td>0</td>\n",
              "      <td>0</td>\n",
              "      <td>0</td>\n",
              "      <td>0</td>\n",
              "      <td>0</td>\n",
              "      <td>0</td>\n",
              "      <td>0</td>\n",
              "      <td>1</td>\n",
              "      <td>0</td>\n",
              "    </tr>\n",
              "  </tbody>\n",
              "</table>\n",
              "<p>5 rows × 139 columns</p>\n",
              "</div>"
            ],
            "text/plain": [
              "    age  signup_flow  ... iPhone iPodtouch\n",
              "0  62.0            0  ...      0         0\n",
              "1  34.0            0  ...      0         0\n",
              "2  34.0            0  ...      0         0\n",
              "3  34.0            0  ...      0         0\n",
              "4  34.0           25  ...      1         0\n",
              "\n",
              "[5 rows x 139 columns]"
            ]
          },
          "metadata": {
            "tags": []
          },
          "execution_count": 76
        }
      ]
    },
    {
      "cell_type": "code",
      "metadata": {
        "colab": {
          "base_uri": "https://localhost:8080/"
        },
        "id": "1086e8bb-e771-418b-9b2d-2544d2dfa1c0",
        "outputId": "8e819f1c-e58b-49d2-aee9-4dd0091863a2"
      },
      "source": [
        "#Checking null values\n",
        "data1_merge.isnull().sum()"
      ],
      "id": "1086e8bb-e771-418b-9b2d-2544d2dfa1c0",
      "execution_count": 77,
      "outputs": [
        {
          "output_type": "execute_result",
          "data": {
            "text/plain": [
              "age                0\n",
              "signup_flow        0\n",
              "action             0\n",
              "action_type        0\n",
              "action_detail      0\n",
              "                  ..\n",
              "Windows Desktop    0\n",
              "Windows Phone      0\n",
              "iPad Tablet        0\n",
              "iPhone             0\n",
              "iPodtouch          0\n",
              "Length: 139, dtype: int64"
            ]
          },
          "metadata": {
            "tags": []
          },
          "execution_count": 77
        }
      ]
    },
    {
      "cell_type": "code",
      "metadata": {
        "colab": {
          "base_uri": "https://localhost:8080/",
          "height": 457
        },
        "id": "35a13277-97ee-4da1-aba8-4224e3eade0e",
        "outputId": "25d7fbb9-285f-4908-a755-83be59ba5607"
      },
      "source": [
        "print(data2_merge.columns)\n",
        "\n",
        "data2_merge.head()"
      ],
      "id": "35a13277-97ee-4da1-aba8-4224e3eade0e",
      "execution_count": 78,
      "outputs": [
        {
          "output_type": "stream",
          "text": [
            "Index(['age', 'signup_flow', 'action', 'action_type', 'action_detail',\n",
            "       'secs_elapsed', 'date_account_created_day',\n",
            "       'date_account_created_month', 'date_account_created_year',\n",
            "       'timestamp_first_active_day',\n",
            "       ...\n",
            "       'Chromebook', 'Linux Desktop', 'Mac Desktop', 'Opera Phone', 'Tablet',\n",
            "       'Windows Desktop', 'Windows Phone', 'iPad Tablet', 'iPhone',\n",
            "       'iPodtouch'],\n",
            "      dtype='object', length=139)\n"
          ],
          "name": "stdout"
        },
        {
          "output_type": "execute_result",
          "data": {
            "text/html": [
              "<div>\n",
              "<style scoped>\n",
              "    .dataframe tbody tr th:only-of-type {\n",
              "        vertical-align: middle;\n",
              "    }\n",
              "\n",
              "    .dataframe tbody tr th {\n",
              "        vertical-align: top;\n",
              "    }\n",
              "\n",
              "    .dataframe thead th {\n",
              "        text-align: right;\n",
              "    }\n",
              "</style>\n",
              "<table border=\"1\" class=\"dataframe\">\n",
              "  <thead>\n",
              "    <tr style=\"text-align: right;\">\n",
              "      <th></th>\n",
              "      <th>age</th>\n",
              "      <th>signup_flow</th>\n",
              "      <th>action</th>\n",
              "      <th>action_type</th>\n",
              "      <th>action_detail</th>\n",
              "      <th>secs_elapsed</th>\n",
              "      <th>date_account_created_day</th>\n",
              "      <th>date_account_created_month</th>\n",
              "      <th>date_account_created_year</th>\n",
              "      <th>timestamp_first_active_day</th>\n",
              "      <th>timestamp_first_active_month</th>\n",
              "      <th>timestamp_first_active_year</th>\n",
              "      <th>timestamp_first_active_hour</th>\n",
              "      <th>age_interv</th>\n",
              "      <th>gender_-unknown-</th>\n",
              "      <th>gender_FEMALE</th>\n",
              "      <th>gender_MALE</th>\n",
              "      <th>gender_OTHER</th>\n",
              "      <th>signup_method_basic</th>\n",
              "      <th>signup_method_facebook</th>\n",
              "      <th>signup_method_google</th>\n",
              "      <th>language_ca</th>\n",
              "      <th>language_cs</th>\n",
              "      <th>language_da</th>\n",
              "      <th>language_de</th>\n",
              "      <th>language_el</th>\n",
              "      <th>language_en</th>\n",
              "      <th>language_es</th>\n",
              "      <th>language_fi</th>\n",
              "      <th>language_fr</th>\n",
              "      <th>language_hu</th>\n",
              "      <th>language_id</th>\n",
              "      <th>language_is</th>\n",
              "      <th>language_it</th>\n",
              "      <th>language_ja</th>\n",
              "      <th>language_ko</th>\n",
              "      <th>language_nl</th>\n",
              "      <th>language_no</th>\n",
              "      <th>language_pl</th>\n",
              "      <th>language_pt</th>\n",
              "      <th>...</th>\n",
              "      <th>first_browser_CoolNovo</th>\n",
              "      <th>first_browser_Firefox</th>\n",
              "      <th>first_browser_Googlebot</th>\n",
              "      <th>first_browser_IE</th>\n",
              "      <th>first_browser_IE Mobile</th>\n",
              "      <th>first_browser_IceDragon</th>\n",
              "      <th>first_browser_IceWeasel</th>\n",
              "      <th>first_browser_Iron</th>\n",
              "      <th>first_browser_Maxthon</th>\n",
              "      <th>first_browser_Mobile Firefox</th>\n",
              "      <th>first_browser_Mobile Safari</th>\n",
              "      <th>first_browser_Mozilla</th>\n",
              "      <th>first_browser_Opera</th>\n",
              "      <th>first_browser_Opera Mini</th>\n",
              "      <th>first_browser_Outlook 2007</th>\n",
              "      <th>first_browser_Pale Moon</th>\n",
              "      <th>first_browser_RockMelt</th>\n",
              "      <th>first_browser_Safari</th>\n",
              "      <th>first_browser_SeaMonkey</th>\n",
              "      <th>first_browser_Silk</th>\n",
              "      <th>first_browser_SiteKiosk</th>\n",
              "      <th>first_browser_Sogou Explorer</th>\n",
              "      <th>first_browser_TenFourFox</th>\n",
              "      <th>first_browser_TheWorld Browser</th>\n",
              "      <th>first_browser_Yandex.Browser</th>\n",
              "      <th>first_browser_wOSBrowser</th>\n",
              "      <th>-unknown-</th>\n",
              "      <th>Android App Unknown Phone/Tablet</th>\n",
              "      <th>Android Phone</th>\n",
              "      <th>Blackberry</th>\n",
              "      <th>Chromebook</th>\n",
              "      <th>Linux Desktop</th>\n",
              "      <th>Mac Desktop</th>\n",
              "      <th>Opera Phone</th>\n",
              "      <th>Tablet</th>\n",
              "      <th>Windows Desktop</th>\n",
              "      <th>Windows Phone</th>\n",
              "      <th>iPad Tablet</th>\n",
              "      <th>iPhone</th>\n",
              "      <th>iPodtouch</th>\n",
              "    </tr>\n",
              "  </thead>\n",
              "  <tbody>\n",
              "    <tr>\n",
              "      <th>0</th>\n",
              "      <td>35.0</td>\n",
              "      <td>0</td>\n",
              "      <td>show,search,search,show,authenticate,reviews,a...</td>\n",
              "      <td>view,click,click,view,submit,data,-unknown-,click</td>\n",
              "      <td>user_profile,view_search_results,view_search_r...</td>\n",
              "      <td>119187.0</td>\n",
              "      <td>1</td>\n",
              "      <td>7</td>\n",
              "      <td>2014</td>\n",
              "      <td>1</td>\n",
              "      <td>7</td>\n",
              "      <td>2014</td>\n",
              "      <td>0</td>\n",
              "      <td>5</td>\n",
              "      <td>0</td>\n",
              "      <td>1</td>\n",
              "      <td>0</td>\n",
              "      <td>0</td>\n",
              "      <td>0</td>\n",
              "      <td>1</td>\n",
              "      <td>0</td>\n",
              "      <td>0</td>\n",
              "      <td>0</td>\n",
              "      <td>0</td>\n",
              "      <td>0</td>\n",
              "      <td>0</td>\n",
              "      <td>1</td>\n",
              "      <td>0</td>\n",
              "      <td>0</td>\n",
              "      <td>0</td>\n",
              "      <td>0</td>\n",
              "      <td>0</td>\n",
              "      <td>0</td>\n",
              "      <td>0</td>\n",
              "      <td>0</td>\n",
              "      <td>0</td>\n",
              "      <td>0</td>\n",
              "      <td>0</td>\n",
              "      <td>0</td>\n",
              "      <td>0</td>\n",
              "      <td>...</td>\n",
              "      <td>0</td>\n",
              "      <td>0</td>\n",
              "      <td>0</td>\n",
              "      <td>0</td>\n",
              "      <td>0</td>\n",
              "      <td>0</td>\n",
              "      <td>0</td>\n",
              "      <td>0</td>\n",
              "      <td>0</td>\n",
              "      <td>0</td>\n",
              "      <td>1</td>\n",
              "      <td>0</td>\n",
              "      <td>0</td>\n",
              "      <td>0</td>\n",
              "      <td>0</td>\n",
              "      <td>0</td>\n",
              "      <td>0</td>\n",
              "      <td>0</td>\n",
              "      <td>0</td>\n",
              "      <td>0</td>\n",
              "      <td>0</td>\n",
              "      <td>0</td>\n",
              "      <td>0</td>\n",
              "      <td>0</td>\n",
              "      <td>0</td>\n",
              "      <td>0</td>\n",
              "      <td>1</td>\n",
              "      <td>0</td>\n",
              "      <td>0</td>\n",
              "      <td>0</td>\n",
              "      <td>0</td>\n",
              "      <td>0</td>\n",
              "      <td>0</td>\n",
              "      <td>0</td>\n",
              "      <td>0</td>\n",
              "      <td>0</td>\n",
              "      <td>0</td>\n",
              "      <td>0</td>\n",
              "      <td>1</td>\n",
              "      <td>0</td>\n",
              "    </tr>\n",
              "    <tr>\n",
              "      <th>1</th>\n",
              "      <td>34.0</td>\n",
              "      <td>0</td>\n",
              "      <td>dashboard,login,search,create,search,signup_lo...</td>\n",
              "      <td>view,view,click,submit,click,view,-unknown-,vi...</td>\n",
              "      <td>dashboard,login_page,view_search_results,creat...</td>\n",
              "      <td>250119.0</td>\n",
              "      <td>1</td>\n",
              "      <td>7</td>\n",
              "      <td>2014</td>\n",
              "      <td>1</td>\n",
              "      <td>7</td>\n",
              "      <td>2014</td>\n",
              "      <td>0</td>\n",
              "      <td>4</td>\n",
              "      <td>1</td>\n",
              "      <td>0</td>\n",
              "      <td>0</td>\n",
              "      <td>0</td>\n",
              "      <td>1</td>\n",
              "      <td>0</td>\n",
              "      <td>0</td>\n",
              "      <td>0</td>\n",
              "      <td>0</td>\n",
              "      <td>0</td>\n",
              "      <td>0</td>\n",
              "      <td>0</td>\n",
              "      <td>1</td>\n",
              "      <td>0</td>\n",
              "      <td>0</td>\n",
              "      <td>0</td>\n",
              "      <td>0</td>\n",
              "      <td>0</td>\n",
              "      <td>0</td>\n",
              "      <td>0</td>\n",
              "      <td>0</td>\n",
              "      <td>0</td>\n",
              "      <td>0</td>\n",
              "      <td>0</td>\n",
              "      <td>0</td>\n",
              "      <td>0</td>\n",
              "      <td>...</td>\n",
              "      <td>0</td>\n",
              "      <td>0</td>\n",
              "      <td>0</td>\n",
              "      <td>0</td>\n",
              "      <td>0</td>\n",
              "      <td>0</td>\n",
              "      <td>0</td>\n",
              "      <td>0</td>\n",
              "      <td>0</td>\n",
              "      <td>0</td>\n",
              "      <td>1</td>\n",
              "      <td>0</td>\n",
              "      <td>0</td>\n",
              "      <td>0</td>\n",
              "      <td>0</td>\n",
              "      <td>0</td>\n",
              "      <td>0</td>\n",
              "      <td>0</td>\n",
              "      <td>0</td>\n",
              "      <td>0</td>\n",
              "      <td>0</td>\n",
              "      <td>0</td>\n",
              "      <td>0</td>\n",
              "      <td>0</td>\n",
              "      <td>0</td>\n",
              "      <td>0</td>\n",
              "      <td>1</td>\n",
              "      <td>0</td>\n",
              "      <td>0</td>\n",
              "      <td>0</td>\n",
              "      <td>0</td>\n",
              "      <td>0</td>\n",
              "      <td>0</td>\n",
              "      <td>0</td>\n",
              "      <td>0</td>\n",
              "      <td>0</td>\n",
              "      <td>0</td>\n",
              "      <td>0</td>\n",
              "      <td>1</td>\n",
              "      <td>0</td>\n",
              "    </tr>\n",
              "    <tr>\n",
              "      <th>2</th>\n",
              "      <td>34.0</td>\n",
              "      <td>0</td>\n",
              "      <td>index,index,index,search_results,search_result...</td>\n",
              "      <td>view,view,view,click,click,click,click,data,vi...</td>\n",
              "      <td>view_search_results,view_search_results,view_s...</td>\n",
              "      <td>975575.0</td>\n",
              "      <td>1</td>\n",
              "      <td>7</td>\n",
              "      <td>2014</td>\n",
              "      <td>1</td>\n",
              "      <td>7</td>\n",
              "      <td>2014</td>\n",
              "      <td>0</td>\n",
              "      <td>4</td>\n",
              "      <td>1</td>\n",
              "      <td>0</td>\n",
              "      <td>0</td>\n",
              "      <td>0</td>\n",
              "      <td>1</td>\n",
              "      <td>0</td>\n",
              "      <td>0</td>\n",
              "      <td>0</td>\n",
              "      <td>0</td>\n",
              "      <td>0</td>\n",
              "      <td>0</td>\n",
              "      <td>0</td>\n",
              "      <td>1</td>\n",
              "      <td>0</td>\n",
              "      <td>0</td>\n",
              "      <td>0</td>\n",
              "      <td>0</td>\n",
              "      <td>0</td>\n",
              "      <td>0</td>\n",
              "      <td>0</td>\n",
              "      <td>0</td>\n",
              "      <td>0</td>\n",
              "      <td>0</td>\n",
              "      <td>0</td>\n",
              "      <td>0</td>\n",
              "      <td>0</td>\n",
              "      <td>...</td>\n",
              "      <td>0</td>\n",
              "      <td>0</td>\n",
              "      <td>0</td>\n",
              "      <td>0</td>\n",
              "      <td>0</td>\n",
              "      <td>0</td>\n",
              "      <td>0</td>\n",
              "      <td>0</td>\n",
              "      <td>0</td>\n",
              "      <td>0</td>\n",
              "      <td>0</td>\n",
              "      <td>0</td>\n",
              "      <td>0</td>\n",
              "      <td>0</td>\n",
              "      <td>0</td>\n",
              "      <td>0</td>\n",
              "      <td>0</td>\n",
              "      <td>0</td>\n",
              "      <td>0</td>\n",
              "      <td>0</td>\n",
              "      <td>0</td>\n",
              "      <td>0</td>\n",
              "      <td>0</td>\n",
              "      <td>0</td>\n",
              "      <td>0</td>\n",
              "      <td>0</td>\n",
              "      <td>0</td>\n",
              "      <td>0</td>\n",
              "      <td>0</td>\n",
              "      <td>0</td>\n",
              "      <td>0</td>\n",
              "      <td>0</td>\n",
              "      <td>0</td>\n",
              "      <td>0</td>\n",
              "      <td>0</td>\n",
              "      <td>1</td>\n",
              "      <td>0</td>\n",
              "      <td>0</td>\n",
              "      <td>0</td>\n",
              "      <td>0</td>\n",
              "    </tr>\n",
              "    <tr>\n",
              "      <th>3</th>\n",
              "      <td>34.0</td>\n",
              "      <td>0</td>\n",
              "      <td>personalize,header_userpic,header_userpic,show...</td>\n",
              "      <td>data,data,data,view,view,,data,click,submit,,data</td>\n",
              "      <td>wishlist_content_update,header_userpic,header_...</td>\n",
              "      <td>123001.0</td>\n",
              "      <td>1</td>\n",
              "      <td>7</td>\n",
              "      <td>2014</td>\n",
              "      <td>1</td>\n",
              "      <td>7</td>\n",
              "      <td>2014</td>\n",
              "      <td>0</td>\n",
              "      <td>4</td>\n",
              "      <td>1</td>\n",
              "      <td>0</td>\n",
              "      <td>0</td>\n",
              "      <td>0</td>\n",
              "      <td>1</td>\n",
              "      <td>0</td>\n",
              "      <td>0</td>\n",
              "      <td>0</td>\n",
              "      <td>0</td>\n",
              "      <td>0</td>\n",
              "      <td>0</td>\n",
              "      <td>0</td>\n",
              "      <td>1</td>\n",
              "      <td>0</td>\n",
              "      <td>0</td>\n",
              "      <td>0</td>\n",
              "      <td>0</td>\n",
              "      <td>0</td>\n",
              "      <td>0</td>\n",
              "      <td>0</td>\n",
              "      <td>0</td>\n",
              "      <td>0</td>\n",
              "      <td>0</td>\n",
              "      <td>0</td>\n",
              "      <td>0</td>\n",
              "      <td>0</td>\n",
              "      <td>...</td>\n",
              "      <td>0</td>\n",
              "      <td>0</td>\n",
              "      <td>0</td>\n",
              "      <td>1</td>\n",
              "      <td>0</td>\n",
              "      <td>0</td>\n",
              "      <td>0</td>\n",
              "      <td>0</td>\n",
              "      <td>0</td>\n",
              "      <td>0</td>\n",
              "      <td>0</td>\n",
              "      <td>0</td>\n",
              "      <td>0</td>\n",
              "      <td>0</td>\n",
              "      <td>0</td>\n",
              "      <td>0</td>\n",
              "      <td>0</td>\n",
              "      <td>0</td>\n",
              "      <td>0</td>\n",
              "      <td>0</td>\n",
              "      <td>0</td>\n",
              "      <td>0</td>\n",
              "      <td>0</td>\n",
              "      <td>0</td>\n",
              "      <td>0</td>\n",
              "      <td>0</td>\n",
              "      <td>0</td>\n",
              "      <td>0</td>\n",
              "      <td>0</td>\n",
              "      <td>0</td>\n",
              "      <td>0</td>\n",
              "      <td>0</td>\n",
              "      <td>0</td>\n",
              "      <td>0</td>\n",
              "      <td>0</td>\n",
              "      <td>1</td>\n",
              "      <td>0</td>\n",
              "      <td>0</td>\n",
              "      <td>0</td>\n",
              "      <td>0</td>\n",
              "    </tr>\n",
              "    <tr>\n",
              "      <th>4</th>\n",
              "      <td>34.0</td>\n",
              "      <td>0</td>\n",
              "      <td>message_to_host_change,agree_terms_check,pendi...</td>\n",
              "      <td>click,-unknown-,booking_request,message_post,v...</td>\n",
              "      <td>message_to_host_change,-unknown-,pending,messa...</td>\n",
              "      <td>454023.0</td>\n",
              "      <td>1</td>\n",
              "      <td>7</td>\n",
              "      <td>2014</td>\n",
              "      <td>1</td>\n",
              "      <td>7</td>\n",
              "      <td>2014</td>\n",
              "      <td>0</td>\n",
              "      <td>4</td>\n",
              "      <td>1</td>\n",
              "      <td>0</td>\n",
              "      <td>0</td>\n",
              "      <td>0</td>\n",
              "      <td>1</td>\n",
              "      <td>0</td>\n",
              "      <td>0</td>\n",
              "      <td>0</td>\n",
              "      <td>0</td>\n",
              "      <td>0</td>\n",
              "      <td>0</td>\n",
              "      <td>0</td>\n",
              "      <td>1</td>\n",
              "      <td>0</td>\n",
              "      <td>0</td>\n",
              "      <td>0</td>\n",
              "      <td>0</td>\n",
              "      <td>0</td>\n",
              "      <td>0</td>\n",
              "      <td>0</td>\n",
              "      <td>0</td>\n",
              "      <td>0</td>\n",
              "      <td>0</td>\n",
              "      <td>0</td>\n",
              "      <td>0</td>\n",
              "      <td>0</td>\n",
              "      <td>...</td>\n",
              "      <td>0</td>\n",
              "      <td>0</td>\n",
              "      <td>0</td>\n",
              "      <td>0</td>\n",
              "      <td>0</td>\n",
              "      <td>0</td>\n",
              "      <td>0</td>\n",
              "      <td>0</td>\n",
              "      <td>0</td>\n",
              "      <td>0</td>\n",
              "      <td>0</td>\n",
              "      <td>0</td>\n",
              "      <td>0</td>\n",
              "      <td>0</td>\n",
              "      <td>0</td>\n",
              "      <td>0</td>\n",
              "      <td>0</td>\n",
              "      <td>1</td>\n",
              "      <td>0</td>\n",
              "      <td>0</td>\n",
              "      <td>0</td>\n",
              "      <td>0</td>\n",
              "      <td>0</td>\n",
              "      <td>0</td>\n",
              "      <td>0</td>\n",
              "      <td>0</td>\n",
              "      <td>0</td>\n",
              "      <td>0</td>\n",
              "      <td>0</td>\n",
              "      <td>0</td>\n",
              "      <td>0</td>\n",
              "      <td>0</td>\n",
              "      <td>1</td>\n",
              "      <td>0</td>\n",
              "      <td>0</td>\n",
              "      <td>0</td>\n",
              "      <td>0</td>\n",
              "      <td>0</td>\n",
              "      <td>0</td>\n",
              "      <td>0</td>\n",
              "    </tr>\n",
              "  </tbody>\n",
              "</table>\n",
              "<p>5 rows × 139 columns</p>\n",
              "</div>"
            ],
            "text/plain": [
              "    age  signup_flow  ... iPhone iPodtouch\n",
              "0  35.0            0  ...      1         0\n",
              "1  34.0            0  ...      1         0\n",
              "2  34.0            0  ...      0         0\n",
              "3  34.0            0  ...      0         0\n",
              "4  34.0            0  ...      0         0\n",
              "\n",
              "[5 rows x 139 columns]"
            ]
          },
          "metadata": {
            "tags": []
          },
          "execution_count": 78
        }
      ]
    },
    {
      "cell_type": "code",
      "metadata": {
        "colab": {
          "base_uri": "https://localhost:8080/"
        },
        "id": "1d7637dc-4d88-417d-aeb8-647201486ca6",
        "outputId": "837c4575-96cc-4731-f527-6bba14d2bbb5"
      },
      "source": [
        "\n",
        "#Checking null values\n",
        "data2_merge.isnull().sum()"
      ],
      "id": "1d7637dc-4d88-417d-aeb8-647201486ca6",
      "execution_count": 79,
      "outputs": [
        {
          "output_type": "execute_result",
          "data": {
            "text/plain": [
              "age                0\n",
              "signup_flow        0\n",
              "action             0\n",
              "action_type        0\n",
              "action_detail      0\n",
              "                  ..\n",
              "Windows Desktop    0\n",
              "Windows Phone      0\n",
              "iPad Tablet        0\n",
              "iPhone             0\n",
              "iPodtouch          0\n",
              "Length: 139, dtype: int64"
            ]
          },
          "metadata": {
            "tags": []
          },
          "execution_count": 79
        }
      ]
    },
    {
      "cell_type": "code",
      "metadata": {
        "colab": {
          "base_uri": "https://localhost:8080/"
        },
        "id": "f3431ad1-2420-487a-85a4-58871da18bcf",
        "outputId": "512279ad-3440-4566-bffd-3ee4b7eb2ce9"
      },
      "source": [
        "print(data1_merge.shape,y.shape)"
      ],
      "id": "f3431ad1-2420-487a-85a4-58871da18bcf",
      "execution_count": 80,
      "outputs": [
        {
          "output_type": "stream",
          "text": [
            "(73815, 139) (73815,)\n"
          ],
          "name": "stdout"
        }
      ]
    },
    {
      "cell_type": "code",
      "metadata": {
        "colab": {
          "base_uri": "https://localhost:8080/"
        },
        "id": "a816b7fc-06d3-407f-884b-5896e7f5f098",
        "outputId": "58529aa1-1564-45b1-c0c7-2b6a8a05d002"
      },
      "source": [
        "print(data2_merge.shape)"
      ],
      "id": "a816b7fc-06d3-407f-884b-5896e7f5f098",
      "execution_count": 81,
      "outputs": [
        {
          "output_type": "stream",
          "text": [
            "(62096, 139)\n"
          ],
          "name": "stdout"
        }
      ]
    },
    {
      "cell_type": "code",
      "metadata": {
        "id": "d8a90a77-c7b3-4d21-bc32-c24fd991dcf9"
      },
      "source": [
        "# tokenisation\n",
        "\n",
        "def tokens(x):\n",
        "        \n",
        "    \"\"\"\n",
        "    \n",
        "    Function takes strings and tokenises using comma.\n",
        "    \n",
        "    parameters:  string\n",
        "    \n",
        "    returns: comma separeted tokens\n",
        "    \n",
        "    \"\"\"\n",
        "        \n",
        "    return x.split(',')"
      ],
      "id": "d8a90a77-c7b3-4d21-bc32-c24fd991dcf9",
      "execution_count": 82,
      "outputs": []
    },
    {
      "cell_type": "code",
      "metadata": {
        "colab": {
          "base_uri": "https://localhost:8080/"
        },
        "id": "081f1b5c-baaa-4689-9c8d-97d847218a99",
        "outputId": "0e693840-2ded-4d74-8f6e-c7f6e302fa8c"
      },
      "source": [
        "\n",
        "# TFIDF action\n",
        "\n",
        "\n",
        "vectorizer_action = TfidfVectorizer(min_df=10,max_features=5000,tokenizer=tokens)\n",
        "\n",
        "vectorizer_action.fit(data1_merge['action'].values)\n",
        "\n",
        "data1_merge_action_tfidf = vectorizer_action.transform(data1_merge['action'].values)\n",
        "\n",
        "data2_merge_action_tfidf = vectorizer_action.transform(data2_merge['action'].values)\n",
        "\n",
        "print(\"After vectorizations\")\n",
        "print(data1_merge_action_tfidf.shape)\n",
        "print(data2_merge_action_tfidf.shape)\n",
        "print(\"=\"*100)"
      ],
      "id": "081f1b5c-baaa-4689-9c8d-97d847218a99",
      "execution_count": 83,
      "outputs": [
        {
          "output_type": "stream",
          "text": [
            "After vectorizations\n",
            "(73815, 256)\n",
            "(62096, 256)\n",
            "====================================================================================================\n"
          ],
          "name": "stdout"
        }
      ]
    },
    {
      "cell_type": "code",
      "metadata": {
        "colab": {
          "base_uri": "https://localhost:8080/"
        },
        "id": "h7EzWLrO5fJV",
        "outputId": "540a3d3a-e961-4795-85b3-83f26c243dd1"
      },
      "source": [
        "action_feat = vectorizer_action.get_feature_names()\n",
        "\n",
        "action_feat"
      ],
      "id": "h7EzWLrO5fJV",
      "execution_count": 84,
      "outputs": [
        {
          "output_type": "execute_result",
          "data": {
            "text/plain": [
              "['',\n",
              " '10',\n",
              " '11',\n",
              " '12',\n",
              " '15',\n",
              " 'about_us',\n",
              " 'account',\n",
              " 'active',\n",
              " 'add_guests',\n",
              " 'add_note',\n",
              " 'agree_terms_check',\n",
              " 'agree_terms_uncheck',\n",
              " 'airbnb_picks',\n",
              " 'ajax_check_dates',\n",
              " 'ajax_get_referrals_amt',\n",
              " 'ajax_get_results',\n",
              " 'ajax_google_translate',\n",
              " 'ajax_google_translate_description',\n",
              " 'ajax_google_translate_reviews',\n",
              " 'ajax_image_upload',\n",
              " 'ajax_ldp',\n",
              " 'ajax_lwlb_contact',\n",
              " 'ajax_payout_edit',\n",
              " 'ajax_payout_options_by_country',\n",
              " 'ajax_photo_widget_form_iframe',\n",
              " 'ajax_price_and_availability',\n",
              " 'ajax_referral_banner_experiment_type',\n",
              " 'ajax_referral_banner_type',\n",
              " 'ajax_refresh_subtotal',\n",
              " 'ajax_send_message',\n",
              " 'ajax_statsd',\n",
              " 'ajax_worth',\n",
              " 'apply_code',\n",
              " 'apply_coupon_click',\n",
              " 'apply_coupon_click_success',\n",
              " 'apply_coupon_error',\n",
              " 'apply_coupon_error_type',\n",
              " 'apply_reservation',\n",
              " 'ask_question',\n",
              " 'at_checkpoint',\n",
              " 'authenticate',\n",
              " 'authorize',\n",
              " 'available',\n",
              " 'become_user',\n",
              " 'calendar_tab_inner2',\n",
              " 'callback',\n",
              " 'campaigns',\n",
              " 'cancel',\n",
              " 'cancellation_policies',\n",
              " 'cancellation_policy_click',\n",
              " 'change',\n",
              " 'change_availability',\n",
              " 'change_currency',\n",
              " 'change_password',\n",
              " 'check',\n",
              " 'clear_reservation',\n",
              " 'click',\n",
              " 'clickthrough',\n",
              " 'collections',\n",
              " 'complete',\n",
              " 'complete_redirect',\n",
              " 'complete_status',\n",
              " 'concierge',\n",
              " 'confirm_email',\n",
              " 'connect',\n",
              " 'contact_new',\n",
              " 'countries',\n",
              " 'country_options',\n",
              " 'coupon_code_click',\n",
              " 'coupon_field_focus',\n",
              " 'create',\n",
              " 'create_ach',\n",
              " 'create_multiple',\n",
              " 'create_paypal',\n",
              " 'currencies',\n",
              " 'dashboard',\n",
              " 'decision_tree',\n",
              " 'delete',\n",
              " 'department',\n",
              " 'departments',\n",
              " 'destroy',\n",
              " 'detect_fb_session',\n",
              " 'domains',\n",
              " 'edit',\n",
              " 'edit_verification',\n",
              " 'email_itinerary_colorbox',\n",
              " 'email_share',\n",
              " 'email_wishlist',\n",
              " 'endpoint_error',\n",
              " 'facebook_auto_login',\n",
              " 'faq',\n",
              " 'faq_category',\n",
              " 'faq_experiment_ids',\n",
              " 'forgot_password',\n",
              " 'founders',\n",
              " 'friends',\n",
              " 'friends_new',\n",
              " 'glob',\n",
              " 'guarantee',\n",
              " 'guest_booked_elsewhere',\n",
              " 'handle_vanity_url',\n",
              " 'header_userpic',\n",
              " 'home_safety_landing',\n",
              " 'home_safety_terms',\n",
              " 'hospitality',\n",
              " 'hospitality_standards',\n",
              " 'host_2013',\n",
              " 'host_summary',\n",
              " 'hosting_social_proof',\n",
              " 'how_it_works',\n",
              " 'identity',\n",
              " 'image_order',\n",
              " 'impressions',\n",
              " 'index',\n",
              " 'invalid_action',\n",
              " 'issue',\n",
              " 'itinerary',\n",
              " 'jumio',\n",
              " 'jumio_redirect',\n",
              " 'jumio_token',\n",
              " 'kba',\n",
              " 'kba_update',\n",
              " 'languages_multiselect',\n",
              " 'life',\n",
              " 'listing',\n",
              " 'listings',\n",
              " 'localization_settings',\n",
              " 'locations',\n",
              " 'login',\n",
              " 'login_modal',\n",
              " 'lookup',\n",
              " 'manage_listing',\n",
              " 'message_to_host_change',\n",
              " 'message_to_host_focus',\n",
              " 'mobile_landing_page',\n",
              " 'mobile_oauth_callback',\n",
              " 'multi',\n",
              " 'multi_message',\n",
              " 'multi_message_attributes',\n",
              " 'my',\n",
              " 'my_listings',\n",
              " 'new',\n",
              " 'new_session',\n",
              " 'notifications',\n",
              " 'office_location',\n",
              " 'onenight',\n",
              " 'open_graph_setting',\n",
              " 'other_hosting_reviews',\n",
              " 'other_hosting_reviews_first',\n",
              " 'overview',\n",
              " 'p4_refund_policy_terms',\n",
              " 'p4_terms',\n",
              " 'patch',\n",
              " 'pay',\n",
              " 'payment_instruments',\n",
              " 'payment_methods',\n",
              " 'payoneer_account_redirect',\n",
              " 'payoneer_signup_complete',\n",
              " 'payout_preferences',\n",
              " 'payout_update',\n",
              " 'pending',\n",
              " 'pending_tickets',\n",
              " 'personalize',\n",
              " 'phone_number_widget',\n",
              " 'phone_verification_call_taking_too_long',\n",
              " 'phone_verification_error',\n",
              " 'phone_verification_modal',\n",
              " 'phone_verification_number_submitted_for_call',\n",
              " 'phone_verification_number_submitted_for_sms',\n",
              " 'phone_verification_number_sucessfully_submitted',\n",
              " 'phone_verification_phone_number_removed',\n",
              " 'phone_verification_success',\n",
              " 'photography',\n",
              " 'place_worth',\n",
              " 'popular',\n",
              " 'popular_listing',\n",
              " 'populate_from_facebook',\n",
              " 'populate_help_dropdown',\n",
              " 'position',\n",
              " 'press_news',\n",
              " 'press_release',\n",
              " 'privacy',\n",
              " 'profile_pic',\n",
              " 'push_notification_callback',\n",
              " 'qt2',\n",
              " 'qt_reply_v2',\n",
              " 'qt_with',\n",
              " 'rate',\n",
              " 'read_policy_click',\n",
              " 'receipt',\n",
              " 'recent_reservations',\n",
              " 'recommend',\n",
              " 'recommendations',\n",
              " 'recommended_listings',\n",
              " 'references',\n",
              " 'referrer_status',\n",
              " 'relationship',\n",
              " 'remove_dashboard_alert',\n",
              " 'reputation',\n",
              " 'request_new_confirm_email',\n",
              " 'request_photography',\n",
              " 'requested',\n",
              " 'requirements',\n",
              " 'review_page',\n",
              " 'reviews',\n",
              " 'reviews_new',\n",
              " 'salute',\n",
              " 'search',\n",
              " 'search_results',\n",
              " 'set_password',\n",
              " 'set_user',\n",
              " 'settings',\n",
              " 'show',\n",
              " 'show_code',\n",
              " 'show_personalize',\n",
              " 'signature',\n",
              " 'signed_out_modal',\n",
              " 'signup_login',\n",
              " 'signup_modal',\n",
              " 'similar_listings',\n",
              " 'similar_listings_v2',\n",
              " 'slideshow',\n",
              " 'social',\n",
              " 'social_connections',\n",
              " 'spoken_languages',\n",
              " 'status',\n",
              " 'sublets',\n",
              " 'submit_contact',\n",
              " 'supported',\n",
              " 'tell_a_friend',\n",
              " 'terms',\n",
              " 'terms_and_conditions',\n",
              " 'this_hosting_reviews',\n",
              " 'toggle_archived_thread',\n",
              " 'toggle_starred_thread',\n",
              " 'top_destinations',\n",
              " 'tos_confirm',\n",
              " 'track_page_view',\n",
              " 'transaction_history',\n",
              " 'transaction_history_paginated',\n",
              " 'travel_plans_current',\n",
              " 'travel_plans_previous',\n",
              " 'trust',\n",
              " 'unavailabilities',\n",
              " 'unread',\n",
              " 'update',\n",
              " 'update_cached',\n",
              " 'update_friends_display',\n",
              " 'update_hide_from_search_engines',\n",
              " 'update_notifications',\n",
              " 'update_reservation_requirements',\n",
              " 'upload',\n",
              " 'uptodate',\n",
              " 'verify',\n",
              " 'webcam_upload',\n",
              " 'why_host']"
            ]
          },
          "metadata": {
            "tags": []
          },
          "execution_count": 84
        }
      ]
    },
    {
      "cell_type": "code",
      "metadata": {
        "colab": {
          "base_uri": "https://localhost:8080/"
        },
        "id": "QGR0aC2W5fVV",
        "outputId": "edc074e6-bcb6-4e76-a005-f847de5b9f15"
      },
      "source": [
        "# TFIDF action_type\n",
        "\n",
        "vectorizer_action_type = TfidfVectorizer(min_df=10,max_features=5000,tokenizer=tokens)\n",
        "\n",
        "vectorizer_action_type.fit(data1_merge['action_type'].values)\n",
        "\n",
        "data1_merge_action_type_tfidf = vectorizer_action_type.transform(data1_merge['action_type'].values)\n",
        "\n",
        "data2_merge_action_type_tfidf = vectorizer_action_type.transform(data2_merge['action_type'].values)\n",
        "\n",
        "print(\"After vectorizations\")\n",
        "print(data1_merge_action_type_tfidf.shape)\n",
        "print(data2_merge_action_type_tfidf.shape)\n",
        "print(\"=\"*100)"
      ],
      "id": "QGR0aC2W5fVV",
      "execution_count": 85,
      "outputs": [
        {
          "output_type": "stream",
          "text": [
            "After vectorizations\n",
            "(73815, 9)\n",
            "(62096, 9)\n",
            "====================================================================================================\n"
          ],
          "name": "stdout"
        }
      ]
    },
    {
      "cell_type": "code",
      "metadata": {
        "colab": {
          "base_uri": "https://localhost:8080/"
        },
        "id": "4fe5658f-cd33-4480-9466-ebbf961b2fd3",
        "outputId": "28fa3838-86d2-42a9-d6f0-a838ed1896b8"
      },
      "source": [
        "action_type_feat = vectorizer_action_type.get_feature_names()\n",
        "\n",
        "action_type_feat"
      ],
      "id": "4fe5658f-cd33-4480-9466-ebbf961b2fd3",
      "execution_count": 86,
      "outputs": [
        {
          "output_type": "execute_result",
          "data": {
            "text/plain": [
              "['',\n",
              " '-unknown-',\n",
              " 'booking_request',\n",
              " 'click',\n",
              " 'data',\n",
              " 'message_post',\n",
              " 'partner_callback',\n",
              " 'submit',\n",
              " 'view']"
            ]
          },
          "metadata": {
            "tags": []
          },
          "execution_count": 86
        }
      ]
    },
    {
      "cell_type": "code",
      "metadata": {
        "colab": {
          "base_uri": "https://localhost:8080/"
        },
        "id": "9f6d48cb-34b2-43dd-aca8-c59da07fdf8e",
        "outputId": "29f618ce-4002-4307-e425-4ed982887981"
      },
      "source": [
        "# TFIDF action_detail\n",
        "\n",
        "vectorizer_action_detail = TfidfVectorizer(min_df=10,max_features=5000,tokenizer=tokens)\n",
        "\n",
        "vectorizer_action_detail.fit(data1_merge['action_detail'].values)\n",
        "\n",
        "data1_merge_action_detail_tfidf = vectorizer_action_detail.transform(data1_merge['action_detail'].values)\n",
        "\n",
        "data2_merge_action_detail_tfidf = vectorizer_action_detail.transform(data2_merge['action_detail'].values)\n",
        "\n",
        "print(\"After vectorizations\")\n",
        "print(data1_merge_action_detail_tfidf.shape)\n",
        "print(data2_merge_action_detail_tfidf.shape)\n",
        "print(\"=\"*100)"
      ],
      "id": "9f6d48cb-34b2-43dd-aca8-c59da07fdf8e",
      "execution_count": 87,
      "outputs": [
        {
          "output_type": "stream",
          "text": [
            "After vectorizations\n",
            "(73815, 122)\n",
            "(62096, 122)\n",
            "====================================================================================================\n"
          ],
          "name": "stdout"
        }
      ]
    },
    {
      "cell_type": "code",
      "metadata": {
        "colab": {
          "base_uri": "https://localhost:8080/"
        },
        "id": "d72b6ab0-6960-4b53-914f-62be2e12f049",
        "outputId": "533ea220-baae-42be-d7a2-79f57d91ae6a"
      },
      "source": [
        "\n",
        "action_detail_feat = vectorizer_action_detail.get_feature_names()\n",
        "\n",
        "action_detail_feat"
      ],
      "id": "d72b6ab0-6960-4b53-914f-62be2e12f049",
      "execution_count": 88,
      "outputs": [
        {
          "output_type": "execute_result",
          "data": {
            "text/plain": [
              "['',\n",
              " '-unknown-',\n",
              " 'account_notification_settings',\n",
              " 'account_payout_preferences',\n",
              " 'account_privacy_settings',\n",
              " 'account_transaction_history',\n",
              " 'admin_templates',\n",
              " 'airbnb_picks_wishlists',\n",
              " 'alteration_field',\n",
              " 'alteration_request',\n",
              " 'apply_coupon',\n",
              " 'apply_coupon_click',\n",
              " 'apply_coupon_click_success',\n",
              " 'apply_coupon_error',\n",
              " 'at_checkpoint',\n",
              " 'book_it',\n",
              " 'calculate_worth',\n",
              " 'cancellation_policies',\n",
              " 'cancellation_policy_click',\n",
              " 'change_availability',\n",
              " 'change_contact_host_dates',\n",
              " 'change_or_alter',\n",
              " 'change_password',\n",
              " 'change_trip_characteristics',\n",
              " 'complete_booking',\n",
              " 'confirm_email',\n",
              " 'confirm_email_link',\n",
              " 'contact_host',\n",
              " 'coupon_code_click',\n",
              " 'coupon_field_focus',\n",
              " 'create_alteration_request',\n",
              " 'create_listing',\n",
              " 'create_phone_numbers',\n",
              " 'create_user',\n",
              " 'dashboard',\n",
              " 'delete_listing',\n",
              " 'delete_phone_numbers',\n",
              " 'edit_profile',\n",
              " 'email_wishlist',\n",
              " 'email_wishlist_button',\n",
              " 'forgot_password',\n",
              " 'friends_wishlists',\n",
              " 'guest_cancellation',\n",
              " 'guest_itinerary',\n",
              " 'guest_receipt',\n",
              " 'header_userpic',\n",
              " 'host_guarantee',\n",
              " 'host_home',\n",
              " 'instant_book',\n",
              " 'list_your_space',\n",
              " 'listing_descriptions',\n",
              " 'listing_recommendations',\n",
              " 'listing_reviews',\n",
              " 'listing_reviews_page',\n",
              " 'login',\n",
              " 'login_modal',\n",
              " 'login_page',\n",
              " 'lookup_message_thread',\n",
              " 'manage_listing',\n",
              " 'message_inbox',\n",
              " 'message_post',\n",
              " 'message_thread',\n",
              " 'message_to_host_change',\n",
              " 'message_to_host_focus',\n",
              " 'notifications',\n",
              " 'oauth_login',\n",
              " 'oauth_response',\n",
              " 'p1',\n",
              " 'p3',\n",
              " 'p4',\n",
              " 'p4_refund_policy_terms',\n",
              " 'p4_terms',\n",
              " 'p5',\n",
              " 'payment_instruments',\n",
              " 'pending',\n",
              " 'phone_verification_success',\n",
              " 'place_worth',\n",
              " 'popular_wishlists',\n",
              " 'post_checkout_action',\n",
              " 'previous_trips',\n",
              " 'profile_references',\n",
              " 'profile_verifications',\n",
              " 'read_policy_click',\n",
              " 'remove_dashboard_alert',\n",
              " 'request_new_confirm_email',\n",
              " 'request_to_book',\n",
              " 'reservations',\n",
              " 'send_message',\n",
              " 'set_password',\n",
              " 'set_password_page',\n",
              " 'signup',\n",
              " 'signup_login_page',\n",
              " 'signup_modal',\n",
              " 'similar_listings',\n",
              " 'terms_and_privacy',\n",
              " 'toggle_archived_thread',\n",
              " 'toggle_starred_thread',\n",
              " 'translate_listing_reviews',\n",
              " 'translations',\n",
              " 'trip_availability',\n",
              " 'unavailable_dates',\n",
              " 'update_listing',\n",
              " 'update_listing_description',\n",
              " 'update_user',\n",
              " 'update_user_profile',\n",
              " 'user_friend_recommendations',\n",
              " 'user_languages',\n",
              " 'user_listings',\n",
              " 'user_profile',\n",
              " 'user_profile_content_update',\n",
              " 'user_reviews',\n",
              " 'user_social_connections',\n",
              " 'user_tax_forms',\n",
              " 'user_wishlists',\n",
              " 'view_listing',\n",
              " 'view_search_results',\n",
              " 'wishlist',\n",
              " 'wishlist_content_update',\n",
              " 'wishlist_note',\n",
              " 'your_listings',\n",
              " 'your_reservations',\n",
              " 'your_trips']"
            ]
          },
          "metadata": {
            "tags": []
          },
          "execution_count": 88
        }
      ]
    },
    {
      "cell_type": "code",
      "metadata": {
        "id": "e1f80144-6bb0-48d8-82f8-a6f9af7e6c75"
      },
      "source": [
        "# drop colmns\n",
        "\n",
        "data1_merge.drop(['action','action_type','action_detail'],axis=1,inplace = True)\n",
        "\n",
        "data2_merge.drop(['action','action_type','action_detail'],axis=1,inplace = True)"
      ],
      "id": "e1f80144-6bb0-48d8-82f8-a6f9af7e6c75",
      "execution_count": 89,
      "outputs": []
    },
    {
      "cell_type": "code",
      "metadata": {
        "colab": {
          "base_uri": "https://localhost:8080/"
        },
        "id": "3c5c8837-6f5d-48a4-89ff-310e9e399ecf",
        "outputId": "cfd5dbca-335f-4ca7-f2a3-14a71b33852e"
      },
      "source": [
        "col_lst = [i for i in data1_merge.columns]\n",
        "\n",
        "col_lst"
      ],
      "id": "3c5c8837-6f5d-48a4-89ff-310e9e399ecf",
      "execution_count": 90,
      "outputs": [
        {
          "output_type": "execute_result",
          "data": {
            "text/plain": [
              "['age',\n",
              " 'signup_flow',\n",
              " 'secs_elapsed',\n",
              " 'date_account_created_day',\n",
              " 'date_account_created_month',\n",
              " 'date_account_created_year',\n",
              " 'timestamp_first_active_day',\n",
              " 'timestamp_first_active_month',\n",
              " 'timestamp_first_active_year',\n",
              " 'timestamp_first_active_hour',\n",
              " 'age_interv',\n",
              " 'gender_-unknown-',\n",
              " 'gender_FEMALE',\n",
              " 'gender_MALE',\n",
              " 'gender_OTHER',\n",
              " 'signup_method_basic',\n",
              " 'signup_method_facebook',\n",
              " 'signup_method_google',\n",
              " 'language_ca',\n",
              " 'language_cs',\n",
              " 'language_da',\n",
              " 'language_de',\n",
              " 'language_el',\n",
              " 'language_en',\n",
              " 'language_es',\n",
              " 'language_fi',\n",
              " 'language_fr',\n",
              " 'language_hu',\n",
              " 'language_id',\n",
              " 'language_is',\n",
              " 'language_it',\n",
              " 'language_ja',\n",
              " 'language_ko',\n",
              " 'language_nl',\n",
              " 'language_no',\n",
              " 'language_pl',\n",
              " 'language_pt',\n",
              " 'language_ru',\n",
              " 'language_sv',\n",
              " 'language_th',\n",
              " 'language_tr',\n",
              " 'language_zh',\n",
              " 'affiliate_channel_api',\n",
              " 'affiliate_channel_content',\n",
              " 'affiliate_channel_direct',\n",
              " 'affiliate_channel_other',\n",
              " 'affiliate_channel_remarketing',\n",
              " 'affiliate_channel_sem-brand',\n",
              " 'affiliate_channel_sem-non-brand',\n",
              " 'affiliate_channel_seo',\n",
              " 'affiliate_provider_baidu',\n",
              " 'affiliate_provider_bing',\n",
              " 'affiliate_provider_craigslist',\n",
              " 'affiliate_provider_daum',\n",
              " 'affiliate_provider_direct',\n",
              " 'affiliate_provider_email-marketing',\n",
              " 'affiliate_provider_facebook',\n",
              " 'affiliate_provider_facebook-open-graph',\n",
              " 'affiliate_provider_google',\n",
              " 'affiliate_provider_gsp',\n",
              " 'affiliate_provider_meetup',\n",
              " 'affiliate_provider_naver',\n",
              " 'affiliate_provider_other',\n",
              " 'affiliate_provider_padmapper',\n",
              " 'affiliate_provider_vast',\n",
              " 'affiliate_provider_yahoo',\n",
              " 'affiliate_provider_yandex',\n",
              " 'first_affiliate_tracked_linked',\n",
              " 'first_affiliate_tracked_local ops',\n",
              " 'first_affiliate_tracked_marketing',\n",
              " 'first_affiliate_tracked_omg',\n",
              " 'first_affiliate_tracked_product',\n",
              " 'first_affiliate_tracked_tracked-other',\n",
              " 'first_affiliate_tracked_untracked',\n",
              " 'signup_app_Android',\n",
              " 'signup_app_Moweb',\n",
              " 'signup_app_Web',\n",
              " 'signup_app_iOS',\n",
              " 'first_device_type_Android Phone',\n",
              " 'first_device_type_Android Tablet',\n",
              " 'first_device_type_Desktop (Other)',\n",
              " 'first_device_type_Mac Desktop',\n",
              " 'first_device_type_Other/Unknown',\n",
              " 'first_device_type_SmartPhone (Other)',\n",
              " 'first_device_type_Windows Desktop',\n",
              " 'first_device_type_iPad',\n",
              " 'first_device_type_iPhone',\n",
              " 'first_browser_-unknown-',\n",
              " 'first_browser_AOL Explorer',\n",
              " 'first_browser_Android Browser',\n",
              " 'first_browser_Apple Mail',\n",
              " 'first_browser_Avant Browser',\n",
              " 'first_browser_BlackBerry Browser',\n",
              " 'first_browser_Chrome',\n",
              " 'first_browser_Chrome Mobile',\n",
              " 'first_browser_Chromium',\n",
              " 'first_browser_CoolNovo',\n",
              " 'first_browser_Firefox',\n",
              " 'first_browser_Googlebot',\n",
              " 'first_browser_IE',\n",
              " 'first_browser_IE Mobile',\n",
              " 'first_browser_IceDragon',\n",
              " 'first_browser_IceWeasel',\n",
              " 'first_browser_Iron',\n",
              " 'first_browser_Maxthon',\n",
              " 'first_browser_Mobile Firefox',\n",
              " 'first_browser_Mobile Safari',\n",
              " 'first_browser_Mozilla',\n",
              " 'first_browser_Opera',\n",
              " 'first_browser_Opera Mini',\n",
              " 'first_browser_Outlook 2007',\n",
              " 'first_browser_Pale Moon',\n",
              " 'first_browser_RockMelt',\n",
              " 'first_browser_Safari',\n",
              " 'first_browser_SeaMonkey',\n",
              " 'first_browser_Silk',\n",
              " 'first_browser_SiteKiosk',\n",
              " 'first_browser_Sogou Explorer',\n",
              " 'first_browser_TenFourFox',\n",
              " 'first_browser_TheWorld Browser',\n",
              " 'first_browser_Yandex.Browser',\n",
              " 'first_browser_wOSBrowser',\n",
              " '-unknown-',\n",
              " 'Android App Unknown Phone/Tablet',\n",
              " 'Android Phone',\n",
              " 'Blackberry',\n",
              " 'Chromebook',\n",
              " 'Linux Desktop',\n",
              " 'Mac Desktop',\n",
              " 'Opera Phone',\n",
              " 'Tablet',\n",
              " 'Windows Desktop',\n",
              " 'Windows Phone',\n",
              " 'iPad Tablet',\n",
              " 'iPhone',\n",
              " 'iPodtouch']"
            ]
          },
          "metadata": {
            "tags": []
          },
          "execution_count": 90
        }
      ]
    },
    {
      "cell_type": "code",
      "metadata": {
        "colab": {
          "base_uri": "https://localhost:8080/"
        },
        "id": "9b60505c-4749-4994-bc73-cbc17bbf8e11",
        "outputId": "6d6ba3ba-1803-4c01-dff0-b4a3eb07b055"
      },
      "source": [
        "# data stacking\n",
        "\n",
        "data1_merge_tfidf = hstack((data1_merge,data1_merge_action_tfidf,data1_merge_action_type_tfidf,data1_merge_action_detail_tfidf)).tocsr()\n",
        "\n",
        "data2_merge_tfidf = hstack((data2_merge,data2_merge_action_tfidf,data2_merge_action_type_tfidf,data2_merge_action_detail_tfidf)).tocsr()\n",
        "\n",
        "print(\"Final Data matrix\")\n",
        "print(data1_merge_tfidf.shape)\n",
        "print(data2_merge_tfidf.shape)\n",
        "print(\"=\"*100)"
      ],
      "id": "9b60505c-4749-4994-bc73-cbc17bbf8e11",
      "execution_count": 91,
      "outputs": [
        {
          "output_type": "stream",
          "text": [
            "Final Data matrix\n",
            "(73815, 523)\n",
            "(62096, 523)\n",
            "====================================================================================================\n"
          ],
          "name": "stdout"
        }
      ]
    },
    {
      "cell_type": "code",
      "metadata": {
        "colab": {
          "base_uri": "https://localhost:8080/"
        },
        "id": "fecd6198-578c-4399-9ed6-c5c38e1f632f",
        "outputId": "6aa0bf56-3099-4f68-8b27-246453495133"
      },
      "source": [
        "col_lst.extend(action_feat)\n",
        "\n",
        "col_lst.extend(action_type_feat)\n",
        "\n",
        "col_lst.extend(action_detail_feat)\n",
        "\n",
        "\n",
        "len(col_lst)"
      ],
      "id": "fecd6198-578c-4399-9ed6-c5c38e1f632f",
      "execution_count": 92,
      "outputs": [
        {
          "output_type": "execute_result",
          "data": {
            "text/plain": [
              "523"
            ]
          },
          "metadata": {
            "tags": []
          },
          "execution_count": 92
        }
      ]
    },
    {
      "cell_type": "code",
      "metadata": {
        "id": "0c1568be-7e67-4206-a595-969a7a3cc13c"
      },
      "source": [
        "def save_sparse_csr(filename, array):\n",
        "    \n",
        "    \"\"\"\n",
        "    \n",
        "    Function takes csr matrix and stores it in single file.\n",
        "    \n",
        "    parameters:  filename, csr matrix\n",
        "        \n",
        "    \"\"\"\n",
        "    \n",
        "    np.savez(filename, data=array.data, indices=array.indices,\n",
        "             indptr=array.indptr, shape=array.shape)\n",
        "\n",
        "def load_sparse_csr(filename):\n",
        "    \n",
        "    \"\"\"\n",
        "    \n",
        "    Function takes filename and returns csr matrix .\n",
        "    \n",
        "    parameters:  filename\n",
        "    \n",
        "    returns: csr matrix\n",
        "    \n",
        "    \"\"\"\n",
        "    \n",
        "    loader = np.load(filename)\n",
        "    return csr_matrix((loader['data'], loader['indices'], loader['indptr']),\n",
        "                      shape=loader['shape'])"
      ],
      "id": "0c1568be-7e67-4206-a595-969a7a3cc13c",
      "execution_count": 93,
      "outputs": []
    },
    {
      "cell_type": "code",
      "metadata": {
        "id": "b34f9be8-f9f7-4906-aefd-6e483b288100"
      },
      "source": [
        "\n",
        "\n",
        "# saving to memory\n",
        "\n",
        "save_sparse_csr('/content/data1_merge_tfidf',data1_merge_tfidf)\n",
        "\n",
        "save_sparse_csr('/content/data2_merge_tfidf',data2_merge_tfidf)\n",
        "\n",
        "np.save('/content/y',y)\n",
        "\n",
        "with open(\"/content/col_lst.txt\", \"wb\") as fp:\n",
        "    \n",
        "    pickle.dump(col_lst, fp)\n",
        "    \n",
        "fp.close()\n",
        "\n",
        "with open(\"/content/lst_ohe_data1.txt\", \"wb\") as fp:\n",
        "    \n",
        "    pickle.dump(lst_ohe_data1, fp)\n",
        "    \n",
        "fp.close()\n",
        "\n",
        "pickle.dump(vectorizer_action, open(\"/content/vectorizer_action.pickle\", \"wb\"))\n",
        "\n",
        "pickle.dump(vectorizer_action_type, open(\"/content/vectorizer_action_type.pickle\", \"wb\"))\n",
        "\n",
        "pickle.dump(vectorizer_action_detail, open(\"/content/vectorizer_action_detail.pickle\", \"wb\"))\n",
        "\n",
        "session_df_concat.to_pickle('/content/session_df_concat.pickle')"
      ],
      "id": "b34f9be8-f9f7-4906-aefd-6e483b288100",
      "execution_count": 94,
      "outputs": []
    },
    {
      "cell_type": "code",
      "metadata": {
        "id": "dbaf68d6-4405-4d8d-931f-b5ffd238d996"
      },
      "source": [
        "# loading from memory\n",
        "\n",
        "data1_merge_tfidf = load_sparse_csr('/content/data1_merge_tfidf.npz')\n",
        "\n",
        "data2_merge_tfidf = load_sparse_csr('/content/data2_merge_tfidf.npz')\n",
        "\n",
        "y = np.load('/content/y.npy',allow_pickle=True)\n",
        "\n",
        "with open(\"/content/col_lst.txt\", \"rb\") as fp:\n",
        "    \n",
        "    col_lst = pickle.load(fp)\n",
        "    \n",
        "fp.close()\n",
        "\n",
        "with open(\"/content/lst_ohe_data1.txt\", \"rb\") as fp:\n",
        "    \n",
        "    lst_ohe_data1 = pickle.load(fp)\n",
        "    \n",
        "fp.close()\n",
        "\n",
        "vectorizer_action = pickle.load(open(\"/content/vectorizer_action.pickle\", \"rb\"))\n",
        "\n",
        "vectorizer_action_type = pickle.load(open(\"/content/vectorizer_action_type.pickle\", \"rb\"))\n",
        "\n",
        "vectorizer_action_detail = pickle.load(open(\"/content/vectorizer_action_detail.pickle\", \"rb\"))\n",
        "\n",
        "session_df_concat = pd.read_pickle('/content/session_df_concat.pickle')\n",
        "\n",
        "data1_merge_raw = pd.read_pickle('/content/data1_merge_raw.pickle')"
      ],
      "id": "dbaf68d6-4405-4d8d-931f-b5ffd238d996",
      "execution_count": 95,
      "outputs": []
    },
    {
      "cell_type": "code",
      "metadata": {
        "colab": {
          "base_uri": "https://localhost:8080/"
        },
        "id": "d9d871f8-9a7e-4af5-9276-e50c1e6ae46b",
        "outputId": "b201d172-bf3f-4ef6-a212-7e2f4ff87502"
      },
      "source": [
        "print(\"Final Data matrix\")\n",
        "print(data1_merge_tfidf.shape)\n",
        "print(data2_merge_tfidf.shape)\n",
        "print(y.shape)\n",
        "print(len(vectorizer_action.get_feature_names()))\n",
        "print(len(vectorizer_action_type.get_feature_names()))\n",
        "print(len(vectorizer_action_detail.get_feature_names()))\n",
        "print(session_df_concat.shape)\n",
        "print(data1_merge_raw.shape)\n",
        "print(len(col_lst))\n",
        "print(len(lst_ohe_data1))\n",
        "print(\"=\"*100)"
      ],
      "id": "d9d871f8-9a7e-4af5-9276-e50c1e6ae46b",
      "execution_count": 96,
      "outputs": [
        {
          "output_type": "stream",
          "text": [
            "Final Data matrix\n",
            "(73815, 523)\n",
            "(62096, 523)\n",
            "(73815,)\n",
            "256\n",
            "9\n",
            "122\n",
            "(135483, 6)\n",
            "(73815, 22)\n",
            "523\n",
            "10\n",
            "====================================================================================================\n"
          ],
          "name": "stdout"
        }
      ]
    },
    {
      "cell_type": "markdown",
      "metadata": {
        "id": "bcf1fcef-6996-46e3-bdb3-3891166fcf54"
      },
      "source": [
        "Modeling"
      ],
      "id": "bcf1fcef-6996-46e3-bdb3-3891166fcf54"
    },
    {
      "cell_type": "code",
      "metadata": {
        "id": "a86deb12-cc59-436f-9561-8d15d9291748"
      },
      "source": [
        "import pandas as pd\n",
        "import numpy as np\n",
        "import zipfile\n",
        "import os\n",
        "import seaborn as sns\n",
        "import matplotlib.pyplot as plt\n",
        "import warnings\n",
        "warnings.filterwarnings(\"ignore\")\n",
        "import re\n",
        "from wordcloud import WordCloud\n",
        "from tqdm import tqdm\n",
        "from datetime import datetime, date\n",
        "from sklearn.feature_extraction.text import TfidfVectorizer\n",
        "from scipy.sparse import coo_matrix\n",
        "from scipy.sparse import hstack\n",
        "from scipy.sparse import vstack\n",
        "from scipy import sparse\n",
        "from scipy.sparse import csr_matrix\n",
        "from sklearn.preprocessing import OneHotEncoder\n",
        "from sklearn import metrics\n",
        "from sklearn.metrics import make_scorer\n",
        "from sklearn.model_selection import RandomizedSearchCV\n",
        "from sklearn.model_selection import GridSearchCV\n",
        "from sklearn.model_selection import train_test_split\n",
        "from sklearn.preprocessing import LabelBinarizer,LabelEncoder\n",
        "from scipy.stats import randint as sp_randint\n",
        "from sklearn import linear_model\n",
        "from sklearn.ensemble import RandomForestClassifier\n",
        "import xgboost as xgb\n",
        "import pickle\n",
        "import joblib\n",
        "from IPython.display import Image"
      ],
      "id": "a86deb12-cc59-436f-9561-8d15d9291748",
      "execution_count": 97,
      "outputs": []
    },
    {
      "cell_type": "code",
      "metadata": {
        "id": "271521be-c462-4779-b802-0da4305c2950"
      },
      "source": [
        "\n",
        "def load_sparse_csr(filename):\n",
        "    \n",
        "    \"\"\"\n",
        "    \n",
        "    Function takes filename and returns csr matrix .\n",
        "    \n",
        "    parameters:  filename\n",
        "    \n",
        "    returns: csr matrix\n",
        "    \n",
        "    \"\"\"\n",
        "    \n",
        "    loader = np.load(filename)\n",
        "    return csr_matrix((loader['data'], loader['indices'], loader['indptr']),\n",
        "                      shape=loader['shape'])"
      ],
      "id": "271521be-c462-4779-b802-0da4305c2950",
      "execution_count": 98,
      "outputs": []
    },
    {
      "cell_type": "code",
      "metadata": {
        "id": "0b7fee79-7d5b-438b-8265-70e4a51d3782"
      },
      "source": [
        "\n",
        "data1_merge_tfidf = load_sparse_csr('/content/data1_merge_tfidf.npz')\n",
        "\n",
        "data2_merge_tfidf = load_sparse_csr('/content/data2_merge_tfidf.npz')\n",
        "\n",
        "y = np.load('/content/y.npy', allow_pickle=True)\n",
        "\n",
        "with open(\"/content/col_lst.txt\", \"rb\") as fp:\n",
        "    \n",
        "    col_lst = pickle.load(fp)\n",
        "    \n",
        "fp.close()"
      ],
      "id": "0b7fee79-7d5b-438b-8265-70e4a51d3782",
      "execution_count": 99,
      "outputs": []
    },
    {
      "cell_type": "code",
      "metadata": {
        "colab": {
          "base_uri": "https://localhost:8080/"
        },
        "id": "645cce9a-5035-4d43-8bca-90fe3b77f228",
        "outputId": "d1912f32-d8d8-4d4e-a823-4c33871c619f"
      },
      "source": [
        "print(\"Final Data matrix\")\n",
        "print(data1_merge_tfidf.shape)\n",
        "print(data2_merge_tfidf.shape)\n",
        "print(y.shape)\n",
        "print(len(col_lst))\n",
        "print(\"=\"*100)"
      ],
      "id": "645cce9a-5035-4d43-8bca-90fe3b77f228",
      "execution_count": 100,
      "outputs": [
        {
          "output_type": "stream",
          "text": [
            "Final Data matrix\n",
            "(73815, 523)\n",
            "(62096, 523)\n",
            "(73815,)\n",
            "523\n",
            "====================================================================================================\n"
          ],
          "name": "stdout"
        }
      ]
    },
    {
      "cell_type": "code",
      "metadata": {
        "colab": {
          "base_uri": "https://localhost:8080/"
        },
        "id": "7612b0ed-501f-4dd8-a435-f3574cfac4dc",
        "outputId": "0cbc08e2-80dd-438a-819f-ec1cd2557d5b"
      },
      "source": [
        "\n",
        "le = LabelEncoder()\n",
        "\n",
        "y = le.fit_transform(y)\n",
        "\n",
        "y"
      ],
      "id": "7612b0ed-501f-4dd8-a435-f3574cfac4dc",
      "execution_count": 101,
      "outputs": [
        {
          "output_type": "execute_result",
          "data": {
            "text/plain": [
              "array([11,  7,  7, ...,  7,  7,  7])"
            ]
          },
          "metadata": {
            "tags": []
          },
          "execution_count": 101
        }
      ]
    },
    {
      "cell_type": "code",
      "metadata": {
        "id": "mSBxwlQb214i"
      },
      "source": [
        "\n",
        "\n",
        "def dcg_score(y_true, y_score, k=5):\n",
        "    \n",
        "    \"\"\"Discounted cumulative gain (DCG) at rank K.\n",
        "\n",
        "    Parameters\n",
        "    ----------\n",
        "    y_true : array, shape = [n_samples]\n",
        "        Ground truth (true relevance labels).\n",
        "    y_score : array, shape = [n_samples, n_classes]\n",
        "        Predicted scores.\n",
        "    k : int\n",
        "        Rank.\n",
        "\n",
        "    Returns\n",
        "    -------\n",
        "    score : float\n",
        "    \"\"\"\n",
        "    \n",
        "    order = np.argsort(y_score)[::-1]\n",
        "    y_true = np.take(y_true, order[:k])\n",
        "\n",
        "    gain = 2 ** y_true - 1\n",
        "\n",
        "    discounts = np.log2(np.arange(len(y_true)) + 2)\n",
        "    return np.sum(gain / discounts)\n",
        "\n",
        "\n",
        "def ndcg_score(ground_truth, predictions, k=5):\n",
        "    \n",
        "    \"\"\"Normalized discounted cumulative gain (NDCG) at rank K.\n",
        "\n",
        "    Normalized Discounted Cumulative Gain (NDCG) measures the performance of a\n",
        "    recommendation system based on the graded relevance of the recommended\n",
        "    entities. It varies from 0.0 to 1.0, with 1.0 representing the ideal\n",
        "    ranking of the entities.\n",
        "\n",
        "    Parameters\n",
        "    ----------\n",
        "    ground_truth : array, shape = [n_samples]\n",
        "        Ground truth (true labels represended as integers).\n",
        "    predictions : array, shape = [n_samples, n_classes]\n",
        "        Predicted probabilities.\n",
        "    k : int\n",
        "        Rank.\n",
        "\n",
        "    Returns\n",
        "    -------\n",
        "    score : float\n",
        "\n",
        "    Example\n",
        "    -------\n",
        "    >>> ground_truth = [1, 0, 2]\n",
        "    >>> predictions = [[0.15, 0.55, 0.2], [0.7, 0.2, 0.1], [0.06, 0.04, 0.9]]\n",
        "    >>> score = ndcg_score(ground_truth, predictions, k=2)\n",
        "    1.0\n",
        "    >>> predictions = [[0.9, 0.5, 0.8], [0.7, 0.2, 0.1], [0.06, 0.04, 0.9]]\n",
        "    >>> score = ndcg_score(ground_truth, predictions, k=2)\n",
        "    0.6666666666\n",
        "    \"\"\"\n",
        "    \n",
        "    lb = LabelBinarizer()\n",
        "    lb.fit(range(predictions.shape[1] + 1))\n",
        "    T = lb.transform(ground_truth)\n",
        "\n",
        "    scores = []\n",
        "\n",
        "    # Iterate over each y_true and compute the DCG score\n",
        "    for y_true, y_score in zip(T, predictions):\n",
        "        actual = dcg_score(y_true, y_score, k)\n",
        "        best = dcg_score(y_true, y_true, k)\n",
        "        score = float(actual) / float(best)\n",
        "        scores.append(score)\n",
        "\n",
        "    return np.mean(scores)\n",
        "\n",
        "\n",
        "# NDCG Scorer function\n",
        "ndcg_scorer = make_scorer(ndcg_score, needs_proba=True, k=5)"
      ],
      "id": "mSBxwlQb214i",
      "execution_count": 102,
      "outputs": []
    },
    {
      "cell_type": "markdown",
      "metadata": {
        "id": "N7-73AFb8vAL"
      },
      "source": [
        "Testing with Logistic Regression"
      ],
      "id": "N7-73AFb8vAL"
    },
    {
      "cell_type": "code",
      "metadata": {
        "id": "3M6858aS8pma"
      },
      "source": [
        "params =  {'C':[0.0001, 0.001, 0.01]}\n",
        "\n",
        "lr = linear_model.LogisticRegression(multi_class=\"multinomial\",solver=\"lbfgs\")\n",
        "\n",
        "clf = RandomizedSearchCV(lr, params, verbose=10, n_iter=3 ,n_jobs=-1,scoring=ndcg_scorer)"
      ],
      "id": "3M6858aS8pma",
      "execution_count": 103,
      "outputs": []
    },
    {
      "cell_type": "code",
      "metadata": {
        "colab": {
          "base_uri": "https://localhost:8080/"
        },
        "id": "xD6GI1QM8ps8",
        "outputId": "99e876d4-a5cc-4900-9d61-46ff3352ed37"
      },
      "source": [
        "clf.fit(data1_merge_tfidf,y)"
      ],
      "id": "xD6GI1QM8ps8",
      "execution_count": null,
      "outputs": [
        {
          "output_type": "stream",
          "text": [
            "Fitting 5 folds for each of 3 candidates, totalling 15 fits\n"
          ],
          "name": "stdout"
        },
        {
          "output_type": "stream",
          "text": [
            "[Parallel(n_jobs=-1)]: Using backend LokyBackend with 2 concurrent workers.\n",
            "[Parallel(n_jobs=-1)]: Done   1 tasks      | elapsed:   28.9s\n",
            "[Parallel(n_jobs=-1)]: Done   4 tasks      | elapsed:   59.7s\n"
          ],
          "name": "stderr"
        }
      ]
    },
    {
      "cell_type": "code",
      "metadata": {
        "id": "-CM5FaR582yR"
      },
      "source": [
        "pred_y = clf.predict_proba(data1_merge_tfidf)"
      ],
      "id": "-CM5FaR582yR",
      "execution_count": null,
      "outputs": []
    },
    {
      "cell_type": "code",
      "metadata": {
        "id": "IQDzSn57834w"
      },
      "source": [
        "clf.best_params_"
      ],
      "id": "IQDzSn57834w",
      "execution_count": null,
      "outputs": []
    },
    {
      "cell_type": "code",
      "metadata": {
        "id": "9uFaMglj84Yb"
      },
      "source": [
        "#data1 ndcg score\n",
        "\n",
        "s = ndcg_score(y, pred_y, k=5)\n",
        "\n",
        "s"
      ],
      "id": "9uFaMglj84Yb",
      "execution_count": null,
      "outputs": []
    },
    {
      "cell_type": "markdown",
      "metadata": {
        "id": "RC7kPwtD8_Dp"
      },
      "source": [
        "testing with Random Forest"
      ],
      "id": "RC7kPwtD8_Dp"
    },
    {
      "cell_type": "code",
      "metadata": {
        "id": "iqt286QR9CiK",
        "colab": {
          "base_uri": "https://localhost:8080/",
          "height": 231
        },
        "outputId": "d5181c29-5a56-4b4d-c1c8-7accf0f5d6f1"
      },
      "source": [
        "\n",
        "params = {\n",
        "'n_estimators' : [200, 700, 800, 1000, 1200],\n",
        "'max_depth' : [15, 20, 25, 30, 35, 50],\n",
        "'min_samples_split' : [2, 3, 5, 8],\n",
        "'min_samples_leaf' : [1, 2, 5, 10] }\n",
        "\n",
        "rf = RandomForestClassifier()\n",
        "\n",
        "clf = RandomizedSearchCV(rf, params, verbose=10,n_jobs=-1,scoring=ndcg_scorer)"
      ],
      "id": "iqt286QR9CiK",
      "execution_count": 1,
      "outputs": [
        {
          "output_type": "error",
          "ename": "NameError",
          "evalue": "ignored",
          "traceback": [
            "\u001b[0;31m---------------------------------------------------------------------------\u001b[0m",
            "\u001b[0;31mNameError\u001b[0m                                 Traceback (most recent call last)",
            "\u001b[0;32m<ipython-input-1-0e21372f9bdd>\u001b[0m in \u001b[0;36m<module>\u001b[0;34m()\u001b[0m\n\u001b[1;32m      6\u001b[0m 'min_samples_leaf' : [1, 2, 5, 10] }\n\u001b[1;32m      7\u001b[0m \u001b[0;34m\u001b[0m\u001b[0m\n\u001b[0;32m----> 8\u001b[0;31m \u001b[0mrf\u001b[0m \u001b[0;34m=\u001b[0m \u001b[0mRandomForestClassifier\u001b[0m\u001b[0;34m(\u001b[0m\u001b[0;34m)\u001b[0m\u001b[0;34m\u001b[0m\u001b[0;34m\u001b[0m\u001b[0m\n\u001b[0m\u001b[1;32m      9\u001b[0m \u001b[0;34m\u001b[0m\u001b[0m\n\u001b[1;32m     10\u001b[0m \u001b[0mclf\u001b[0m \u001b[0;34m=\u001b[0m \u001b[0mRandomizedSearchCV\u001b[0m\u001b[0;34m(\u001b[0m\u001b[0mrf\u001b[0m\u001b[0;34m,\u001b[0m \u001b[0mparams\u001b[0m\u001b[0;34m,\u001b[0m \u001b[0mverbose\u001b[0m\u001b[0;34m=\u001b[0m\u001b[0;36m10\u001b[0m\u001b[0;34m,\u001b[0m\u001b[0mn_jobs\u001b[0m\u001b[0;34m=\u001b[0m\u001b[0;34m-\u001b[0m\u001b[0;36m1\u001b[0m\u001b[0;34m,\u001b[0m\u001b[0mscoring\u001b[0m\u001b[0;34m=\u001b[0m\u001b[0mndcg_scorer\u001b[0m\u001b[0;34m)\u001b[0m\u001b[0;34m\u001b[0m\u001b[0;34m\u001b[0m\u001b[0m\n",
            "\u001b[0;31mNameError\u001b[0m: name 'RandomForestClassifier' is not defined"
          ]
        }
      ]
    },
    {
      "cell_type": "code",
      "metadata": {
        "colab": {
          "base_uri": "https://localhost:8080/",
          "height": 163
        },
        "id": "aLpcoeSI9CzS",
        "outputId": "815751d4-be2a-44c7-fadc-9cca81c302aa"
      },
      "source": [
        "clf.fit(data1_merge_tfidf,y)"
      ],
      "id": "aLpcoeSI9CzS",
      "execution_count": 2,
      "outputs": [
        {
          "output_type": "error",
          "ename": "NameError",
          "evalue": "ignored",
          "traceback": [
            "\u001b[0;31m---------------------------------------------------------------------------\u001b[0m",
            "\u001b[0;31mNameError\u001b[0m                                 Traceback (most recent call last)",
            "\u001b[0;32m<ipython-input-2-a18c2a613e36>\u001b[0m in \u001b[0;36m<module>\u001b[0;34m()\u001b[0m\n\u001b[0;32m----> 1\u001b[0;31m \u001b[0mclf\u001b[0m\u001b[0;34m.\u001b[0m\u001b[0mfit\u001b[0m\u001b[0;34m(\u001b[0m\u001b[0mdata1_merge_tfidf\u001b[0m\u001b[0;34m,\u001b[0m\u001b[0my\u001b[0m\u001b[0;34m)\u001b[0m\u001b[0;34m\u001b[0m\u001b[0;34m\u001b[0m\u001b[0m\n\u001b[0m",
            "\u001b[0;31mNameError\u001b[0m: name 'clf' is not defined"
          ]
        }
      ]
    },
    {
      "cell_type": "code",
      "metadata": {
        "id": "up5mCPNz9LXX"
      },
      "source": [
        "pred_y = clf.predict_proba(data1_merge_tfidf)"
      ],
      "id": "up5mCPNz9LXX",
      "execution_count": null,
      "outputs": []
    },
    {
      "cell_type": "code",
      "metadata": {
        "id": "2WJ_12sg9Ll3"
      },
      "source": [
        "clf.best_params_"
      ],
      "id": "2WJ_12sg9Ll3",
      "execution_count": null,
      "outputs": []
    },
    {
      "cell_type": "code",
      "metadata": {
        "id": "Jf1pCUOI9Lzq"
      },
      "source": [
        "#data1 ndcg score\n",
        "\n",
        "s = ndcg_score(y, pred_y, k=5)\n",
        "\n",
        "s"
      ],
      "id": "Jf1pCUOI9Lzq",
      "execution_count": null,
      "outputs": []
    },
    {
      "cell_type": "markdown",
      "metadata": {
        "id": "24iTCzM89TxT"
      },
      "source": [
        "testing with Xgboost"
      ],
      "id": "24iTCzM89TxT"
    },
    {
      "cell_type": "code",
      "metadata": {
        "id": "NqO1Tj7R9Vli"
      },
      "source": [
        "param_grid = {\n",
        "'max_depth': sp_randint(3, 20),\n",
        "'learning_rate': [0.001, 0.01, 0.1, 0.2],\n",
        "'subsample': [0.5, 0.6, 0.7, 0.8, 0.9, 1.0],\n",
        "'min_child_weight': [0.25,0.5, 1.0, 3.0, 5.0, 7.0],\n",
        "'gamma': [0, 0.25, 0.3,0.35,0.45,0.5,0.6,0.8,1.0],\n",
        "'reg_lambda': [0.1,0.2,0.4,0.5,0.6,0.8,1.0,10.0],\n",
        "'n_estimators':[100,200,500,1000,2000],\n",
        "'colsample_bytree':[0.1,0.3,0.5,1],\n",
        "'colsample_bylevel':[0.1,0.3,0.5,1]\n",
        "}\n",
        "\n",
        "\n",
        "gb = xgb.XGBClassifier(objective='multi:softmax',eval_metric= 'mlogloss')\n",
        "\n",
        "clf = RandomizedSearchCV(gb, param_grid,n_jobs=-1,verbose=10,scoring=ndcg_scorer, random_state=42)"
      ],
      "id": "NqO1Tj7R9Vli",
      "execution_count": null,
      "outputs": []
    },
    {
      "cell_type": "code",
      "metadata": {
        "id": "xMygnY719V3I"
      },
      "source": [
        "clf.fit(data1_merge_tfidf,y)"
      ],
      "id": "xMygnY719V3I",
      "execution_count": null,
      "outputs": []
    },
    {
      "cell_type": "code",
      "metadata": {
        "id": "68ZjU-ti9cs7"
      },
      "source": [
        "pred_y = clf.predict_proba(data1_merge_tfidf)"
      ],
      "id": "68ZjU-ti9cs7",
      "execution_count": null,
      "outputs": []
    },
    {
      "cell_type": "code",
      "metadata": {
        "id": "_BQ_F-nU9gRS"
      },
      "source": [
        "# data1 ndcg score\n",
        "\n",
        "s = ndcg_score(y, pred_y, k=5)\n",
        "\n",
        "s"
      ],
      "id": "_BQ_F-nU9gRS",
      "execution_count": null,
      "outputs": []
    },
    {
      "cell_type": "code",
      "metadata": {
        "id": "tLG1kZML9iHX"
      },
      "source": [
        "#feature importance\n",
        "\n",
        "features = col_lst\n",
        "importances = clf.feature_importances_\n",
        "indices = (np.argsort(importances))[-25:]\n",
        "plt.figure(figsize=(10,12))\n",
        "plt.title('Feature Importances')\n",
        "plt.barh(range(len(indices)), importances[indices], color='r', align='center')\n",
        "plt.yticks(range(len(indices)), [features[i] for i in indices])\n",
        "plt.xlabel('Relative Importance')\n",
        "plt.show()"
      ],
      "id": "tLG1kZML9iHX",
      "execution_count": null,
      "outputs": []
    }
  ]
}